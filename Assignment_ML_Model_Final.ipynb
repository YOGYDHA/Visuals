{
 "cells": [
  {
   "cell_type": "code",
   "execution_count": 1,
   "id": "9f970700",
   "metadata": {},
   "outputs": [],
   "source": [
    "# Load libraries\n",
    "%matplotlib inline\n",
    "import numpy as np\n",
    "import pandas as pd\n",
    "import matplotlib.pyplot as plt\n",
    "import seaborn as sns\n",
    "from sklearn.preprocessing import MinMaxScaler, StandardScaler"
   ]
  },
  {
   "cell_type": "markdown",
   "id": "18346a83",
   "metadata": {},
   "source": [
    "Reading Data"
   ]
  },
  {
   "cell_type": "code",
   "execution_count": 2,
   "id": "5c3cc938",
   "metadata": {},
   "outputs": [],
   "source": [
    "data = pd.read_csv(\"C:\\\\Users\\\\ydhav\\\\OneDrive - Auronova Consulting Solutions Private Limited\\\\Python_Practice\\Liquiloans\\\\Data\\\\bank-additional\\\\bank-additional\\\\bank-additional-full.csv\",sep =';')"
   ]
  },
  {
   "cell_type": "code",
   "execution_count": 3,
   "id": "412c98d4",
   "metadata": {},
   "outputs": [
    {
     "data": {
      "text/html": [
       "<div>\n",
       "<style scoped>\n",
       "    .dataframe tbody tr th:only-of-type {\n",
       "        vertical-align: middle;\n",
       "    }\n",
       "\n",
       "    .dataframe tbody tr th {\n",
       "        vertical-align: top;\n",
       "    }\n",
       "\n",
       "    .dataframe thead th {\n",
       "        text-align: right;\n",
       "    }\n",
       "</style>\n",
       "<table border=\"1\" class=\"dataframe\">\n",
       "  <thead>\n",
       "    <tr style=\"text-align: right;\">\n",
       "      <th></th>\n",
       "      <th>age</th>\n",
       "      <th>job</th>\n",
       "      <th>marital</th>\n",
       "      <th>education</th>\n",
       "      <th>default</th>\n",
       "      <th>housing</th>\n",
       "      <th>loan</th>\n",
       "      <th>contact</th>\n",
       "      <th>month</th>\n",
       "      <th>day_of_week</th>\n",
       "      <th>...</th>\n",
       "      <th>campaign</th>\n",
       "      <th>pdays</th>\n",
       "      <th>previous</th>\n",
       "      <th>poutcome</th>\n",
       "      <th>emp.var.rate</th>\n",
       "      <th>cons.price.idx</th>\n",
       "      <th>cons.conf.idx</th>\n",
       "      <th>euribor3m</th>\n",
       "      <th>nr.employed</th>\n",
       "      <th>y</th>\n",
       "    </tr>\n",
       "  </thead>\n",
       "  <tbody>\n",
       "    <tr>\n",
       "      <th>0</th>\n",
       "      <td>56</td>\n",
       "      <td>housemaid</td>\n",
       "      <td>married</td>\n",
       "      <td>basic.4y</td>\n",
       "      <td>no</td>\n",
       "      <td>no</td>\n",
       "      <td>no</td>\n",
       "      <td>telephone</td>\n",
       "      <td>may</td>\n",
       "      <td>mon</td>\n",
       "      <td>...</td>\n",
       "      <td>1</td>\n",
       "      <td>999</td>\n",
       "      <td>0</td>\n",
       "      <td>nonexistent</td>\n",
       "      <td>1.1</td>\n",
       "      <td>93.994</td>\n",
       "      <td>-36.4</td>\n",
       "      <td>4.857</td>\n",
       "      <td>5191.0</td>\n",
       "      <td>no</td>\n",
       "    </tr>\n",
       "    <tr>\n",
       "      <th>1</th>\n",
       "      <td>57</td>\n",
       "      <td>services</td>\n",
       "      <td>married</td>\n",
       "      <td>high.school</td>\n",
       "      <td>unknown</td>\n",
       "      <td>no</td>\n",
       "      <td>no</td>\n",
       "      <td>telephone</td>\n",
       "      <td>may</td>\n",
       "      <td>mon</td>\n",
       "      <td>...</td>\n",
       "      <td>1</td>\n",
       "      <td>999</td>\n",
       "      <td>0</td>\n",
       "      <td>nonexistent</td>\n",
       "      <td>1.1</td>\n",
       "      <td>93.994</td>\n",
       "      <td>-36.4</td>\n",
       "      <td>4.857</td>\n",
       "      <td>5191.0</td>\n",
       "      <td>no</td>\n",
       "    </tr>\n",
       "    <tr>\n",
       "      <th>2</th>\n",
       "      <td>37</td>\n",
       "      <td>services</td>\n",
       "      <td>married</td>\n",
       "      <td>high.school</td>\n",
       "      <td>no</td>\n",
       "      <td>yes</td>\n",
       "      <td>no</td>\n",
       "      <td>telephone</td>\n",
       "      <td>may</td>\n",
       "      <td>mon</td>\n",
       "      <td>...</td>\n",
       "      <td>1</td>\n",
       "      <td>999</td>\n",
       "      <td>0</td>\n",
       "      <td>nonexistent</td>\n",
       "      <td>1.1</td>\n",
       "      <td>93.994</td>\n",
       "      <td>-36.4</td>\n",
       "      <td>4.857</td>\n",
       "      <td>5191.0</td>\n",
       "      <td>no</td>\n",
       "    </tr>\n",
       "    <tr>\n",
       "      <th>3</th>\n",
       "      <td>40</td>\n",
       "      <td>admin.</td>\n",
       "      <td>married</td>\n",
       "      <td>basic.6y</td>\n",
       "      <td>no</td>\n",
       "      <td>no</td>\n",
       "      <td>no</td>\n",
       "      <td>telephone</td>\n",
       "      <td>may</td>\n",
       "      <td>mon</td>\n",
       "      <td>...</td>\n",
       "      <td>1</td>\n",
       "      <td>999</td>\n",
       "      <td>0</td>\n",
       "      <td>nonexistent</td>\n",
       "      <td>1.1</td>\n",
       "      <td>93.994</td>\n",
       "      <td>-36.4</td>\n",
       "      <td>4.857</td>\n",
       "      <td>5191.0</td>\n",
       "      <td>no</td>\n",
       "    </tr>\n",
       "    <tr>\n",
       "      <th>4</th>\n",
       "      <td>56</td>\n",
       "      <td>services</td>\n",
       "      <td>married</td>\n",
       "      <td>high.school</td>\n",
       "      <td>no</td>\n",
       "      <td>no</td>\n",
       "      <td>yes</td>\n",
       "      <td>telephone</td>\n",
       "      <td>may</td>\n",
       "      <td>mon</td>\n",
       "      <td>...</td>\n",
       "      <td>1</td>\n",
       "      <td>999</td>\n",
       "      <td>0</td>\n",
       "      <td>nonexistent</td>\n",
       "      <td>1.1</td>\n",
       "      <td>93.994</td>\n",
       "      <td>-36.4</td>\n",
       "      <td>4.857</td>\n",
       "      <td>5191.0</td>\n",
       "      <td>no</td>\n",
       "    </tr>\n",
       "  </tbody>\n",
       "</table>\n",
       "<p>5 rows × 21 columns</p>\n",
       "</div>"
      ],
      "text/plain": [
       "   age        job  marital    education  default housing loan    contact  \\\n",
       "0   56  housemaid  married     basic.4y       no      no   no  telephone   \n",
       "1   57   services  married  high.school  unknown      no   no  telephone   \n",
       "2   37   services  married  high.school       no     yes   no  telephone   \n",
       "3   40     admin.  married     basic.6y       no      no   no  telephone   \n",
       "4   56   services  married  high.school       no      no  yes  telephone   \n",
       "\n",
       "  month day_of_week  ...  campaign  pdays  previous     poutcome emp.var.rate  \\\n",
       "0   may         mon  ...         1    999         0  nonexistent          1.1   \n",
       "1   may         mon  ...         1    999         0  nonexistent          1.1   \n",
       "2   may         mon  ...         1    999         0  nonexistent          1.1   \n",
       "3   may         mon  ...         1    999         0  nonexistent          1.1   \n",
       "4   may         mon  ...         1    999         0  nonexistent          1.1   \n",
       "\n",
       "   cons.price.idx  cons.conf.idx  euribor3m  nr.employed   y  \n",
       "0          93.994          -36.4      4.857       5191.0  no  \n",
       "1          93.994          -36.4      4.857       5191.0  no  \n",
       "2          93.994          -36.4      4.857       5191.0  no  \n",
       "3          93.994          -36.4      4.857       5191.0  no  \n",
       "4          93.994          -36.4      4.857       5191.0  no  \n",
       "\n",
       "[5 rows x 21 columns]"
      ]
     },
     "execution_count": 3,
     "metadata": {},
     "output_type": "execute_result"
    }
   ],
   "source": [
    "data.head()"
   ]
  },
  {
   "cell_type": "code",
   "execution_count": 4,
   "id": "deb21000",
   "metadata": {},
   "outputs": [
    {
     "data": {
      "text/html": [
       "<div>\n",
       "<style scoped>\n",
       "    .dataframe tbody tr th:only-of-type {\n",
       "        vertical-align: middle;\n",
       "    }\n",
       "\n",
       "    .dataframe tbody tr th {\n",
       "        vertical-align: top;\n",
       "    }\n",
       "\n",
       "    .dataframe thead th {\n",
       "        text-align: right;\n",
       "    }\n",
       "</style>\n",
       "<table border=\"1\" class=\"dataframe\">\n",
       "  <thead>\n",
       "    <tr style=\"text-align: right;\">\n",
       "      <th></th>\n",
       "      <th>age</th>\n",
       "      <th>duration</th>\n",
       "      <th>campaign</th>\n",
       "      <th>pdays</th>\n",
       "      <th>previous</th>\n",
       "      <th>emp.var.rate</th>\n",
       "      <th>cons.price.idx</th>\n",
       "      <th>cons.conf.idx</th>\n",
       "      <th>euribor3m</th>\n",
       "      <th>nr.employed</th>\n",
       "    </tr>\n",
       "  </thead>\n",
       "  <tbody>\n",
       "    <tr>\n",
       "      <th>count</th>\n",
       "      <td>41188.00000</td>\n",
       "      <td>41188.000000</td>\n",
       "      <td>41188.000000</td>\n",
       "      <td>41188.000000</td>\n",
       "      <td>41188.000000</td>\n",
       "      <td>41188.000000</td>\n",
       "      <td>41188.000000</td>\n",
       "      <td>41188.000000</td>\n",
       "      <td>41188.000000</td>\n",
       "      <td>41188.000000</td>\n",
       "    </tr>\n",
       "    <tr>\n",
       "      <th>mean</th>\n",
       "      <td>40.02406</td>\n",
       "      <td>258.285010</td>\n",
       "      <td>2.567593</td>\n",
       "      <td>962.475454</td>\n",
       "      <td>0.172963</td>\n",
       "      <td>0.081886</td>\n",
       "      <td>93.575664</td>\n",
       "      <td>-40.502600</td>\n",
       "      <td>3.621291</td>\n",
       "      <td>5167.035911</td>\n",
       "    </tr>\n",
       "    <tr>\n",
       "      <th>std</th>\n",
       "      <td>10.42125</td>\n",
       "      <td>259.279249</td>\n",
       "      <td>2.770014</td>\n",
       "      <td>186.910907</td>\n",
       "      <td>0.494901</td>\n",
       "      <td>1.570960</td>\n",
       "      <td>0.578840</td>\n",
       "      <td>4.628198</td>\n",
       "      <td>1.734447</td>\n",
       "      <td>72.251528</td>\n",
       "    </tr>\n",
       "    <tr>\n",
       "      <th>min</th>\n",
       "      <td>17.00000</td>\n",
       "      <td>0.000000</td>\n",
       "      <td>1.000000</td>\n",
       "      <td>0.000000</td>\n",
       "      <td>0.000000</td>\n",
       "      <td>-3.400000</td>\n",
       "      <td>92.201000</td>\n",
       "      <td>-50.800000</td>\n",
       "      <td>0.634000</td>\n",
       "      <td>4963.600000</td>\n",
       "    </tr>\n",
       "    <tr>\n",
       "      <th>25%</th>\n",
       "      <td>32.00000</td>\n",
       "      <td>102.000000</td>\n",
       "      <td>1.000000</td>\n",
       "      <td>999.000000</td>\n",
       "      <td>0.000000</td>\n",
       "      <td>-1.800000</td>\n",
       "      <td>93.075000</td>\n",
       "      <td>-42.700000</td>\n",
       "      <td>1.344000</td>\n",
       "      <td>5099.100000</td>\n",
       "    </tr>\n",
       "    <tr>\n",
       "      <th>50%</th>\n",
       "      <td>38.00000</td>\n",
       "      <td>180.000000</td>\n",
       "      <td>2.000000</td>\n",
       "      <td>999.000000</td>\n",
       "      <td>0.000000</td>\n",
       "      <td>1.100000</td>\n",
       "      <td>93.749000</td>\n",
       "      <td>-41.800000</td>\n",
       "      <td>4.857000</td>\n",
       "      <td>5191.000000</td>\n",
       "    </tr>\n",
       "    <tr>\n",
       "      <th>75%</th>\n",
       "      <td>47.00000</td>\n",
       "      <td>319.000000</td>\n",
       "      <td>3.000000</td>\n",
       "      <td>999.000000</td>\n",
       "      <td>0.000000</td>\n",
       "      <td>1.400000</td>\n",
       "      <td>93.994000</td>\n",
       "      <td>-36.400000</td>\n",
       "      <td>4.961000</td>\n",
       "      <td>5228.100000</td>\n",
       "    </tr>\n",
       "    <tr>\n",
       "      <th>max</th>\n",
       "      <td>98.00000</td>\n",
       "      <td>4918.000000</td>\n",
       "      <td>56.000000</td>\n",
       "      <td>999.000000</td>\n",
       "      <td>7.000000</td>\n",
       "      <td>1.400000</td>\n",
       "      <td>94.767000</td>\n",
       "      <td>-26.900000</td>\n",
       "      <td>5.045000</td>\n",
       "      <td>5228.100000</td>\n",
       "    </tr>\n",
       "  </tbody>\n",
       "</table>\n",
       "</div>"
      ],
      "text/plain": [
       "               age      duration      campaign         pdays      previous  \\\n",
       "count  41188.00000  41188.000000  41188.000000  41188.000000  41188.000000   \n",
       "mean      40.02406    258.285010      2.567593    962.475454      0.172963   \n",
       "std       10.42125    259.279249      2.770014    186.910907      0.494901   \n",
       "min       17.00000      0.000000      1.000000      0.000000      0.000000   \n",
       "25%       32.00000    102.000000      1.000000    999.000000      0.000000   \n",
       "50%       38.00000    180.000000      2.000000    999.000000      0.000000   \n",
       "75%       47.00000    319.000000      3.000000    999.000000      0.000000   \n",
       "max       98.00000   4918.000000     56.000000    999.000000      7.000000   \n",
       "\n",
       "       emp.var.rate  cons.price.idx  cons.conf.idx     euribor3m   nr.employed  \n",
       "count  41188.000000    41188.000000   41188.000000  41188.000000  41188.000000  \n",
       "mean       0.081886       93.575664     -40.502600      3.621291   5167.035911  \n",
       "std        1.570960        0.578840       4.628198      1.734447     72.251528  \n",
       "min       -3.400000       92.201000     -50.800000      0.634000   4963.600000  \n",
       "25%       -1.800000       93.075000     -42.700000      1.344000   5099.100000  \n",
       "50%        1.100000       93.749000     -41.800000      4.857000   5191.000000  \n",
       "75%        1.400000       93.994000     -36.400000      4.961000   5228.100000  \n",
       "max        1.400000       94.767000     -26.900000      5.045000   5228.100000  "
      ]
     },
     "execution_count": 4,
     "metadata": {},
     "output_type": "execute_result"
    }
   ],
   "source": [
    "data.describe()"
   ]
  },
  {
   "cell_type": "code",
   "execution_count": 5,
   "id": "7bc79ba6",
   "metadata": {},
   "outputs": [
    {
     "data": {
      "text/plain": [
       "age                 int64\n",
       "job                object\n",
       "marital            object\n",
       "education          object\n",
       "default            object\n",
       "housing            object\n",
       "loan               object\n",
       "contact            object\n",
       "month              object\n",
       "day_of_week        object\n",
       "duration            int64\n",
       "campaign            int64\n",
       "pdays               int64\n",
       "previous            int64\n",
       "poutcome           object\n",
       "emp.var.rate      float64\n",
       "cons.price.idx    float64\n",
       "cons.conf.idx     float64\n",
       "euribor3m         float64\n",
       "nr.employed       float64\n",
       "y                  object\n",
       "dtype: object"
      ]
     },
     "execution_count": 5,
     "metadata": {},
     "output_type": "execute_result"
    }
   ],
   "source": [
    "data.dtypes"
   ]
  },
  {
   "cell_type": "code",
   "execution_count": 6,
   "id": "ebe909ad",
   "metadata": {},
   "outputs": [
    {
     "name": "stdout",
     "output_type": "stream",
     "text": [
      "<class 'pandas.core.frame.DataFrame'>\n",
      "RangeIndex: 41188 entries, 0 to 41187\n",
      "Data columns (total 21 columns):\n",
      " #   Column          Non-Null Count  Dtype  \n",
      "---  ------          --------------  -----  \n",
      " 0   age             41188 non-null  int64  \n",
      " 1   job             41188 non-null  object \n",
      " 2   marital         41188 non-null  object \n",
      " 3   education       41188 non-null  object \n",
      " 4   default         41188 non-null  object \n",
      " 5   housing         41188 non-null  object \n",
      " 6   loan            41188 non-null  object \n",
      " 7   contact         41188 non-null  object \n",
      " 8   month           41188 non-null  object \n",
      " 9   day_of_week     41188 non-null  object \n",
      " 10  duration        41188 non-null  int64  \n",
      " 11  campaign        41188 non-null  int64  \n",
      " 12  pdays           41188 non-null  int64  \n",
      " 13  previous        41188 non-null  int64  \n",
      " 14  poutcome        41188 non-null  object \n",
      " 15  emp.var.rate    41188 non-null  float64\n",
      " 16  cons.price.idx  41188 non-null  float64\n",
      " 17  cons.conf.idx   41188 non-null  float64\n",
      " 18  euribor3m       41188 non-null  float64\n",
      " 19  nr.employed     41188 non-null  float64\n",
      " 20  y               41188 non-null  object \n",
      "dtypes: float64(5), int64(5), object(11)\n",
      "memory usage: 6.6+ MB\n"
     ]
    }
   ],
   "source": [
    "data.info()"
   ]
  },
  {
   "cell_type": "markdown",
   "id": "285cb276",
   "metadata": {},
   "source": [
    "Checking for duplicates"
   ]
  },
  {
   "cell_type": "code",
   "execution_count": 7,
   "id": "56c8246f",
   "metadata": {},
   "outputs": [
    {
     "data": {
      "text/plain": [
       "12"
      ]
     },
     "execution_count": 7,
     "metadata": {},
     "output_type": "execute_result"
    }
   ],
   "source": [
    "data.duplicated().sum()"
   ]
  },
  {
   "cell_type": "code",
   "execution_count": 8,
   "id": "514c338c",
   "metadata": {},
   "outputs": [],
   "source": [
    "# dropping duplicate values"
   ]
  },
  {
   "cell_type": "code",
   "execution_count": 9,
   "id": "51bac0f6",
   "metadata": {},
   "outputs": [],
   "source": [
    "data = data.drop_duplicates()"
   ]
  },
  {
   "cell_type": "code",
   "execution_count": 10,
   "id": "849000c0",
   "metadata": {},
   "outputs": [
    {
     "data": {
      "text/plain": [
       "(41176, 21)"
      ]
     },
     "execution_count": 10,
     "metadata": {},
     "output_type": "execute_result"
    }
   ],
   "source": [
    "data.shape"
   ]
  },
  {
   "cell_type": "code",
   "execution_count": 11,
   "id": "6e38ba80",
   "metadata": {},
   "outputs": [
    {
     "name": "stdout",
     "output_type": "stream",
     "text": [
      "<class 'pandas.core.frame.DataFrame'>\n",
      "Int64Index: 41176 entries, 0 to 41187\n",
      "Data columns (total 21 columns):\n",
      " #   Column          Non-Null Count  Dtype  \n",
      "---  ------          --------------  -----  \n",
      " 0   age             41176 non-null  int64  \n",
      " 1   job             41176 non-null  object \n",
      " 2   marital         41176 non-null  object \n",
      " 3   education       41176 non-null  object \n",
      " 4   default         41176 non-null  object \n",
      " 5   housing         41176 non-null  object \n",
      " 6   loan            41176 non-null  object \n",
      " 7   contact         41176 non-null  object \n",
      " 8   month           41176 non-null  object \n",
      " 9   day_of_week     41176 non-null  object \n",
      " 10  duration        41176 non-null  int64  \n",
      " 11  campaign        41176 non-null  int64  \n",
      " 12  pdays           41176 non-null  int64  \n",
      " 13  previous        41176 non-null  int64  \n",
      " 14  poutcome        41176 non-null  object \n",
      " 15  emp.var.rate    41176 non-null  float64\n",
      " 16  cons.price.idx  41176 non-null  float64\n",
      " 17  cons.conf.idx   41176 non-null  float64\n",
      " 18  euribor3m       41176 non-null  float64\n",
      " 19  nr.employed     41176 non-null  float64\n",
      " 20  y               41176 non-null  object \n",
      "dtypes: float64(5), int64(5), object(11)\n",
      "memory usage: 6.9+ MB\n"
     ]
    }
   ],
   "source": [
    "data.info()"
   ]
  },
  {
   "cell_type": "markdown",
   "id": "23c5eaaa",
   "metadata": {},
   "source": [
    "Segregating columns as numeric , categorical and target "
   ]
  },
  {
   "cell_type": "code",
   "execution_count": 12,
   "id": "45f8395d",
   "metadata": {},
   "outputs": [],
   "source": [
    "num_cols = [\"age\",\"campaign\",\"pdays\",\"previous\",\"emp.var.rate\",\"cons.price.idx\",\"cons.conf.idx\",\"euribor3m\",\"nr.employed\"]\n",
    "cat_cols =[\"job\",\"marital\",\"education\",\"default\",\"housing\",\"loan\",\"contact\",\"month\",\"day_of_week\",\"poutcome\"]\n",
    "target_cols =[\"y\"]"
   ]
  },
  {
   "cell_type": "code",
   "execution_count": 13,
   "id": "a35e3617",
   "metadata": {},
   "outputs": [
    {
     "data": {
      "text/plain": [
       "['age',\n",
       " 'campaign',\n",
       " 'pdays',\n",
       " 'previous',\n",
       " 'emp.var.rate',\n",
       " 'cons.price.idx',\n",
       " 'cons.conf.idx',\n",
       " 'euribor3m',\n",
       " 'nr.employed']"
      ]
     },
     "execution_count": 13,
     "metadata": {},
     "output_type": "execute_result"
    }
   ],
   "source": [
    "num_cols"
   ]
  },
  {
   "cell_type": "code",
   "execution_count": 14,
   "id": "3bb332eb",
   "metadata": {},
   "outputs": [
    {
     "data": {
      "text/plain": [
       "['job',\n",
       " 'marital',\n",
       " 'education',\n",
       " 'default',\n",
       " 'housing',\n",
       " 'loan',\n",
       " 'contact',\n",
       " 'month',\n",
       " 'day_of_week',\n",
       " 'poutcome']"
      ]
     },
     "execution_count": 14,
     "metadata": {},
     "output_type": "execute_result"
    }
   ],
   "source": [
    "cat_cols"
   ]
  },
  {
   "cell_type": "code",
   "execution_count": 15,
   "id": "44dcd2e8",
   "metadata": {},
   "outputs": [],
   "source": [
    "num_cols1 = num_cols.copy()\n",
    "cat_cols1 = cat_cols.copy()"
   ]
  },
  {
   "cell_type": "code",
   "execution_count": 16,
   "id": "6a860f7d",
   "metadata": {},
   "outputs": [
    {
     "data": {
      "text/plain": [
       "['age',\n",
       " 'campaign',\n",
       " 'pdays',\n",
       " 'previous',\n",
       " 'emp.var.rate',\n",
       " 'cons.price.idx',\n",
       " 'cons.conf.idx',\n",
       " 'euribor3m',\n",
       " 'nr.employed']"
      ]
     },
     "execution_count": 16,
     "metadata": {},
     "output_type": "execute_result"
    }
   ],
   "source": [
    "num_cols1"
   ]
  },
  {
   "cell_type": "code",
   "execution_count": 17,
   "id": "6545a3c7",
   "metadata": {},
   "outputs": [
    {
     "data": {
      "text/plain": [
       "['job',\n",
       " 'marital',\n",
       " 'education',\n",
       " 'default',\n",
       " 'housing',\n",
       " 'loan',\n",
       " 'contact',\n",
       " 'month',\n",
       " 'day_of_week',\n",
       " 'poutcome']"
      ]
     },
     "execution_count": 17,
     "metadata": {},
     "output_type": "execute_result"
    }
   ],
   "source": [
    "cat_cols1 "
   ]
  },
  {
   "cell_type": "code",
   "execution_count": 18,
   "id": "3c8a1852",
   "metadata": {},
   "outputs": [],
   "source": [
    "num_cols1.append(\"y\")\n",
    "cat_cols1.append(\"y\")"
   ]
  },
  {
   "cell_type": "code",
   "execution_count": 19,
   "id": "df1b68b1",
   "metadata": {},
   "outputs": [
    {
     "data": {
      "text/plain": [
       "['age',\n",
       " 'campaign',\n",
       " 'pdays',\n",
       " 'previous',\n",
       " 'emp.var.rate',\n",
       " 'cons.price.idx',\n",
       " 'cons.conf.idx',\n",
       " 'euribor3m',\n",
       " 'nr.employed',\n",
       " 'y']"
      ]
     },
     "execution_count": 19,
     "metadata": {},
     "output_type": "execute_result"
    }
   ],
   "source": [
    "num_cols1"
   ]
  },
  {
   "cell_type": "code",
   "execution_count": 20,
   "id": "7c0ed94a",
   "metadata": {},
   "outputs": [
    {
     "data": {
      "text/plain": [
       "['job',\n",
       " 'marital',\n",
       " 'education',\n",
       " 'default',\n",
       " 'housing',\n",
       " 'loan',\n",
       " 'contact',\n",
       " 'month',\n",
       " 'day_of_week',\n",
       " 'poutcome',\n",
       " 'y']"
      ]
     },
     "execution_count": 20,
     "metadata": {},
     "output_type": "execute_result"
    }
   ],
   "source": [
    "cat_cols1"
   ]
  },
  {
   "cell_type": "code",
   "execution_count": 21,
   "id": "a0886dd7",
   "metadata": {},
   "outputs": [
    {
     "data": {
      "text/plain": [
       "no     36537\n",
       "yes     4639\n",
       "Name: y, dtype: int64"
      ]
     },
     "execution_count": 21,
     "metadata": {},
     "output_type": "execute_result"
    }
   ],
   "source": [
    "data['y'].value_counts()"
   ]
  },
  {
   "cell_type": "code",
   "execution_count": 22,
   "id": "3918a19f",
   "metadata": {},
   "outputs": [
    {
     "data": {
      "text/html": [
       "<div>\n",
       "<style scoped>\n",
       "    .dataframe tbody tr th:only-of-type {\n",
       "        vertical-align: middle;\n",
       "    }\n",
       "\n",
       "    .dataframe tbody tr th {\n",
       "        vertical-align: top;\n",
       "    }\n",
       "\n",
       "    .dataframe thead th {\n",
       "        text-align: right;\n",
       "    }\n",
       "</style>\n",
       "<table border=\"1\" class=\"dataframe\">\n",
       "  <thead>\n",
       "    <tr style=\"text-align: right;\">\n",
       "      <th></th>\n",
       "      <th>age</th>\n",
       "      <th>job</th>\n",
       "      <th>marital</th>\n",
       "      <th>education</th>\n",
       "      <th>default</th>\n",
       "      <th>housing</th>\n",
       "      <th>loan</th>\n",
       "      <th>contact</th>\n",
       "      <th>month</th>\n",
       "      <th>day_of_week</th>\n",
       "      <th>...</th>\n",
       "      <th>campaign</th>\n",
       "      <th>pdays</th>\n",
       "      <th>previous</th>\n",
       "      <th>poutcome</th>\n",
       "      <th>emp.var.rate</th>\n",
       "      <th>cons.price.idx</th>\n",
       "      <th>cons.conf.idx</th>\n",
       "      <th>euribor3m</th>\n",
       "      <th>nr.employed</th>\n",
       "      <th>y</th>\n",
       "    </tr>\n",
       "  </thead>\n",
       "  <tbody>\n",
       "    <tr>\n",
       "      <th>41183</th>\n",
       "      <td>73</td>\n",
       "      <td>retired</td>\n",
       "      <td>married</td>\n",
       "      <td>professional.course</td>\n",
       "      <td>no</td>\n",
       "      <td>yes</td>\n",
       "      <td>no</td>\n",
       "      <td>cellular</td>\n",
       "      <td>nov</td>\n",
       "      <td>fri</td>\n",
       "      <td>...</td>\n",
       "      <td>1</td>\n",
       "      <td>999</td>\n",
       "      <td>0</td>\n",
       "      <td>nonexistent</td>\n",
       "      <td>-1.1</td>\n",
       "      <td>94.767</td>\n",
       "      <td>-50.8</td>\n",
       "      <td>1.028</td>\n",
       "      <td>4963.6</td>\n",
       "      <td>yes</td>\n",
       "    </tr>\n",
       "    <tr>\n",
       "      <th>41184</th>\n",
       "      <td>46</td>\n",
       "      <td>blue-collar</td>\n",
       "      <td>married</td>\n",
       "      <td>professional.course</td>\n",
       "      <td>no</td>\n",
       "      <td>no</td>\n",
       "      <td>no</td>\n",
       "      <td>cellular</td>\n",
       "      <td>nov</td>\n",
       "      <td>fri</td>\n",
       "      <td>...</td>\n",
       "      <td>1</td>\n",
       "      <td>999</td>\n",
       "      <td>0</td>\n",
       "      <td>nonexistent</td>\n",
       "      <td>-1.1</td>\n",
       "      <td>94.767</td>\n",
       "      <td>-50.8</td>\n",
       "      <td>1.028</td>\n",
       "      <td>4963.6</td>\n",
       "      <td>no</td>\n",
       "    </tr>\n",
       "    <tr>\n",
       "      <th>41185</th>\n",
       "      <td>56</td>\n",
       "      <td>retired</td>\n",
       "      <td>married</td>\n",
       "      <td>university.degree</td>\n",
       "      <td>no</td>\n",
       "      <td>yes</td>\n",
       "      <td>no</td>\n",
       "      <td>cellular</td>\n",
       "      <td>nov</td>\n",
       "      <td>fri</td>\n",
       "      <td>...</td>\n",
       "      <td>2</td>\n",
       "      <td>999</td>\n",
       "      <td>0</td>\n",
       "      <td>nonexistent</td>\n",
       "      <td>-1.1</td>\n",
       "      <td>94.767</td>\n",
       "      <td>-50.8</td>\n",
       "      <td>1.028</td>\n",
       "      <td>4963.6</td>\n",
       "      <td>no</td>\n",
       "    </tr>\n",
       "    <tr>\n",
       "      <th>41186</th>\n",
       "      <td>44</td>\n",
       "      <td>technician</td>\n",
       "      <td>married</td>\n",
       "      <td>professional.course</td>\n",
       "      <td>no</td>\n",
       "      <td>no</td>\n",
       "      <td>no</td>\n",
       "      <td>cellular</td>\n",
       "      <td>nov</td>\n",
       "      <td>fri</td>\n",
       "      <td>...</td>\n",
       "      <td>1</td>\n",
       "      <td>999</td>\n",
       "      <td>0</td>\n",
       "      <td>nonexistent</td>\n",
       "      <td>-1.1</td>\n",
       "      <td>94.767</td>\n",
       "      <td>-50.8</td>\n",
       "      <td>1.028</td>\n",
       "      <td>4963.6</td>\n",
       "      <td>yes</td>\n",
       "    </tr>\n",
       "    <tr>\n",
       "      <th>41187</th>\n",
       "      <td>74</td>\n",
       "      <td>retired</td>\n",
       "      <td>married</td>\n",
       "      <td>professional.course</td>\n",
       "      <td>no</td>\n",
       "      <td>yes</td>\n",
       "      <td>no</td>\n",
       "      <td>cellular</td>\n",
       "      <td>nov</td>\n",
       "      <td>fri</td>\n",
       "      <td>...</td>\n",
       "      <td>3</td>\n",
       "      <td>999</td>\n",
       "      <td>1</td>\n",
       "      <td>failure</td>\n",
       "      <td>-1.1</td>\n",
       "      <td>94.767</td>\n",
       "      <td>-50.8</td>\n",
       "      <td>1.028</td>\n",
       "      <td>4963.6</td>\n",
       "      <td>no</td>\n",
       "    </tr>\n",
       "  </tbody>\n",
       "</table>\n",
       "<p>5 rows × 21 columns</p>\n",
       "</div>"
      ],
      "text/plain": [
       "       age          job  marital            education default housing loan  \\\n",
       "41183   73      retired  married  professional.course      no     yes   no   \n",
       "41184   46  blue-collar  married  professional.course      no      no   no   \n",
       "41185   56      retired  married    university.degree      no     yes   no   \n",
       "41186   44   technician  married  professional.course      no      no   no   \n",
       "41187   74      retired  married  professional.course      no     yes   no   \n",
       "\n",
       "        contact month day_of_week  ...  campaign  pdays  previous  \\\n",
       "41183  cellular   nov         fri  ...         1    999         0   \n",
       "41184  cellular   nov         fri  ...         1    999         0   \n",
       "41185  cellular   nov         fri  ...         2    999         0   \n",
       "41186  cellular   nov         fri  ...         1    999         0   \n",
       "41187  cellular   nov         fri  ...         3    999         1   \n",
       "\n",
       "          poutcome emp.var.rate  cons.price.idx  cons.conf.idx  euribor3m  \\\n",
       "41183  nonexistent         -1.1          94.767          -50.8      1.028   \n",
       "41184  nonexistent         -1.1          94.767          -50.8      1.028   \n",
       "41185  nonexistent         -1.1          94.767          -50.8      1.028   \n",
       "41186  nonexistent         -1.1          94.767          -50.8      1.028   \n",
       "41187      failure         -1.1          94.767          -50.8      1.028   \n",
       "\n",
       "       nr.employed    y  \n",
       "41183       4963.6  yes  \n",
       "41184       4963.6   no  \n",
       "41185       4963.6   no  \n",
       "41186       4963.6  yes  \n",
       "41187       4963.6   no  \n",
       "\n",
       "[5 rows x 21 columns]"
      ]
     },
     "execution_count": 22,
     "metadata": {},
     "output_type": "execute_result"
    }
   ],
   "source": [
    "data.tail()"
   ]
  },
  {
   "cell_type": "code",
   "execution_count": 23,
   "id": "e1ca0924",
   "metadata": {},
   "outputs": [
    {
     "data": {
      "text/plain": [
       "age               0\n",
       "job               0\n",
       "marital           0\n",
       "education         0\n",
       "default           0\n",
       "housing           0\n",
       "loan              0\n",
       "contact           0\n",
       "month             0\n",
       "day_of_week       0\n",
       "duration          0\n",
       "campaign          0\n",
       "pdays             0\n",
       "previous          0\n",
       "poutcome          0\n",
       "emp.var.rate      0\n",
       "cons.price.idx    0\n",
       "cons.conf.idx     0\n",
       "euribor3m         0\n",
       "nr.employed       0\n",
       "y                 0\n",
       "dtype: int64"
      ]
     },
     "execution_count": 23,
     "metadata": {},
     "output_type": "execute_result"
    }
   ],
   "source": [
    "#checking for missing values in dataset\n",
    "data.isnull().sum()"
   ]
  },
  {
   "cell_type": "markdown",
   "id": "6503c048",
   "metadata": {},
   "source": [
    "# Drop \"duration\" input feature\n",
    "\n",
    "duration: last contact duration, in seconds (numeric). Important note:  this attribute highly affects the output target (e.g., if duration=0 then y=\"no\"). Yet, the duration is not known before a call is performed. Also, after the end of the call y is obviously known. Thus, this input should only be included for benchmark purposes and should be discarded if the intention is to have a realistic predictive model\n"
   ]
  },
  {
   "cell_type": "code",
   "execution_count": 24,
   "id": "164d4e48",
   "metadata": {},
   "outputs": [],
   "source": [
    "data = data.drop('duration',axis =1)"
   ]
  },
  {
   "cell_type": "code",
   "execution_count": 25,
   "id": "df647957",
   "metadata": {},
   "outputs": [
    {
     "data": {
      "text/plain": [
       "(41176, 20)"
      ]
     },
     "execution_count": 25,
     "metadata": {},
     "output_type": "execute_result"
    }
   ],
   "source": [
    "data.shape"
   ]
  },
  {
   "cell_type": "code",
   "execution_count": 26,
   "id": "35fe0da9",
   "metadata": {},
   "outputs": [
    {
     "name": "stdout",
     "output_type": "stream",
     "text": [
      "<class 'pandas.core.frame.DataFrame'>\n",
      "Int64Index: 41176 entries, 0 to 41187\n",
      "Data columns (total 20 columns):\n",
      " #   Column          Non-Null Count  Dtype  \n",
      "---  ------          --------------  -----  \n",
      " 0   age             41176 non-null  int64  \n",
      " 1   job             41176 non-null  object \n",
      " 2   marital         41176 non-null  object \n",
      " 3   education       41176 non-null  object \n",
      " 4   default         41176 non-null  object \n",
      " 5   housing         41176 non-null  object \n",
      " 6   loan            41176 non-null  object \n",
      " 7   contact         41176 non-null  object \n",
      " 8   month           41176 non-null  object \n",
      " 9   day_of_week     41176 non-null  object \n",
      " 10  campaign        41176 non-null  int64  \n",
      " 11  pdays           41176 non-null  int64  \n",
      " 12  previous        41176 non-null  int64  \n",
      " 13  poutcome        41176 non-null  object \n",
      " 14  emp.var.rate    41176 non-null  float64\n",
      " 15  cons.price.idx  41176 non-null  float64\n",
      " 16  cons.conf.idx   41176 non-null  float64\n",
      " 17  euribor3m       41176 non-null  float64\n",
      " 18  nr.employed     41176 non-null  float64\n",
      " 19  y               41176 non-null  object \n",
      "dtypes: float64(5), int64(4), object(11)\n",
      "memory usage: 6.6+ MB\n"
     ]
    }
   ],
   "source": [
    "data.info()"
   ]
  },
  {
   "cell_type": "markdown",
   "id": "96b6b96a",
   "metadata": {},
   "source": [
    "Univariate Analysis"
   ]
  },
  {
   "cell_type": "code",
   "execution_count": null,
   "id": "e1276498",
   "metadata": {},
   "outputs": [],
   "source": [
    "# Histogram Plot "
   ]
  },
  {
   "cell_type": "code",
   "execution_count": 27,
   "id": "6db4551c",
   "metadata": {},
   "outputs": [
    {
     "data": {
      "text/plain": [
       "<Axes: xlabel='nr.employed', ylabel='Count'>"
      ]
     },
     "execution_count": 27,
     "metadata": {},
     "output_type": "execute_result"
    },
    {
     "data": {
      "image/png": "[encoded data removed]",
      "text/plain": [
       "<Figure size 640x480 with 9 Axes>"
      ]
     },
     "metadata": {},
     "output_type": "display_data"
    }
   ],
   "source": [
    "fig,axes =plt.subplots(3,3)\n",
    "sns.histplot(data=data,x='age',ax=axes[0,0])\n",
    "sns.histplot(data=data,x='campaign',ax=axes[0,1])\n",
    "sns.histplot(data=data,x='pdays',ax=axes[0,2])\n",
    "sns.histplot(data=data,x='previous',ax=axes[1,0])\n",
    "sns.histplot(data=data,x='emp.var.rate',ax=axes[1,1])\n",
    "sns.histplot(data=data,x='cons.price.idx',ax=axes[1,2])\n",
    "sns.histplot(data=data,x='cons.conf.idx',ax=axes[2,0])\n",
    "sns.histplot(data=data,x='euribor3m',ax=axes[2,1])\n",
    "sns.histplot(data=data,x='nr.employed',ax=axes[2,2])"
   ]
  },
  {
   "cell_type": "code",
   "execution_count": 28,
   "id": "fbc32103",
   "metadata": {},
   "outputs": [
    {
     "name": "stderr",
     "output_type": "stream",
     "text": [
      "C:\\Users\\ydhav\\AppData\\Local\\Temp\\ipykernel_27316\\2758743352.py:2: UserWarning: \n",
      "\n",
      "`distplot` is a deprecated function and will be removed in seaborn v0.14.0.\n",
      "\n",
      "Please adapt your code to use either `displot` (a figure-level function with\n",
      "similar flexibility) or `histplot` (an axes-level function for histograms).\n",
      "\n",
      "For a guide to updating your code to use the new functions, please see\n",
      "https://gist.github.com/mwaskom/de44147ed2974457ad6372750bbe5751\n",
      "\n",
      "  sns.distplot(data['age'],ax=axes[0,0])\n",
      "C:\\Users\\ydhav\\AppData\\Local\\Temp\\ipykernel_27316\\2758743352.py:3: UserWarning: \n",
      "\n",
      "`distplot` is a deprecated function and will be removed in seaborn v0.14.0.\n",
      "\n",
      "Please adapt your code to use either `displot` (a figure-level function with\n",
      "similar flexibility) or `histplot` (an axes-level function for histograms).\n",
      "\n",
      "For a guide to updating your code to use the new functions, please see\n",
      "https://gist.github.com/mwaskom/de44147ed2974457ad6372750bbe5751\n",
      "\n",
      "  sns.distplot(data['campaign'],ax=axes[0,1])\n",
      "C:\\Users\\ydhav\\AppData\\Local\\Temp\\ipykernel_27316\\2758743352.py:4: UserWarning: \n",
      "\n",
      "`distplot` is a deprecated function and will be removed in seaborn v0.14.0.\n",
      "\n",
      "Please adapt your code to use either `displot` (a figure-level function with\n",
      "similar flexibility) or `histplot` (an axes-level function for histograms).\n",
      "\n",
      "For a guide to updating your code to use the new functions, please see\n",
      "https://gist.github.com/mwaskom/de44147ed2974457ad6372750bbe5751\n",
      "\n",
      "  sns.distplot(data['pdays'],ax=axes[0,2])\n",
      "C:\\Users\\ydhav\\AppData\\Local\\Temp\\ipykernel_27316\\2758743352.py:5: UserWarning: \n",
      "\n",
      "`distplot` is a deprecated function and will be removed in seaborn v0.14.0.\n",
      "\n",
      "Please adapt your code to use either `displot` (a figure-level function with\n",
      "similar flexibility) or `histplot` (an axes-level function for histograms).\n",
      "\n",
      "For a guide to updating your code to use the new functions, please see\n",
      "https://gist.github.com/mwaskom/de44147ed2974457ad6372750bbe5751\n",
      "\n",
      "  sns.distplot(data['previous'],ax=axes[1,0])\n",
      "C:\\Users\\ydhav\\AppData\\Local\\Temp\\ipykernel_27316\\2758743352.py:6: UserWarning: \n",
      "\n",
      "`distplot` is a deprecated function and will be removed in seaborn v0.14.0.\n",
      "\n",
      "Please adapt your code to use either `displot` (a figure-level function with\n",
      "similar flexibility) or `histplot` (an axes-level function for histograms).\n",
      "\n",
      "For a guide to updating your code to use the new functions, please see\n",
      "https://gist.github.com/mwaskom/de44147ed2974457ad6372750bbe5751\n",
      "\n",
      "  sns.distplot(data['emp.var.rate'],ax=axes[1,1])\n",
      "C:\\Users\\ydhav\\AppData\\Local\\Temp\\ipykernel_27316\\2758743352.py:7: UserWarning: \n",
      "\n",
      "`distplot` is a deprecated function and will be removed in seaborn v0.14.0.\n",
      "\n",
      "Please adapt your code to use either `displot` (a figure-level function with\n",
      "similar flexibility) or `histplot` (an axes-level function for histograms).\n",
      "\n",
      "For a guide to updating your code to use the new functions, please see\n",
      "https://gist.github.com/mwaskom/de44147ed2974457ad6372750bbe5751\n",
      "\n",
      "  sns.distplot(data['cons.price.idx'],ax=axes[1,2])\n",
      "C:\\Users\\ydhav\\AppData\\Local\\Temp\\ipykernel_27316\\2758743352.py:8: UserWarning: \n",
      "\n",
      "`distplot` is a deprecated function and will be removed in seaborn v0.14.0.\n",
      "\n",
      "Please adapt your code to use either `displot` (a figure-level function with\n",
      "similar flexibility) or `histplot` (an axes-level function for histograms).\n",
      "\n",
      "For a guide to updating your code to use the new functions, please see\n",
      "https://gist.github.com/mwaskom/de44147ed2974457ad6372750bbe5751\n",
      "\n",
      "  sns.distplot(data['cons.conf.idx'],ax=axes[2,0])\n",
      "C:\\Users\\ydhav\\AppData\\Local\\Temp\\ipykernel_27316\\2758743352.py:9: UserWarning: \n",
      "\n",
      "`distplot` is a deprecated function and will be removed in seaborn v0.14.0.\n",
      "\n",
      "Please adapt your code to use either `displot` (a figure-level function with\n",
      "similar flexibility) or `histplot` (an axes-level function for histograms).\n",
      "\n",
      "For a guide to updating your code to use the new functions, please see\n",
      "https://gist.github.com/mwaskom/de44147ed2974457ad6372750bbe5751\n",
      "\n",
      "  sns.distplot(data['euribor3m'],ax=axes[2,1])\n",
      "C:\\Users\\ydhav\\AppData\\Local\\Temp\\ipykernel_27316\\2758743352.py:10: UserWarning: \n",
      "\n",
      "`distplot` is a deprecated function and will be removed in seaborn v0.14.0.\n",
      "\n",
      "Please adapt your code to use either `displot` (a figure-level function with\n",
      "similar flexibility) or `histplot` (an axes-level function for histograms).\n",
      "\n",
      "For a guide to updating your code to use the new functions, please see\n",
      "https://gist.github.com/mwaskom/de44147ed2974457ad6372750bbe5751\n",
      "\n",
      "  sns.distplot(data['nr.employed'],ax=axes[2,2])\n"
     ]
    },
    {
     "data": {
      "text/plain": [
       "<Axes: xlabel='nr.employed', ylabel='Density'>"
      ]
     },
     "execution_count": 28,
     "metadata": {},
     "output_type": "execute_result"
    },
    {
     "data": {
      "image/png": "[encoded data removed]",
      "text/plain": [
       "<Figure size 640x480 with 9 Axes>"
      ]
     },
     "metadata": {},
     "output_type": "display_data"
    }
   ],
   "source": [
    "fig,axes =plt.subplots(3,3)\n",
    "sns.distplot(data['age'],ax=axes[0,0])\n",
    "sns.distplot(data['campaign'],ax=axes[0,1])\n",
    "sns.distplot(data['pdays'],ax=axes[0,2])\n",
    "sns.distplot(data['previous'],ax=axes[1,0])\n",
    "sns.distplot(data['emp.var.rate'],ax=axes[1,1])\n",
    "sns.distplot(data['cons.price.idx'],ax=axes[1,2])\n",
    "sns.distplot(data['cons.conf.idx'],ax=axes[2,0])\n",
    "sns.distplot(data['euribor3m'],ax=axes[2,1])\n",
    "sns.distplot(data['nr.employed'],ax=axes[2,2])"
   ]
  },
  {
   "cell_type": "code",
   "execution_count": 29,
   "id": "c9011cde",
   "metadata": {},
   "outputs": [
    {
     "data": {
      "text/plain": [
       "<Axes: xlabel='nr.employed'>"
      ]
     },
     "execution_count": 29,
     "metadata": {},
     "output_type": "execute_result"
    },
    {
     "data": {
      "image/png": "[encoded data removed]",
      "text/plain": [
       "<Figure size 640x480 with 9 Axes>"
      ]
     },
     "metadata": {},
     "output_type": "display_data"
    }
   ],
   "source": [
    "fig,axes =plt.subplots(3,3)\n",
    "sns.boxplot(data=data,x='age',ax=axes[0,0])\n",
    "sns.boxplot(data=data,x='campaign',ax=axes[0,1])\n",
    "sns.boxplot(data=data,x='pdays',ax=axes[0,2])\n",
    "sns.boxplot(data=data,x='previous',ax=axes[1,0])\n",
    "sns.boxplot(data=data,x='emp.var.rate',ax=axes[1,1])\n",
    "sns.boxplot(data=data,x='cons.price.idx',ax=axes[1,2])\n",
    "sns.boxplot(data=data,x='cons.conf.idx',ax=axes[2,0])\n",
    "sns.boxplot(data=data,x='euribor3m',ax=axes[2,1])\n",
    "sns.boxplot(data=data,x='nr.employed',ax=axes[2,2])"
   ]
  },
  {
   "cell_type": "markdown",
   "id": "af59ed12",
   "metadata": {},
   "source": [
    "Analysis of dependent variable - y "
   ]
  },
  {
   "cell_type": "code",
   "execution_count": 30,
   "id": "0d14170b",
   "metadata": {},
   "outputs": [
    {
     "data": {
      "text/plain": [
       "no     36537\n",
       "yes     4639\n",
       "Name: y, dtype: int64"
      ]
     },
     "execution_count": 30,
     "metadata": {},
     "output_type": "execute_result"
    }
   ],
   "source": [
    "#Frequency of 'y'\n",
    "data['y'].value_counts()"
   ]
  },
  {
   "cell_type": "code",
   "execution_count": 31,
   "id": "4573a9cd",
   "metadata": {},
   "outputs": [
    {
     "data": {
      "text/plain": [
       "<Axes: xlabel='y', ylabel='count'>"
      ]
     },
     "execution_count": 31,
     "metadata": {},
     "output_type": "execute_result"
    },
    {
     "data": {
      "image/png": "[encoded data removed]",
      "text/plain": [
       "<Figure size 640x480 with 1 Axes>"
      ]
     },
     "metadata": {},
     "output_type": "display_data"
    }
   ],
   "source": [
    "# Plotting the 'subscribed' frequency\n",
    "sns.countplot(data=data,x='y')"
   ]
  },
  {
   "cell_type": "code",
   "execution_count": 32,
   "id": "d8b1f763",
   "metadata": {},
   "outputs": [
    {
     "data": {
      "text/plain": [
       "no     0.887337\n",
       "yes    0.112663\n",
       "Name: y, dtype: float64"
      ]
     },
     "execution_count": 32,
     "metadata": {},
     "output_type": "execute_result"
    }
   ],
   "source": [
    "#Normalizing the frequency table of 'y' variable\n",
    "data['y'].value_counts(normalize=True)"
   ]
  },
  {
   "cell_type": "markdown",
   "id": "161c8dea",
   "metadata": {},
   "source": [
    "Analysing the 'Job' variable"
   ]
  },
  {
   "cell_type": "code",
   "execution_count": 33,
   "id": "29ad2898",
   "metadata": {},
   "outputs": [
    {
     "data": {
      "text/plain": [
       "admin.           10419\n",
       "blue-collar       9253\n",
       "technician        6739\n",
       "services          3967\n",
       "management        2924\n",
       "retired           1718\n",
       "entrepreneur      1456\n",
       "self-employed     1421\n",
       "housemaid         1060\n",
       "unemployed        1014\n",
       "student            875\n",
       "unknown            330\n",
       "Name: job, dtype: int64"
      ]
     },
     "execution_count": 33,
     "metadata": {},
     "output_type": "execute_result"
    }
   ],
   "source": [
    "#Frequency table\n",
    "data['job'].value_counts()"
   ]
  },
  {
   "cell_type": "code",
   "execution_count": 34,
   "id": "d2afc866",
   "metadata": {},
   "outputs": [
    {
     "data": {
      "image/png": "[encoded data removed]",
      "text/plain": [
       "<Figure size 1000x600 with 1 Axes>"
      ]
     },
     "metadata": {},
     "output_type": "display_data"
    }
   ],
   "source": [
    "# Plotting the job frequency table\n",
    "sns.set_context('paper')\n",
    "data['job'].value_counts().plot(kind='bar', figsize=(10,6));"
   ]
  },
  {
   "cell_type": "code",
   "execution_count": 36,
   "id": "e57d9a1e",
   "metadata": {},
   "outputs": [
    {
     "data": {
      "text/plain": [
       "<Axes: xlabel='count', ylabel='job'>"
      ]
     },
     "execution_count": 36,
     "metadata": {},
     "output_type": "execute_result"
    },
    {
     "data": {
      "image/png": "[encoded data removed]",
      "text/plain": [
       "<Figure size 640x480 with 1 Axes>"
      ]
     },
     "metadata": {},
     "output_type": "display_data"
    }
   ],
   "source": [
    "sns.countplot(data=data, y=\"job\", hue=\"y\")"
   ]
  },
  {
   "cell_type": "markdown",
   "id": "f53c6013",
   "metadata": {},
   "source": [
    "Analysing Marital variable"
   ]
  },
  {
   "cell_type": "code",
   "execution_count": 37,
   "id": "c6e2fc7b",
   "metadata": {},
   "outputs": [
    {
     "data": {
      "text/plain": [
       "<Axes: xlabel='count', ylabel='marital'>"
      ]
     },
     "execution_count": 37,
     "metadata": {},
     "output_type": "execute_result"
    },
    {
     "data": {
      "image/png": "[encoded data removed]",
      "text/plain": [
       "<Figure size 640x480 with 1 Axes>"
      ]
     },
     "metadata": {},
     "output_type": "display_data"
    }
   ],
   "source": [
    "sns.countplot(data=data, y=\"marital\", hue=\"y\")"
   ]
  },
  {
   "cell_type": "code",
   "execution_count": 38,
   "id": "8c5a09af",
   "metadata": {},
   "outputs": [
    {
     "data": {
      "text/plain": [
       "<Axes: xlabel='marital', ylabel='count'>"
      ]
     },
     "execution_count": 38,
     "metadata": {},
     "output_type": "execute_result"
    },
    {
     "data": {
      "image/png": "[encoded data removed]",
      "text/plain": [
       "<Figure size 640x480 with 1 Axes>"
      ]
     },
     "metadata": {},
     "output_type": "display_data"
    }
   ],
   "source": [
    "sns.countplot(data=data, x=\"marital\", hue=\"y\")"
   ]
  },
  {
   "cell_type": "markdown",
   "id": "44f62708",
   "metadata": {},
   "source": [
    "Analysing Education variable"
   ]
  },
  {
   "cell_type": "code",
   "execution_count": 39,
   "id": "3b844e70",
   "metadata": {},
   "outputs": [
    {
     "data": {
      "text/plain": [
       "<Axes: xlabel='count', ylabel='education'>"
      ]
     },
     "execution_count": 39,
     "metadata": {},
     "output_type": "execute_result"
    },
    {
     "data": {
      "image/png": "[encoded data removed]",
      "text/plain": [
       "<Figure size 640x480 with 1 Axes>"
      ]
     },
     "metadata": {},
     "output_type": "display_data"
    }
   ],
   "source": [
    "sns.countplot(data=data, y=\"education\", hue=\"y\")"
   ]
  },
  {
   "cell_type": "code",
   "execution_count": 40,
   "id": "71cc9a31",
   "metadata": {},
   "outputs": [
    {
     "data": {
      "text/plain": [
       "<Axes: xlabel='count', ylabel='default'>"
      ]
     },
     "execution_count": 40,
     "metadata": {},
     "output_type": "execute_result"
    },
    {
     "data": {
      "image/png": "[encoded data removed]",
      "text/plain": [
       "<Figure size 640x480 with 1 Axes>"
      ]
     },
     "metadata": {},
     "output_type": "display_data"
    }
   ],
   "source": [
    "sns.countplot(data=data, y=\"default\", hue=\"y\")"
   ]
  },
  {
   "cell_type": "markdown",
   "id": "57ef5e03",
   "metadata": {},
   "source": [
    "Analysing Housing variable "
   ]
  },
  {
   "cell_type": "code",
   "execution_count": 42,
   "id": "7520ca35",
   "metadata": {},
   "outputs": [
    {
     "data": {
      "text/plain": [
       "<Axes: xlabel='count', ylabel='housing'>"
      ]
     },
     "execution_count": 42,
     "metadata": {},
     "output_type": "execute_result"
    },
    {
     "data": {
      "image/png": "[encoded data removed]",
      "text/plain": [
       "<Figure size 640x480 with 1 Axes>"
      ]
     },
     "metadata": {},
     "output_type": "display_data"
    }
   ],
   "source": [
    "sns.countplot(data=data, y=\"housing\", hue=\"y\")"
   ]
  },
  {
   "cell_type": "markdown",
   "id": "666de695",
   "metadata": {},
   "source": [
    "Analysing loan variable "
   ]
  },
  {
   "cell_type": "code",
   "execution_count": 43,
   "id": "8a618c64",
   "metadata": {},
   "outputs": [
    {
     "data": {
      "text/plain": [
       "<Axes: xlabel='count', ylabel='loan'>"
      ]
     },
     "execution_count": 43,
     "metadata": {},
     "output_type": "execute_result"
    },
    {
     "data": {
      "image/png": "[encoded data removed]",
      "text/plain": [
       "<Figure size 640x480 with 1 Axes>"
      ]
     },
     "metadata": {},
     "output_type": "display_data"
    }
   ],
   "source": [
    "sns.countplot(data=data, y=\"loan\", hue=\"y\")"
   ]
  },
  {
   "cell_type": "markdown",
   "id": "bc04ec71",
   "metadata": {},
   "source": [
    "Analysing contact variable"
   ]
  },
  {
   "cell_type": "code",
   "execution_count": 44,
   "id": "56998ab8",
   "metadata": {},
   "outputs": [
    {
     "data": {
      "text/plain": [
       "<Axes: xlabel='count', ylabel='contact'>"
      ]
     },
     "execution_count": 44,
     "metadata": {},
     "output_type": "execute_result"
    },
    {
     "data": {
      "image/png": "[encoded data removed]",
      "text/plain": [
       "<Figure size 640x480 with 1 Axes>"
      ]
     },
     "metadata": {},
     "output_type": "display_data"
    }
   ],
   "source": [
    "sns.countplot(data=data, y=\"contact\", hue=\"y\")"
   ]
  },
  {
   "cell_type": "markdown",
   "id": "7b53419a",
   "metadata": {},
   "source": [
    "Analysing month variable"
   ]
  },
  {
   "cell_type": "code",
   "execution_count": 45,
   "id": "13b6e0fe",
   "metadata": {},
   "outputs": [
    {
     "data": {
      "text/plain": [
       "<Axes: xlabel='count', ylabel='month'>"
      ]
     },
     "execution_count": 45,
     "metadata": {},
     "output_type": "execute_result"
    },
    {
     "data": {
      "image/png": "[encoded data removed]",
      "text/plain": [
       "<Figure size 640x480 with 1 Axes>"
      ]
     },
     "metadata": {},
     "output_type": "display_data"
    }
   ],
   "source": [
    "sns.countplot(data=data, y=\"month\", hue=\"y\")"
   ]
  },
  {
   "cell_type": "markdown",
   "id": "70246399",
   "metadata": {},
   "source": [
    "Analysing day_of_week variable "
   ]
  },
  {
   "cell_type": "code",
   "execution_count": 46,
   "id": "ad64c89c",
   "metadata": {},
   "outputs": [
    {
     "data": {
      "text/plain": [
       "<Axes: xlabel='count', ylabel='day_of_week'>"
      ]
     },
     "execution_count": 46,
     "metadata": {},
     "output_type": "execute_result"
    },
    {
     "data": {
      "image/png": "[encoded data removed]",
      "text/plain": [
       "<Figure size 640x480 with 1 Axes>"
      ]
     },
     "metadata": {},
     "output_type": "display_data"
    }
   ],
   "source": [
    "sns.countplot(data=data, y=\"day_of_week\", hue=\"y\")"
   ]
  },
  {
   "cell_type": "markdown",
   "id": "21c66f4a",
   "metadata": {},
   "source": [
    "Analysing poutcome variable"
   ]
  },
  {
   "cell_type": "code",
   "execution_count": 47,
   "id": "613aeda2",
   "metadata": {},
   "outputs": [
    {
     "data": {
      "text/plain": [
       "<Axes: xlabel='count', ylabel='poutcome'>"
      ]
     },
     "execution_count": 47,
     "metadata": {},
     "output_type": "execute_result"
    },
    {
     "data": {
      "image/png": "[encoded data removed]",
      "text/plain": [
       "<Figure size 640x480 with 1 Axes>"
      ]
     },
     "metadata": {},
     "output_type": "display_data"
    }
   ],
   "source": [
    "sns.countplot(data=data, y=\"poutcome\", hue=\"y\")"
   ]
  },
  {
   "cell_type": "markdown",
   "id": "6d8b9440",
   "metadata": {},
   "source": [
    "Input Categorical feature Observation\n",
    "Job - More Job types are Admin , Technician and blue-collor and it means bank targeting high salaried people.\n",
    "2)Marital - more people of type married\n",
    "\n",
    "3)Education - more count in university.degree people . of course High salaried people should have university degree\n",
    "expected. And illiterate count is very less.\n",
    "\n",
    "4) default - most people have no credit default ,which means they can be approched .\n",
    "\n",
    "5) housing - we must give more importance to people who have not taken any housing loan.\n",
    "\n",
    "6)loan - we must give more importance to people who have not taken any loan.\n",
    "\n",
    "7) month - Seems May is busy season\n",
    "\n",
    "8) Day_of_week - Seems every day is busy but not on weekends.\n",
    "\n",
    "9) p_outcome -outcome of the previous marketing campaign- Success is small rate. "
   ]
  },
  {
   "cell_type": "code",
   "execution_count": 48,
   "id": "92db46e8",
   "metadata": {},
   "outputs": [],
   "source": [
    "# Converting the target variables into 0s and 1s\n",
    "data['y'].replace('no', 0,inplace=True)\n",
    "data['y'].replace('yes', 1,inplace=True)"
   ]
  },
  {
   "cell_type": "markdown",
   "id": "c527ae24",
   "metadata": {},
   "source": [
    "# Function to calculate IV and WOE for numerical variables "
   ]
  },
  {
   "cell_type": "code",
   "execution_count": 49,
   "id": "41f63ebf",
   "metadata": {},
   "outputs": [],
   "source": [
    "def iv_woe(data, target, bins=40, show_woe=True):\n",
    "    \n",
    "    #Empty Dataframe\n",
    "    newDF,woeDF = pd.DataFrame(), pd.DataFrame()\n",
    "    \n",
    "    #Extract Column Names\n",
    "    cols = data.columns\n",
    "\n",
    "    \n",
    "    #Run WOE and IV on all the independent variables\n",
    "    for ivars in cols[~cols.isin([target])]:\n",
    "        if (data[ivars].dtype.kind in 'bifc'):\n",
    "            d0 = pd.DataFrame({'x':data[ivars], 'decile': pd.qcut(data[ivars], bins, duplicates='drop') , 'y': data[target]})\n",
    "              \n",
    "        else:\n",
    "            d0 = pd.DataFrame({'x':data[ivars], 'decile': data[ivars], 'y': data[target]})\n",
    "        \n",
    "        d0['decile'] = np.where(d0['x'] == -555555, '-555555' ,d0['decile'])\n",
    "        d = d0.groupby('decile', as_index= False).agg({\"y\": [\"count\", \"sum\"]})\n",
    "        d3 = d0.assign(Min = d0['x'], Max = d0['x']).groupby('decile', as_index= False).agg({\"Min\": 'min', \"Max\":'max'})\n",
    "        \n",
    "        d.columns = ['decile', 'N', 'subscr']\n",
    "        d['pop_perc'] = (d['N']/d['N'].sum())*100\n",
    "        d['subscr_perc'] = d['subscr'] / d['subscr'].sum()\n",
    "        d['n_subscr'] = d['N'] - d['subscr']\n",
    "        d['n_subscr_perc'] = d['n_subscr']/ d['n_subscr'].sum()\n",
    "        d['subscr_rate'] =  (d['subscr']/d['N'])*100\n",
    "        d['woe'] = np.log(d['n_subscr_perc']/d['subscr_perc'])\n",
    "        d['diff_n_subscr_subscr_perc'] = d['n_subscr_perc'] - d['subscr_perc']\n",
    "        d['contribution'] = d['woe'] * d['diff_n_subscr_subscr_perc']\n",
    "        d['IV'] = d['contribution'].sum()\n",
    "        \n",
    "        d.insert(loc=0, column='Variable', value=ivars)\n",
    "        d4 = pd.merge(left=d, right=d3,on = 'decile', how='left')\n",
    "        \n",
    "        temp =pd.DataFrame({\"Variable\" : [ivars], \"IV\" : [d4['IV'].sum()]}, columns = [\"Variable\", \"IV\"])\n",
    "        newDF=pd.concat([newDF,temp], axis=0)\n",
    "        woeDF=pd.concat([woeDF,d4], axis=0)\n",
    "        woeDF.sort_values(['Variable','Max'], inplace = True)\n",
    "        woeDF = woeDF[['Variable','decile','subscr','n_subscr','Min','Max','pop_perc','subscr_rate','woe','contribution','IV']]\n",
    "\n",
    "\n",
    "        #Show WOE Table\n",
    "        if show_woe == True:\n",
    "            print(d4)\n",
    "    return newDF, woeDF"
   ]
  },
  {
   "cell_type": "markdown",
   "id": "a2fd9acb",
   "metadata": {},
   "source": [
    "# Function to calculate IV and WOE for categorical or integer variables"
   ]
  },
  {
   "cell_type": "code",
   "execution_count": 50,
   "id": "735a4b06",
   "metadata": {},
   "outputs": [],
   "source": [
    "def iv_woe1(data, target, show_woe=True):\n",
    "    \n",
    "    #Empty Dataframe\n",
    "    newDF,woeDF = pd.DataFrame(), pd.DataFrame()\n",
    "\n",
    "    #Extract Column Names\n",
    "    cols = data.columns\n",
    "\n",
    "    \n",
    "    #Run WOE and IV on all the independent variables\n",
    "    for ivars in cols[~cols.isin([target])]:\n",
    "\n",
    "        d0 = pd.DataFrame({'x':data[ivars], 'decile': data[ivars], 'y': data[target]})\n",
    "        \n",
    "        d0['decile'] = np.where(d0['x'] == -555555, '-555555' ,d0['decile'])\n",
    "        d = d0.groupby('decile', as_index= False).agg({\"y\": [\"count\", \"sum\"]})\n",
    "        d3 = d0.assign(Min = d0['x'], Max = d0['x']).groupby('decile', as_index= False).agg({\"Min\": 'min', \"Max\":'max'})\n",
    "        \n",
    "        d.columns = ['decile', 'N', 'subscr']\n",
    "        d['pop_perc'] = (d['N']/d['N'].sum())*100\n",
    "        d['subscr_perc'] = d['subscr'] / d['subscr'].sum()\n",
    "        d['n_subscr'] = d['N'] - d['subscr']\n",
    "        d['n_subscr_perc'] = d['n_subscr']/ d['n_subscr'].sum()\n",
    "        d['subscr_rate'] =  (d['subscr']/d['N'])*100\n",
    "        d['woe'] = np.log(d['n_subscr_perc']/d['subscr_perc'])\n",
    "        d['diff_n_subscr_subscr_perc'] = d['n_subscr_perc'] - d['subscr_perc']\n",
    "        d['contribution'] = d['woe'] * d['diff_n_subscr_subscr_perc']\n",
    "        d['IV'] = d['contribution'].sum()\n",
    "        \n",
    "        d.insert(loc=0, column='Variable', value=ivars)\n",
    "        d4 = pd.merge(left=d, right=d3,on = 'decile', how='left')\n",
    "        \n",
    "        temp =pd.DataFrame({\"Variable\" : [ivars], \"IV\" : [d4['IV'].sum()]}, columns = [\"Variable\", \"IV\"])\n",
    "        newDF=pd.concat([newDF,temp], axis=0)\n",
    "        woeDF=pd.concat([woeDF,d4], axis=0)\n",
    "        woeDF.sort_values(['Variable','Max'], inplace = True)\n",
    "        woeDF = woeDF[['Variable','decile','subscr','n_subscr','Min','Max','pop_perc','subscr_rate','woe','contribution','IV']]\n",
    "\n",
    "\n",
    "        #Show WOE Table\n",
    "        if show_woe == True:\n",
    "            print(d4)\n",
    "    return newDF, woeDF"
   ]
  },
  {
   "cell_type": "code",
   "execution_count": 51,
   "id": "6ddada30",
   "metadata": {},
   "outputs": [
    {
     "name": "stdout",
     "output_type": "stream",
     "text": [
      "<class 'pandas.core.frame.DataFrame'>\n",
      "Int64Index: 41176 entries, 0 to 41187\n",
      "Data columns (total 20 columns):\n",
      " #   Column          Non-Null Count  Dtype  \n",
      "---  ------          --------------  -----  \n",
      " 0   age             41176 non-null  int64  \n",
      " 1   job             41176 non-null  object \n",
      " 2   marital         41176 non-null  object \n",
      " 3   education       41176 non-null  object \n",
      " 4   default         41176 non-null  object \n",
      " 5   housing         41176 non-null  object \n",
      " 6   loan            41176 non-null  object \n",
      " 7   contact         41176 non-null  object \n",
      " 8   month           41176 non-null  object \n",
      " 9   day_of_week     41176 non-null  object \n",
      " 10  campaign        41176 non-null  int64  \n",
      " 11  pdays           41176 non-null  int64  \n",
      " 12  previous        41176 non-null  int64  \n",
      " 13  poutcome        41176 non-null  object \n",
      " 14  emp.var.rate    41176 non-null  float64\n",
      " 15  cons.price.idx  41176 non-null  float64\n",
      " 16  cons.conf.idx   41176 non-null  float64\n",
      " 17  euribor3m       41176 non-null  float64\n",
      " 18  nr.employed     41176 non-null  float64\n",
      " 19  y               41176 non-null  int64  \n",
      "dtypes: float64(5), int64(5), object(10)\n",
      "memory usage: 6.6+ MB\n"
     ]
    }
   ],
   "source": [
    "data.info()"
   ]
  },
  {
   "cell_type": "markdown",
   "id": "50e2d295",
   "metadata": {},
   "source": [
    "# Splitting data into training and testing "
   ]
  },
  {
   "cell_type": "code",
   "execution_count": 52,
   "id": "7e76b137",
   "metadata": {},
   "outputs": [
    {
     "data": {
      "text/plain": [
       "(41176, 20)"
      ]
     },
     "execution_count": 52,
     "metadata": {},
     "output_type": "execute_result"
    }
   ],
   "source": [
    "data.shape"
   ]
  },
  {
   "cell_type": "code",
   "execution_count": null,
   "id": "a9bb598e",
   "metadata": {},
   "outputs": [],
   "source": [
    "# Select Features "
   ]
  },
  {
   "cell_type": "code",
   "execution_count": 53,
   "id": "a8a3c96a",
   "metadata": {},
   "outputs": [],
   "source": [
    "feature = data.drop('y',axis =1)"
   ]
  },
  {
   "cell_type": "code",
   "execution_count": 54,
   "id": "47a1dabc",
   "metadata": {},
   "outputs": [
    {
     "data": {
      "text/plain": [
       "(41176, 19)"
      ]
     },
     "execution_count": 54,
     "metadata": {},
     "output_type": "execute_result"
    }
   ],
   "source": [
    "feature.shape"
   ]
  },
  {
   "cell_type": "code",
   "execution_count": 55,
   "id": "95971256",
   "metadata": {},
   "outputs": [],
   "source": [
    "#Select Target "
   ]
  },
  {
   "cell_type": "code",
   "execution_count": 56,
   "id": "819bac13",
   "metadata": {},
   "outputs": [],
   "source": [
    "target =data['y']"
   ]
  },
  {
   "cell_type": "code",
   "execution_count": 57,
   "id": "2841610a",
   "metadata": {},
   "outputs": [
    {
     "data": {
      "text/plain": [
       "(41176,)"
      ]
     },
     "execution_count": 57,
     "metadata": {},
     "output_type": "execute_result"
    }
   ],
   "source": [
    "target.shape"
   ]
  },
  {
   "cell_type": "code",
   "execution_count": 58,
   "id": "1b6c451a",
   "metadata": {},
   "outputs": [],
   "source": [
    "from sklearn.model_selection import train_test_split"
   ]
  },
  {
   "cell_type": "code",
   "execution_count": 59,
   "id": "d1501e8e",
   "metadata": {},
   "outputs": [],
   "source": [
    "train,test = train_test_split(data,random_state=100,stratify= data['y'],test_size =0.30)"
   ]
  },
  {
   "cell_type": "code",
   "execution_count": 60,
   "id": "4a8e845f",
   "metadata": {},
   "outputs": [
    {
     "data": {
      "text/plain": [
       "(28823, 20)"
      ]
     },
     "execution_count": 60,
     "metadata": {},
     "output_type": "execute_result"
    }
   ],
   "source": [
    "train.shape"
   ]
  },
  {
   "cell_type": "code",
   "execution_count": 61,
   "id": "42ea552d",
   "metadata": {},
   "outputs": [
    {
     "data": {
      "text/plain": [
       "(12353, 20)"
      ]
     },
     "execution_count": 61,
     "metadata": {},
     "output_type": "execute_result"
    }
   ],
   "source": [
    "test.shape"
   ]
  },
  {
   "cell_type": "code",
   "execution_count": 62,
   "id": "d3ee0daf",
   "metadata": {},
   "outputs": [],
   "source": [
    "X_train = train.loc[:, train.columns != 'y']"
   ]
  },
  {
   "cell_type": "code",
   "execution_count": 63,
   "id": "ae2de9ad",
   "metadata": {},
   "outputs": [
    {
     "data": {
      "text/plain": [
       "(28823, 19)"
      ]
     },
     "execution_count": 63,
     "metadata": {},
     "output_type": "execute_result"
    }
   ],
   "source": [
    "X_train.shape"
   ]
  },
  {
   "cell_type": "code",
   "execution_count": 64,
   "id": "2102cd53",
   "metadata": {},
   "outputs": [],
   "source": [
    "X_test = test.loc[:, test.columns != 'y']"
   ]
  },
  {
   "cell_type": "code",
   "execution_count": 65,
   "id": "204eee94",
   "metadata": {},
   "outputs": [
    {
     "data": {
      "text/plain": [
       "(12353, 19)"
      ]
     },
     "execution_count": 65,
     "metadata": {},
     "output_type": "execute_result"
    }
   ],
   "source": [
    "X_test.shape"
   ]
  },
  {
   "cell_type": "code",
   "execution_count": 66,
   "id": "faa09dfb",
   "metadata": {},
   "outputs": [],
   "source": [
    "y_train = train.loc[:, train.columns == 'y']"
   ]
  },
  {
   "cell_type": "code",
   "execution_count": 67,
   "id": "f6c8ad16",
   "metadata": {},
   "outputs": [
    {
     "data": {
      "text/plain": [
       "(28823, 1)"
      ]
     },
     "execution_count": 67,
     "metadata": {},
     "output_type": "execute_result"
    }
   ],
   "source": [
    "y_train.shape"
   ]
  },
  {
   "cell_type": "code",
   "execution_count": 68,
   "id": "4bff4395",
   "metadata": {},
   "outputs": [
    {
     "data": {
      "text/html": [
       "<div>\n",
       "<style scoped>\n",
       "    .dataframe tbody tr th:only-of-type {\n",
       "        vertical-align: middle;\n",
       "    }\n",
       "\n",
       "    .dataframe tbody tr th {\n",
       "        vertical-align: top;\n",
       "    }\n",
       "\n",
       "    .dataframe thead th {\n",
       "        text-align: right;\n",
       "    }\n",
       "</style>\n",
       "<table border=\"1\" class=\"dataframe\">\n",
       "  <thead>\n",
       "    <tr style=\"text-align: right;\">\n",
       "      <th></th>\n",
       "      <th>y</th>\n",
       "    </tr>\n",
       "  </thead>\n",
       "  <tbody>\n",
       "    <tr>\n",
       "      <th>22708</th>\n",
       "      <td>0</td>\n",
       "    </tr>\n",
       "    <tr>\n",
       "      <th>28573</th>\n",
       "      <td>0</td>\n",
       "    </tr>\n",
       "    <tr>\n",
       "      <th>9537</th>\n",
       "      <td>0</td>\n",
       "    </tr>\n",
       "    <tr>\n",
       "      <th>8441</th>\n",
       "      <td>0</td>\n",
       "    </tr>\n",
       "    <tr>\n",
       "      <th>1358</th>\n",
       "      <td>0</td>\n",
       "    </tr>\n",
       "    <tr>\n",
       "      <th>...</th>\n",
       "      <td>...</td>\n",
       "    </tr>\n",
       "    <tr>\n",
       "      <th>15812</th>\n",
       "      <td>0</td>\n",
       "    </tr>\n",
       "    <tr>\n",
       "      <th>34049</th>\n",
       "      <td>0</td>\n",
       "    </tr>\n",
       "    <tr>\n",
       "      <th>3097</th>\n",
       "      <td>0</td>\n",
       "    </tr>\n",
       "    <tr>\n",
       "      <th>26234</th>\n",
       "      <td>0</td>\n",
       "    </tr>\n",
       "    <tr>\n",
       "      <th>34052</th>\n",
       "      <td>0</td>\n",
       "    </tr>\n",
       "  </tbody>\n",
       "</table>\n",
       "<p>28823 rows × 1 columns</p>\n",
       "</div>"
      ],
      "text/plain": [
       "       y\n",
       "22708  0\n",
       "28573  0\n",
       "9537   0\n",
       "8441   0\n",
       "1358   0\n",
       "...   ..\n",
       "15812  0\n",
       "34049  0\n",
       "3097   0\n",
       "26234  0\n",
       "34052  0\n",
       "\n",
       "[28823 rows x 1 columns]"
      ]
     },
     "execution_count": 68,
     "metadata": {},
     "output_type": "execute_result"
    }
   ],
   "source": [
    "y_train"
   ]
  },
  {
   "cell_type": "code",
   "execution_count": 69,
   "id": "26087159",
   "metadata": {},
   "outputs": [],
   "source": [
    "y_test = test.loc[:, test.columns == 'y']"
   ]
  },
  {
   "cell_type": "code",
   "execution_count": 70,
   "id": "398596c0",
   "metadata": {},
   "outputs": [
    {
     "data": {
      "text/plain": [
       "(12353, 1)"
      ]
     },
     "execution_count": 70,
     "metadata": {},
     "output_type": "execute_result"
    }
   ],
   "source": [
    "y_test.shape"
   ]
  },
  {
   "cell_type": "code",
   "execution_count": null,
   "id": "3a3cbabc",
   "metadata": {},
   "outputs": [],
   "source": []
  },
  {
   "cell_type": "code",
   "execution_count": 71,
   "id": "771c06ec",
   "metadata": {},
   "outputs": [],
   "source": [
    "def cal_subscr_rate(col):\n",
    "    subscr_rate = str((col.sum() / col.count())*100)\n",
    "    print('Subscr rate is : ' + subscr_rate )\n",
    "    print(col.value_counts())"
   ]
  },
  {
   "cell_type": "code",
   "execution_count": 72,
   "id": "8366f828",
   "metadata": {},
   "outputs": [
    {
     "name": "stdout",
     "output_type": "stream",
     "text": [
      "Subscr rate is : y    11.265309\n",
      "dtype: float64\n",
      "y\n",
      "0    25576\n",
      "1     3247\n",
      "dtype: int64\n"
     ]
    }
   ],
   "source": [
    "cal_subscr_rate(y_train)"
   ]
  },
  {
   "cell_type": "code",
   "execution_count": 74,
   "id": "2b2a3f5b",
   "metadata": {},
   "outputs": [
    {
     "data": {
      "text/plain": [
       "<Axes: xlabel='y', ylabel='count'>"
      ]
     },
     "execution_count": 74,
     "metadata": {},
     "output_type": "execute_result"
    },
    {
     "data": {
      "image/png": "[encoded data removed]",
      "text/plain": [
       "<Figure size 640x480 with 1 Axes>"
      ]
     },
     "metadata": {},
     "output_type": "display_data"
    }
   ],
   "source": [
    "# Plotting the 'subscribed' frequency train\n",
    "sns.countplot(data=y_train,x='y')"
   ]
  },
  {
   "cell_type": "code",
   "execution_count": 73,
   "id": "292094eb",
   "metadata": {},
   "outputs": [
    {
     "name": "stdout",
     "output_type": "stream",
     "text": [
      "Subscr rate is : y    11.268518\n",
      "dtype: float64\n",
      "y\n",
      "0    10961\n",
      "1     1392\n",
      "dtype: int64\n"
     ]
    }
   ],
   "source": [
    "cal_subscr_rate(y_test)"
   ]
  },
  {
   "cell_type": "code",
   "execution_count": 75,
   "id": "79ebd3c8",
   "metadata": {},
   "outputs": [
    {
     "data": {
      "text/plain": [
       "<Axes: xlabel='y', ylabel='count'>"
      ]
     },
     "execution_count": 75,
     "metadata": {},
     "output_type": "execute_result"
    },
    {
     "data": {
      "image/png": "[encoded data removed]",
      "text/plain": [
       "<Figure size 640x480 with 1 Axes>"
      ]
     },
     "metadata": {},
     "output_type": "display_data"
    }
   ],
   "source": [
    "sns.countplot(data=y_test,x='y')"
   ]
  },
  {
   "cell_type": "code",
   "execution_count": 79,
   "id": "d3e5ccb2",
   "metadata": {},
   "outputs": [],
   "source": [
    "# Checking for correlated features "
   ]
  },
  {
   "cell_type": "code",
   "execution_count": 76,
   "id": "7907b83f",
   "metadata": {},
   "outputs": [
    {
     "name": "stderr",
     "output_type": "stream",
     "text": [
      "C:\\Users\\ydhav\\AppData\\Local\\Temp\\ipykernel_27316\\333941241.py:1: FutureWarning: The default value of numeric_only in DataFrame.corr is deprecated. In a future version, it will default to False. Select only valid columns or specify the value of numeric_only to silence this warning.\n",
      "  train_corr = X_train.corr()\n"
     ]
    },
    {
     "data": {
      "text/html": [
       "<div>\n",
       "<style scoped>\n",
       "    .dataframe tbody tr th:only-of-type {\n",
       "        vertical-align: middle;\n",
       "    }\n",
       "\n",
       "    .dataframe tbody tr th {\n",
       "        vertical-align: top;\n",
       "    }\n",
       "\n",
       "    .dataframe thead th {\n",
       "        text-align: right;\n",
       "    }\n",
       "</style>\n",
       "<table border=\"1\" class=\"dataframe\">\n",
       "  <thead>\n",
       "    <tr style=\"text-align: right;\">\n",
       "      <th></th>\n",
       "      <th>age</th>\n",
       "      <th>campaign</th>\n",
       "      <th>pdays</th>\n",
       "      <th>previous</th>\n",
       "      <th>emp.var.rate</th>\n",
       "      <th>cons.price.idx</th>\n",
       "      <th>cons.conf.idx</th>\n",
       "      <th>euribor3m</th>\n",
       "      <th>nr.employed</th>\n",
       "    </tr>\n",
       "  </thead>\n",
       "  <tbody>\n",
       "    <tr>\n",
       "      <th>age</th>\n",
       "      <td>1.000000</td>\n",
       "      <td>0.011563</td>\n",
       "      <td>-0.027557</td>\n",
       "      <td>0.013425</td>\n",
       "      <td>0.012048</td>\n",
       "      <td>0.010469</td>\n",
       "      <td>0.131468</td>\n",
       "      <td>0.024267</td>\n",
       "      <td>-0.004076</td>\n",
       "    </tr>\n",
       "    <tr>\n",
       "      <th>campaign</th>\n",
       "      <td>0.011563</td>\n",
       "      <td>1.000000</td>\n",
       "      <td>0.054564</td>\n",
       "      <td>-0.083471</td>\n",
       "      <td>0.154447</td>\n",
       "      <td>0.134236</td>\n",
       "      <td>-0.010228</td>\n",
       "      <td>0.137995</td>\n",
       "      <td>0.145802</td>\n",
       "    </tr>\n",
       "    <tr>\n",
       "      <th>pdays</th>\n",
       "      <td>-0.027557</td>\n",
       "      <td>0.054564</td>\n",
       "      <td>1.000000</td>\n",
       "      <td>-0.584357</td>\n",
       "      <td>0.273343</td>\n",
       "      <td>0.086485</td>\n",
       "      <td>-0.100945</td>\n",
       "      <td>0.297429</td>\n",
       "      <td>0.371700</td>\n",
       "    </tr>\n",
       "    <tr>\n",
       "      <th>previous</th>\n",
       "      <td>0.013425</td>\n",
       "      <td>-0.083471</td>\n",
       "      <td>-0.584357</td>\n",
       "      <td>1.000000</td>\n",
       "      <td>-0.422099</td>\n",
       "      <td>-0.207696</td>\n",
       "      <td>-0.046548</td>\n",
       "      <td>-0.455160</td>\n",
       "      <td>-0.501615</td>\n",
       "    </tr>\n",
       "    <tr>\n",
       "      <th>emp.var.rate</th>\n",
       "      <td>0.012048</td>\n",
       "      <td>0.154447</td>\n",
       "      <td>0.273343</td>\n",
       "      <td>-0.422099</td>\n",
       "      <td>1.000000</td>\n",
       "      <td>0.777340</td>\n",
       "      <td>0.198867</td>\n",
       "      <td>0.972181</td>\n",
       "      <td>0.907006</td>\n",
       "    </tr>\n",
       "    <tr>\n",
       "      <th>cons.price.idx</th>\n",
       "      <td>0.010469</td>\n",
       "      <td>0.134236</td>\n",
       "      <td>0.086485</td>\n",
       "      <td>-0.207696</td>\n",
       "      <td>0.777340</td>\n",
       "      <td>1.000000</td>\n",
       "      <td>0.065444</td>\n",
       "      <td>0.690734</td>\n",
       "      <td>0.525476</td>\n",
       "    </tr>\n",
       "    <tr>\n",
       "      <th>cons.conf.idx</th>\n",
       "      <td>0.131468</td>\n",
       "      <td>-0.010228</td>\n",
       "      <td>-0.100945</td>\n",
       "      <td>-0.046548</td>\n",
       "      <td>0.198867</td>\n",
       "      <td>0.065444</td>\n",
       "      <td>1.000000</td>\n",
       "      <td>0.279808</td>\n",
       "      <td>0.100124</td>\n",
       "    </tr>\n",
       "    <tr>\n",
       "      <th>euribor3m</th>\n",
       "      <td>0.024267</td>\n",
       "      <td>0.137995</td>\n",
       "      <td>0.297429</td>\n",
       "      <td>-0.455160</td>\n",
       "      <td>0.972181</td>\n",
       "      <td>0.690734</td>\n",
       "      <td>0.279808</td>\n",
       "      <td>1.000000</td>\n",
       "      <td>0.945119</td>\n",
       "    </tr>\n",
       "    <tr>\n",
       "      <th>nr.employed</th>\n",
       "      <td>-0.004076</td>\n",
       "      <td>0.145802</td>\n",
       "      <td>0.371700</td>\n",
       "      <td>-0.501615</td>\n",
       "      <td>0.907006</td>\n",
       "      <td>0.525476</td>\n",
       "      <td>0.100124</td>\n",
       "      <td>0.945119</td>\n",
       "      <td>1.000000</td>\n",
       "    </tr>\n",
       "  </tbody>\n",
       "</table>\n",
       "</div>"
      ],
      "text/plain": [
       "                     age  campaign     pdays  previous  emp.var.rate  \\\n",
       "age             1.000000  0.011563 -0.027557  0.013425      0.012048   \n",
       "campaign        0.011563  1.000000  0.054564 -0.083471      0.154447   \n",
       "pdays          -0.027557  0.054564  1.000000 -0.584357      0.273343   \n",
       "previous        0.013425 -0.083471 -0.584357  1.000000     -0.422099   \n",
       "emp.var.rate    0.012048  0.154447  0.273343 -0.422099      1.000000   \n",
       "cons.price.idx  0.010469  0.134236  0.086485 -0.207696      0.777340   \n",
       "cons.conf.idx   0.131468 -0.010228 -0.100945 -0.046548      0.198867   \n",
       "euribor3m       0.024267  0.137995  0.297429 -0.455160      0.972181   \n",
       "nr.employed    -0.004076  0.145802  0.371700 -0.501615      0.907006   \n",
       "\n",
       "                cons.price.idx  cons.conf.idx  euribor3m  nr.employed  \n",
       "age                   0.010469       0.131468   0.024267    -0.004076  \n",
       "campaign              0.134236      -0.010228   0.137995     0.145802  \n",
       "pdays                 0.086485      -0.100945   0.297429     0.371700  \n",
       "previous             -0.207696      -0.046548  -0.455160    -0.501615  \n",
       "emp.var.rate          0.777340       0.198867   0.972181     0.907006  \n",
       "cons.price.idx        1.000000       0.065444   0.690734     0.525476  \n",
       "cons.conf.idx         0.065444       1.000000   0.279808     0.100124  \n",
       "euribor3m             0.690734       0.279808   1.000000     0.945119  \n",
       "nr.employed           0.525476       0.100124   0.945119     1.000000  "
      ]
     },
     "execution_count": 76,
     "metadata": {},
     "output_type": "execute_result"
    }
   ],
   "source": [
    "train_corr = X_train.corr()\n",
    "train_corr"
   ]
  },
  {
   "cell_type": "code",
   "execution_count": 77,
   "id": "a545d974",
   "metadata": {},
   "outputs": [
    {
     "data": {
      "text/plain": [
       "<Axes: >"
      ]
     },
     "execution_count": 77,
     "metadata": {},
     "output_type": "execute_result"
    },
    {
     "data": {
      "image/png": "[encoded data removed]",
      "text/plain": [
       "<Figure size 2000x1000 with 2 Axes>"
      ]
     },
     "metadata": {},
     "output_type": "display_data"
    }
   ],
   "source": [
    "fig,ax= plt.subplots()\n",
    "fig.set_size_inches(20,10)\n",
    "sns.heatmap(train_corr, annot=True, cmap='YlGnBu')"
   ]
  },
  {
   "cell_type": "code",
   "execution_count": 80,
   "id": "3f5e9566",
   "metadata": {},
   "outputs": [],
   "source": [
    "# Calculating IV and WOE to check which features have better predictive power "
   ]
  },
  {
   "cell_type": "code",
   "execution_count": 78,
   "id": "63d6981e",
   "metadata": {},
   "outputs": [],
   "source": [
    "iv, woe = iv_woe(data = train[num_cols1] , target ='y', bins=40, show_woe = False)"
   ]
  },
  {
   "cell_type": "code",
   "execution_count": 81,
   "id": "b2337c7a",
   "metadata": {},
   "outputs": [
    {
     "data": {
      "text/html": [
       "<div>\n",
       "<style scoped>\n",
       "    .dataframe tbody tr th:only-of-type {\n",
       "        vertical-align: middle;\n",
       "    }\n",
       "\n",
       "    .dataframe tbody tr th {\n",
       "        vertical-align: top;\n",
       "    }\n",
       "\n",
       "    .dataframe thead th {\n",
       "        text-align: right;\n",
       "    }\n",
       "</style>\n",
       "<table border=\"1\" class=\"dataframe\">\n",
       "  <thead>\n",
       "    <tr style=\"text-align: right;\">\n",
       "      <th></th>\n",
       "      <th>Variable</th>\n",
       "      <th>IV</th>\n",
       "    </tr>\n",
       "  </thead>\n",
       "  <tbody>\n",
       "    <tr>\n",
       "      <th>0</th>\n",
       "      <td>age</td>\n",
       "      <td>8.499272</td>\n",
       "    </tr>\n",
       "    <tr>\n",
       "      <th>0</th>\n",
       "      <td>campaign</td>\n",
       "      <td>0.465540</td>\n",
       "    </tr>\n",
       "    <tr>\n",
       "      <th>0</th>\n",
       "      <td>pdays</td>\n",
       "      <td>0.836248</td>\n",
       "    </tr>\n",
       "    <tr>\n",
       "      <th>0</th>\n",
       "      <td>previous</td>\n",
       "      <td>0.666323</td>\n",
       "    </tr>\n",
       "    <tr>\n",
       "      <th>0</th>\n",
       "      <td>emp.var.rate</td>\n",
       "      <td>7.495374</td>\n",
       "    </tr>\n",
       "    <tr>\n",
       "      <th>0</th>\n",
       "      <td>cons.price.idx</td>\n",
       "      <td>10.557510</td>\n",
       "    </tr>\n",
       "    <tr>\n",
       "      <th>0</th>\n",
       "      <td>cons.conf.idx</td>\n",
       "      <td>10.664012</td>\n",
       "    </tr>\n",
       "    <tr>\n",
       "      <th>0</th>\n",
       "      <td>euribor3m</td>\n",
       "      <td>41.886189</td>\n",
       "    </tr>\n",
       "    <tr>\n",
       "      <th>0</th>\n",
       "      <td>nr.employed</td>\n",
       "      <td>8.407455</td>\n",
       "    </tr>\n",
       "  </tbody>\n",
       "</table>\n",
       "</div>"
      ],
      "text/plain": [
       "         Variable         IV\n",
       "0             age   8.499272\n",
       "0        campaign   0.465540\n",
       "0           pdays   0.836248\n",
       "0        previous   0.666323\n",
       "0    emp.var.rate   7.495374\n",
       "0  cons.price.idx  10.557510\n",
       "0   cons.conf.idx  10.664012\n",
       "0       euribor3m  41.886189\n",
       "0     nr.employed   8.407455"
      ]
     },
     "execution_count": 81,
     "metadata": {},
     "output_type": "execute_result"
    }
   ],
   "source": [
    "iv"
   ]
  },
  {
   "cell_type": "code",
   "execution_count": 82,
   "id": "c6b2598f",
   "metadata": {},
   "outputs": [
    {
     "data": {
      "text/html": [
       "<div>\n",
       "<style scoped>\n",
       "    .dataframe tbody tr th:only-of-type {\n",
       "        vertical-align: middle;\n",
       "    }\n",
       "\n",
       "    .dataframe tbody tr th {\n",
       "        vertical-align: top;\n",
       "    }\n",
       "\n",
       "    .dataframe thead th {\n",
       "        text-align: right;\n",
       "    }\n",
       "</style>\n",
       "<table border=\"1\" class=\"dataframe\">\n",
       "  <thead>\n",
       "    <tr style=\"text-align: right;\">\n",
       "      <th></th>\n",
       "      <th>Variable</th>\n",
       "      <th>decile</th>\n",
       "      <th>subscr</th>\n",
       "      <th>n_subscr</th>\n",
       "      <th>Min</th>\n",
       "      <th>Max</th>\n",
       "      <th>pop_perc</th>\n",
       "      <th>subscr_rate</th>\n",
       "      <th>woe</th>\n",
       "      <th>contribution</th>\n",
       "      <th>IV</th>\n",
       "    </tr>\n",
       "  </thead>\n",
       "  <tbody>\n",
       "    <tr>\n",
       "      <th>0</th>\n",
       "      <td>age</td>\n",
       "      <td>(16.999, 24.0]</td>\n",
       "      <td>200</td>\n",
       "      <td>562</td>\n",
       "      <td>17.0</td>\n",
       "      <td>24.0</td>\n",
       "      <td>2.643722</td>\n",
       "      <td>26.246719</td>\n",
       "      <td>-1.030738</td>\n",
       "      <td>0.040839</td>\n",
       "      <td>0.257554</td>\n",
       "    </tr>\n",
       "    <tr>\n",
       "      <th>1</th>\n",
       "      <td>age</td>\n",
       "      <td>(24.0, 26.0]</td>\n",
       "      <td>152</td>\n",
       "      <td>744</td>\n",
       "      <td>25.0</td>\n",
       "      <td>26.0</td>\n",
       "      <td>3.108629</td>\n",
       "      <td>16.964286</td>\n",
       "      <td>-0.475762</td>\n",
       "      <td>0.008432</td>\n",
       "      <td>0.257554</td>\n",
       "    </tr>\n",
       "    <tr>\n",
       "      <th>2</th>\n",
       "      <td>age</td>\n",
       "      <td>(26.0, 27.0]</td>\n",
       "      <td>75</td>\n",
       "      <td>507</td>\n",
       "      <td>27.0</td>\n",
       "      <td>27.0</td>\n",
       "      <td>2.019221</td>\n",
       "      <td>12.886598</td>\n",
       "      <td>-0.152900</td>\n",
       "      <td>0.000501</td>\n",
       "      <td>0.257554</td>\n",
       "    </tr>\n",
       "    <tr>\n",
       "      <th>3</th>\n",
       "      <td>age</td>\n",
       "      <td>(27.0, 28.0]</td>\n",
       "      <td>108</td>\n",
       "      <td>590</td>\n",
       "      <td>28.0</td>\n",
       "      <td>28.0</td>\n",
       "      <td>2.421677</td>\n",
       "      <td>15.472779</td>\n",
       "      <td>-0.365932</td>\n",
       "      <td>0.003730</td>\n",
       "      <td>0.257554</td>\n",
       "    </tr>\n",
       "    <tr>\n",
       "      <th>4</th>\n",
       "      <td>age</td>\n",
       "      <td>(28.0, 29.0]</td>\n",
       "      <td>132</td>\n",
       "      <td>886</td>\n",
       "      <td>29.0</td>\n",
       "      <td>29.0</td>\n",
       "      <td>3.531902</td>\n",
       "      <td>12.966601</td>\n",
       "      <td>-0.160008</td>\n",
       "      <td>0.000962</td>\n",
       "      <td>0.257554</td>\n",
       "    </tr>\n",
       "    <tr>\n",
       "      <th>...</th>\n",
       "      <td>...</td>\n",
       "      <td>...</td>\n",
       "      <td>...</td>\n",
       "      <td>...</td>\n",
       "      <td>...</td>\n",
       "      <td>...</td>\n",
       "      <td>...</td>\n",
       "      <td>...</td>\n",
       "      <td>...</td>\n",
       "      <td>...</td>\n",
       "      <td>...</td>\n",
       "    </tr>\n",
       "    <tr>\n",
       "      <th>0</th>\n",
       "      <td>pdays</td>\n",
       "      <td>(-0.001, 6.0]</td>\n",
       "      <td>513</td>\n",
       "      <td>277</td>\n",
       "      <td>0.0</td>\n",
       "      <td>6.0</td>\n",
       "      <td>2.740867</td>\n",
       "      <td>64.936709</td>\n",
       "      <td>-2.680181</td>\n",
       "      <td>0.394420</td>\n",
       "      <td>0.418124</td>\n",
       "    </tr>\n",
       "    <tr>\n",
       "      <th>1</th>\n",
       "      <td>pdays</td>\n",
       "      <td>(6.0, 999.0]</td>\n",
       "      <td>2734</td>\n",
       "      <td>25299</td>\n",
       "      <td>7.0</td>\n",
       "      <td>999.0</td>\n",
       "      <td>97.259133</td>\n",
       "      <td>9.752791</td>\n",
       "      <td>0.161076</td>\n",
       "      <td>0.023704</td>\n",
       "      <td>0.418124</td>\n",
       "    </tr>\n",
       "    <tr>\n",
       "      <th>0</th>\n",
       "      <td>previous</td>\n",
       "      <td>(-0.001, 1.0]</td>\n",
       "      <td>2874</td>\n",
       "      <td>25207</td>\n",
       "      <td>0.0</td>\n",
       "      <td>1.0</td>\n",
       "      <td>97.425667</td>\n",
       "      <td>10.234678</td>\n",
       "      <td>0.107494</td>\n",
       "      <td>0.010798</td>\n",
       "      <td>0.222108</td>\n",
       "    </tr>\n",
       "    <tr>\n",
       "      <th>1</th>\n",
       "      <td>previous</td>\n",
       "      <td>(1.0, 2.0]</td>\n",
       "      <td>250</td>\n",
       "      <td>282</td>\n",
       "      <td>2.0</td>\n",
       "      <td>2.0</td>\n",
       "      <td>1.845748</td>\n",
       "      <td>46.992481</td>\n",
       "      <td>-1.943477</td>\n",
       "      <td>0.128208</td>\n",
       "      <td>0.222108</td>\n",
       "    </tr>\n",
       "    <tr>\n",
       "      <th>2</th>\n",
       "      <td>previous</td>\n",
       "      <td>(2.0, 7.0]</td>\n",
       "      <td>123</td>\n",
       "      <td>87</td>\n",
       "      <td>3.0</td>\n",
       "      <td>7.0</td>\n",
       "      <td>0.728585</td>\n",
       "      <td>58.571429</td>\n",
       "      <td>-2.410199</td>\n",
       "      <td>0.083102</td>\n",
       "      <td>0.222108</td>\n",
       "    </tr>\n",
       "  </tbody>\n",
       "</table>\n",
       "<p>118 rows × 11 columns</p>\n",
       "</div>"
      ],
      "text/plain": [
       "    Variable          decile  subscr  n_subscr   Min    Max   pop_perc  \\\n",
       "0        age  (16.999, 24.0]     200       562  17.0   24.0   2.643722   \n",
       "1        age    (24.0, 26.0]     152       744  25.0   26.0   3.108629   \n",
       "2        age    (26.0, 27.0]      75       507  27.0   27.0   2.019221   \n",
       "3        age    (27.0, 28.0]     108       590  28.0   28.0   2.421677   \n",
       "4        age    (28.0, 29.0]     132       886  29.0   29.0   3.531902   \n",
       "..       ...             ...     ...       ...   ...    ...        ...   \n",
       "0      pdays   (-0.001, 6.0]     513       277   0.0    6.0   2.740867   \n",
       "1      pdays    (6.0, 999.0]    2734     25299   7.0  999.0  97.259133   \n",
       "0   previous   (-0.001, 1.0]    2874     25207   0.0    1.0  97.425667   \n",
       "1   previous      (1.0, 2.0]     250       282   2.0    2.0   1.845748   \n",
       "2   previous      (2.0, 7.0]     123        87   3.0    7.0   0.728585   \n",
       "\n",
       "    subscr_rate       woe  contribution        IV  \n",
       "0     26.246719 -1.030738      0.040839  0.257554  \n",
       "1     16.964286 -0.475762      0.008432  0.257554  \n",
       "2     12.886598 -0.152900      0.000501  0.257554  \n",
       "3     15.472779 -0.365932      0.003730  0.257554  \n",
       "4     12.966601 -0.160008      0.000962  0.257554  \n",
       "..          ...       ...           ...       ...  \n",
       "0     64.936709 -2.680181      0.394420  0.418124  \n",
       "1      9.752791  0.161076      0.023704  0.418124  \n",
       "0     10.234678  0.107494      0.010798  0.222108  \n",
       "1     46.992481 -1.943477      0.128208  0.222108  \n",
       "2     58.571429 -2.410199      0.083102  0.222108  \n",
       "\n",
       "[118 rows x 11 columns]"
      ]
     },
     "execution_count": 82,
     "metadata": {},
     "output_type": "execute_result"
    }
   ],
   "source": [
    "woe"
   ]
  },
  {
   "cell_type": "code",
   "execution_count": 83,
   "id": "4244929c",
   "metadata": {},
   "outputs": [],
   "source": [
    "iv1, woe1 = iv_woe1(data = train[cat_cols1] , target ='y', show_woe = False)"
   ]
  },
  {
   "cell_type": "code",
   "execution_count": 84,
   "id": "c669f087",
   "metadata": {},
   "outputs": [
    {
     "data": {
      "text/html": [
       "<div>\n",
       "<style scoped>\n",
       "    .dataframe tbody tr th:only-of-type {\n",
       "        vertical-align: middle;\n",
       "    }\n",
       "\n",
       "    .dataframe tbody tr th {\n",
       "        vertical-align: top;\n",
       "    }\n",
       "\n",
       "    .dataframe thead th {\n",
       "        text-align: right;\n",
       "    }\n",
       "</style>\n",
       "<table border=\"1\" class=\"dataframe\">\n",
       "  <thead>\n",
       "    <tr style=\"text-align: right;\">\n",
       "      <th></th>\n",
       "      <th>Variable</th>\n",
       "      <th>IV</th>\n",
       "    </tr>\n",
       "  </thead>\n",
       "  <tbody>\n",
       "    <tr>\n",
       "      <th>0</th>\n",
       "      <td>job</td>\n",
       "      <td>2.359236</td>\n",
       "    </tr>\n",
       "    <tr>\n",
       "      <th>0</th>\n",
       "      <td>marital</td>\n",
       "      <td>0.145189</td>\n",
       "    </tr>\n",
       "    <tr>\n",
       "      <th>0</th>\n",
       "      <td>education</td>\n",
       "      <td>0.456300</td>\n",
       "    </tr>\n",
       "    <tr>\n",
       "      <th>0</th>\n",
       "      <td>default</td>\n",
       "      <td>inf</td>\n",
       "    </tr>\n",
       "    <tr>\n",
       "      <th>0</th>\n",
       "      <td>housing</td>\n",
       "      <td>0.005611</td>\n",
       "    </tr>\n",
       "    <tr>\n",
       "      <th>0</th>\n",
       "      <td>loan</td>\n",
       "      <td>0.000488</td>\n",
       "    </tr>\n",
       "    <tr>\n",
       "      <th>0</th>\n",
       "      <td>contact</td>\n",
       "      <td>0.520883</td>\n",
       "    </tr>\n",
       "    <tr>\n",
       "      <th>0</th>\n",
       "      <td>month</td>\n",
       "      <td>4.961975</td>\n",
       "    </tr>\n",
       "    <tr>\n",
       "      <th>0</th>\n",
       "      <td>day_of_week</td>\n",
       "      <td>0.040073</td>\n",
       "    </tr>\n",
       "    <tr>\n",
       "      <th>0</th>\n",
       "      <td>poutcome</td>\n",
       "      <td>1.642799</td>\n",
       "    </tr>\n",
       "  </tbody>\n",
       "</table>\n",
       "</div>"
      ],
      "text/plain": [
       "      Variable        IV\n",
       "0          job  2.359236\n",
       "0      marital  0.145189\n",
       "0    education  0.456300\n",
       "0      default       inf\n",
       "0      housing  0.005611\n",
       "0         loan  0.000488\n",
       "0      contact  0.520883\n",
       "0        month  4.961975\n",
       "0  day_of_week  0.040073\n",
       "0     poutcome  1.642799"
      ]
     },
     "execution_count": 84,
     "metadata": {},
     "output_type": "execute_result"
    }
   ],
   "source": [
    "iv1"
   ]
  },
  {
   "cell_type": "code",
   "execution_count": 85,
   "id": "679151b9",
   "metadata": {},
   "outputs": [
    {
     "data": {
      "text/html": [
       "<div>\n",
       "<style scoped>\n",
       "    .dataframe tbody tr th:only-of-type {\n",
       "        vertical-align: middle;\n",
       "    }\n",
       "\n",
       "    .dataframe tbody tr th {\n",
       "        vertical-align: top;\n",
       "    }\n",
       "\n",
       "    .dataframe thead th {\n",
       "        text-align: right;\n",
       "    }\n",
       "</style>\n",
       "<table border=\"1\" class=\"dataframe\">\n",
       "  <thead>\n",
       "    <tr style=\"text-align: right;\">\n",
       "      <th></th>\n",
       "      <th>Variable</th>\n",
       "      <th>decile</th>\n",
       "      <th>subscr</th>\n",
       "      <th>n_subscr</th>\n",
       "      <th>Min</th>\n",
       "      <th>Max</th>\n",
       "      <th>pop_perc</th>\n",
       "      <th>subscr_rate</th>\n",
       "      <th>woe</th>\n",
       "      <th>contribution</th>\n",
       "      <th>IV</th>\n",
       "    </tr>\n",
       "  </thead>\n",
       "  <tbody>\n",
       "    <tr>\n",
       "      <th>0</th>\n",
       "      <td>contact</td>\n",
       "      <td>cellular</td>\n",
       "      <td>2703</td>\n",
       "      <td>15561</td>\n",
       "      <td>cellular</td>\n",
       "      <td>cellular</td>\n",
       "      <td>63.366062</td>\n",
       "      <td>14.799606</td>\n",
       "      <td>-0.313517</td>\n",
       "      <td>0.070240</td>\n",
       "      <td>0.260442</td>\n",
       "    </tr>\n",
       "    <tr>\n",
       "      <th>1</th>\n",
       "      <td>contact</td>\n",
       "      <td>telephone</td>\n",
       "      <td>544</td>\n",
       "      <td>10015</td>\n",
       "      <td>telephone</td>\n",
       "      <td>telephone</td>\n",
       "      <td>36.633938</td>\n",
       "      <td>5.152003</td>\n",
       "      <td>0.848967</td>\n",
       "      <td>0.190202</td>\n",
       "      <td>0.260442</td>\n",
       "    </tr>\n",
       "    <tr>\n",
       "      <th>0</th>\n",
       "      <td>day_of_week</td>\n",
       "      <td>fri</td>\n",
       "      <td>602</td>\n",
       "      <td>4898</td>\n",
       "      <td>fri</td>\n",
       "      <td>fri</td>\n",
       "      <td>19.081983</td>\n",
       "      <td>10.945455</td>\n",
       "      <td>0.032402</td>\n",
       "      <td>0.000198</td>\n",
       "      <td>0.008015</td>\n",
       "    </tr>\n",
       "    <tr>\n",
       "      <th>1</th>\n",
       "      <td>day_of_week</td>\n",
       "      <td>mon</td>\n",
       "      <td>583</td>\n",
       "      <td>5402</td>\n",
       "      <td>mon</td>\n",
       "      <td>mon</td>\n",
       "      <td>20.764667</td>\n",
       "      <td>9.741019</td>\n",
       "      <td>0.162414</td>\n",
       "      <td>0.005143</td>\n",
       "      <td>0.008015</td>\n",
       "    </tr>\n",
       "    <tr>\n",
       "      <th>2</th>\n",
       "      <td>day_of_week</td>\n",
       "      <td>thu</td>\n",
       "      <td>745</td>\n",
       "      <td>5361</td>\n",
       "      <td>thu</td>\n",
       "      <td>thu</td>\n",
       "      <td>21.184471</td>\n",
       "      <td>12.201114</td>\n",
       "      <td>-0.090401</td>\n",
       "      <td>0.001793</td>\n",
       "      <td>0.008015</td>\n",
       "    </tr>\n",
       "    <tr>\n",
       "      <th>3</th>\n",
       "      <td>day_of_week</td>\n",
       "      <td>tue</td>\n",
       "      <td>662</td>\n",
       "      <td>4918</td>\n",
       "      <td>tue</td>\n",
       "      <td>tue</td>\n",
       "      <td>19.359539</td>\n",
       "      <td>11.863799</td>\n",
       "      <td>-0.058531</td>\n",
       "      <td>0.000678</td>\n",
       "      <td>0.008015</td>\n",
       "    </tr>\n",
       "    <tr>\n",
       "      <th>4</th>\n",
       "      <td>day_of_week</td>\n",
       "      <td>wed</td>\n",
       "      <td>655</td>\n",
       "      <td>4997</td>\n",
       "      <td>wed</td>\n",
       "      <td>wed</td>\n",
       "      <td>19.609340</td>\n",
       "      <td>11.588818</td>\n",
       "      <td>-0.031965</td>\n",
       "      <td>0.000203</td>\n",
       "      <td>0.008015</td>\n",
       "    </tr>\n",
       "    <tr>\n",
       "      <th>0</th>\n",
       "      <td>default</td>\n",
       "      <td>no</td>\n",
       "      <td>2949</td>\n",
       "      <td>19779</td>\n",
       "      <td>no</td>\n",
       "      <td>no</td>\n",
       "      <td>78.853693</td>\n",
       "      <td>12.975185</td>\n",
       "      <td>-0.160768</td>\n",
       "      <td>0.021685</td>\n",
       "      <td>inf</td>\n",
       "    </tr>\n",
       "    <tr>\n",
       "      <th>1</th>\n",
       "      <td>default</td>\n",
       "      <td>unknown</td>\n",
       "      <td>298</td>\n",
       "      <td>5794</td>\n",
       "      <td>unknown</td>\n",
       "      <td>unknown</td>\n",
       "      <td>21.135898</td>\n",
       "      <td>4.891661</td>\n",
       "      <td>0.903562</td>\n",
       "      <td>0.121767</td>\n",
       "      <td>inf</td>\n",
       "    </tr>\n",
       "    <tr>\n",
       "      <th>2</th>\n",
       "      <td>default</td>\n",
       "      <td>yes</td>\n",
       "      <td>0</td>\n",
       "      <td>3</td>\n",
       "      <td>yes</td>\n",
       "      <td>yes</td>\n",
       "      <td>0.010408</td>\n",
       "      <td>0.000000</td>\n",
       "      <td>inf</td>\n",
       "      <td>inf</td>\n",
       "      <td>inf</td>\n",
       "    </tr>\n",
       "    <tr>\n",
       "      <th>0</th>\n",
       "      <td>education</td>\n",
       "      <td>basic.4y</td>\n",
       "      <td>291</td>\n",
       "      <td>2662</td>\n",
       "      <td>basic.4y</td>\n",
       "      <td>basic.4y</td>\n",
       "      <td>10.245290</td>\n",
       "      <td>9.854385</td>\n",
       "      <td>0.149587</td>\n",
       "      <td>0.002163</td>\n",
       "      <td>0.057037</td>\n",
       "    </tr>\n",
       "    <tr>\n",
       "      <th>1</th>\n",
       "      <td>education</td>\n",
       "      <td>basic.6y</td>\n",
       "      <td>134</td>\n",
       "      <td>1489</td>\n",
       "      <td>basic.6y</td>\n",
       "      <td>basic.6y</td>\n",
       "      <td>5.630920</td>\n",
       "      <td>8.256315</td>\n",
       "      <td>0.344097</td>\n",
       "      <td>0.005832</td>\n",
       "      <td>0.057037</td>\n",
       "    </tr>\n",
       "    <tr>\n",
       "      <th>2</th>\n",
       "      <td>education</td>\n",
       "      <td>basic.9y</td>\n",
       "      <td>328</td>\n",
       "      <td>3947</td>\n",
       "      <td>basic.9y</td>\n",
       "      <td>basic.9y</td>\n",
       "      <td>14.831905</td>\n",
       "      <td>7.672515</td>\n",
       "      <td>0.423775</td>\n",
       "      <td>0.022591</td>\n",
       "      <td>0.057037</td>\n",
       "    </tr>\n",
       "    <tr>\n",
       "      <th>3</th>\n",
       "      <td>education</td>\n",
       "      <td>high.school</td>\n",
       "      <td>716</td>\n",
       "      <td>5951</td>\n",
       "      <td>high.school</td>\n",
       "      <td>high.school</td>\n",
       "      <td>23.130833</td>\n",
       "      <td>10.739463</td>\n",
       "      <td>0.053711</td>\n",
       "      <td>0.000654</td>\n",
       "      <td>0.057037</td>\n",
       "    </tr>\n",
       "    <tr>\n",
       "      <th>4</th>\n",
       "      <td>education</td>\n",
       "      <td>illiterate</td>\n",
       "      <td>4</td>\n",
       "      <td>9</td>\n",
       "      <td>illiterate</td>\n",
       "      <td>illiterate</td>\n",
       "      <td>0.045103</td>\n",
       "      <td>30.769231</td>\n",
       "      <td>-1.252993</td>\n",
       "      <td>0.001103</td>\n",
       "      <td>0.057037</td>\n",
       "    </tr>\n",
       "    <tr>\n",
       "      <th>5</th>\n",
       "      <td>education</td>\n",
       "      <td>professional.course</td>\n",
       "      <td>409</td>\n",
       "      <td>3209</td>\n",
       "      <td>professional.course</td>\n",
       "      <td>professional.course</td>\n",
       "      <td>12.552475</td>\n",
       "      <td>11.304588</td>\n",
       "      <td>-0.003923</td>\n",
       "      <td>0.000002</td>\n",
       "      <td>0.057037</td>\n",
       "    </tr>\n",
       "    <tr>\n",
       "      <th>6</th>\n",
       "      <td>education</td>\n",
       "      <td>university.degree</td>\n",
       "      <td>1194</td>\n",
       "      <td>7307</td>\n",
       "      <td>university.degree</td>\n",
       "      <td>university.degree</td>\n",
       "      <td>29.493807</td>\n",
       "      <td>14.045406</td>\n",
       "      <td>-0.252399</td>\n",
       "      <td>0.020703</td>\n",
       "      <td>0.057037</td>\n",
       "    </tr>\n",
       "    <tr>\n",
       "      <th>7</th>\n",
       "      <td>education</td>\n",
       "      <td>unknown</td>\n",
       "      <td>171</td>\n",
       "      <td>1002</td>\n",
       "      <td>unknown</td>\n",
       "      <td>unknown</td>\n",
       "      <td>4.069667</td>\n",
       "      <td>14.578005</td>\n",
       "      <td>-0.295833</td>\n",
       "      <td>0.003990</td>\n",
       "      <td>0.057037</td>\n",
       "    </tr>\n",
       "    <tr>\n",
       "      <th>0</th>\n",
       "      <td>housing</td>\n",
       "      <td>no</td>\n",
       "      <td>1409</td>\n",
       "      <td>11640</td>\n",
       "      <td>no</td>\n",
       "      <td>no</td>\n",
       "      <td>45.272872</td>\n",
       "      <td>10.797762</td>\n",
       "      <td>0.047644</td>\n",
       "      <td>0.001009</td>\n",
       "      <td>0.001870</td>\n",
       "    </tr>\n",
       "    <tr>\n",
       "      <th>1</th>\n",
       "      <td>housing</td>\n",
       "      <td>unknown</td>\n",
       "      <td>80</td>\n",
       "      <td>635</td>\n",
       "      <td>unknown</td>\n",
       "      <td>unknown</td>\n",
       "      <td>2.480658</td>\n",
       "      <td>11.188811</td>\n",
       "      <td>0.007675</td>\n",
       "      <td>0.000001</td>\n",
       "      <td>0.001870</td>\n",
       "    </tr>\n",
       "    <tr>\n",
       "      <th>2</th>\n",
       "      <td>housing</td>\n",
       "      <td>yes</td>\n",
       "      <td>1758</td>\n",
       "      <td>13301</td>\n",
       "      <td>yes</td>\n",
       "      <td>yes</td>\n",
       "      <td>52.246470</td>\n",
       "      <td>11.674082</td>\n",
       "      <td>-0.040260</td>\n",
       "      <td>0.000860</td>\n",
       "      <td>0.001870</td>\n",
       "    </tr>\n",
       "    <tr>\n",
       "      <th>0</th>\n",
       "      <td>job</td>\n",
       "      <td>admin.</td>\n",
       "      <td>977</td>\n",
       "      <td>6284</td>\n",
       "      <td>admin.</td>\n",
       "      <td>admin.</td>\n",
       "      <td>25.191687</td>\n",
       "      <td>13.455447</td>\n",
       "      <td>-0.202648</td>\n",
       "      <td>0.011185</td>\n",
       "      <td>0.196603</td>\n",
       "    </tr>\n",
       "    <tr>\n",
       "      <th>1</th>\n",
       "      <td>job</td>\n",
       "      <td>blue-collar</td>\n",
       "      <td>446</td>\n",
       "      <td>6121</td>\n",
       "      <td>blue-collar</td>\n",
       "      <td>blue-collar</td>\n",
       "      <td>22.783888</td>\n",
       "      <td>6.791533</td>\n",
       "      <td>0.555239</td>\n",
       "      <td>0.056617</td>\n",
       "      <td>0.196603</td>\n",
       "    </tr>\n",
       "    <tr>\n",
       "      <th>2</th>\n",
       "      <td>job</td>\n",
       "      <td>entrepreneur</td>\n",
       "      <td>86</td>\n",
       "      <td>915</td>\n",
       "      <td>entrepreneur</td>\n",
       "      <td>entrepreneur</td>\n",
       "      <td>3.472921</td>\n",
       "      <td>8.591409</td>\n",
       "      <td>0.300654</td>\n",
       "      <td>0.002793</td>\n",
       "      <td>0.196603</td>\n",
       "    </tr>\n",
       "    <tr>\n",
       "      <th>3</th>\n",
       "      <td>job</td>\n",
       "      <td>housemaid</td>\n",
       "      <td>80</td>\n",
       "      <td>672</td>\n",
       "      <td>housemaid</td>\n",
       "      <td>housemaid</td>\n",
       "      <td>2.609028</td>\n",
       "      <td>10.638298</td>\n",
       "      <td>0.064309</td>\n",
       "      <td>0.000105</td>\n",
       "      <td>0.196603</td>\n",
       "    </tr>\n",
       "    <tr>\n",
       "      <th>4</th>\n",
       "      <td>job</td>\n",
       "      <td>management</td>\n",
       "      <td>228</td>\n",
       "      <td>1813</td>\n",
       "      <td>management</td>\n",
       "      <td>management</td>\n",
       "      <td>7.081150</td>\n",
       "      <td>11.170995</td>\n",
       "      <td>0.009470</td>\n",
       "      <td>0.000006</td>\n",
       "      <td>0.196603</td>\n",
       "    </tr>\n",
       "    <tr>\n",
       "      <th>5</th>\n",
       "      <td>job</td>\n",
       "      <td>retired</td>\n",
       "      <td>287</td>\n",
       "      <td>874</td>\n",
       "      <td>retired</td>\n",
       "      <td>retired</td>\n",
       "      <td>4.028033</td>\n",
       "      <td>24.720069</td>\n",
       "      <td>-0.950325</td>\n",
       "      <td>0.051523</td>\n",
       "      <td>0.196603</td>\n",
       "    </tr>\n",
       "    <tr>\n",
       "      <th>6</th>\n",
       "      <td>job</td>\n",
       "      <td>self-employed</td>\n",
       "      <td>107</td>\n",
       "      <td>886</td>\n",
       "      <td>self-employed</td>\n",
       "      <td>self-employed</td>\n",
       "      <td>3.445165</td>\n",
       "      <td>10.775428</td>\n",
       "      <td>0.049965</td>\n",
       "      <td>0.000084</td>\n",
       "      <td>0.196603</td>\n",
       "    </tr>\n",
       "    <tr>\n",
       "      <th>7</th>\n",
       "      <td>job</td>\n",
       "      <td>services</td>\n",
       "      <td>218</td>\n",
       "      <td>2548</td>\n",
       "      <td>services</td>\n",
       "      <td>services</td>\n",
       "      <td>9.596503</td>\n",
       "      <td>7.881417</td>\n",
       "      <td>0.394646</td>\n",
       "      <td>0.012820</td>\n",
       "      <td>0.196603</td>\n",
       "    </tr>\n",
       "    <tr>\n",
       "      <th>8</th>\n",
       "      <td>job</td>\n",
       "      <td>student</td>\n",
       "      <td>201</td>\n",
       "      <td>423</td>\n",
       "      <td>student</td>\n",
       "      <td>student</td>\n",
       "      <td>2.164938</td>\n",
       "      <td>32.211538</td>\n",
       "      <td>-1.319856</td>\n",
       "      <td>0.059874</td>\n",
       "      <td>0.196603</td>\n",
       "    </tr>\n",
       "    <tr>\n",
       "      <th>9</th>\n",
       "      <td>job</td>\n",
       "      <td>technician</td>\n",
       "      <td>498</td>\n",
       "      <td>4204</td>\n",
       "      <td>technician</td>\n",
       "      <td>technician</td>\n",
       "      <td>16.313361</td>\n",
       "      <td>10.591238</td>\n",
       "      <td>0.069269</td>\n",
       "      <td>0.000762</td>\n",
       "      <td>0.196603</td>\n",
       "    </tr>\n",
       "    <tr>\n",
       "      <th>10</th>\n",
       "      <td>job</td>\n",
       "      <td>unemployed</td>\n",
       "      <td>93</td>\n",
       "      <td>616</td>\n",
       "      <td>unemployed</td>\n",
       "      <td>unemployed</td>\n",
       "      <td>2.459841</td>\n",
       "      <td>13.117066</td>\n",
       "      <td>-0.173275</td>\n",
       "      <td>0.000790</td>\n",
       "      <td>0.196603</td>\n",
       "    </tr>\n",
       "    <tr>\n",
       "      <th>11</th>\n",
       "      <td>job</td>\n",
       "      <td>unknown</td>\n",
       "      <td>26</td>\n",
       "      <td>220</td>\n",
       "      <td>unknown</td>\n",
       "      <td>unknown</td>\n",
       "      <td>0.853485</td>\n",
       "      <td>10.569106</td>\n",
       "      <td>0.071608</td>\n",
       "      <td>0.000043</td>\n",
       "      <td>0.196603</td>\n",
       "    </tr>\n",
       "    <tr>\n",
       "      <th>0</th>\n",
       "      <td>loan</td>\n",
       "      <td>no</td>\n",
       "      <td>2696</td>\n",
       "      <td>21117</td>\n",
       "      <td>no</td>\n",
       "      <td>no</td>\n",
       "      <td>82.618048</td>\n",
       "      <td>11.321547</td>\n",
       "      <td>-0.005614</td>\n",
       "      <td>0.000026</td>\n",
       "      <td>0.000163</td>\n",
       "    </tr>\n",
       "    <tr>\n",
       "      <th>1</th>\n",
       "      <td>loan</td>\n",
       "      <td>unknown</td>\n",
       "      <td>80</td>\n",
       "      <td>635</td>\n",
       "      <td>unknown</td>\n",
       "      <td>unknown</td>\n",
       "      <td>2.480658</td>\n",
       "      <td>11.188811</td>\n",
       "      <td>0.007675</td>\n",
       "      <td>0.000001</td>\n",
       "      <td>0.000163</td>\n",
       "    </tr>\n",
       "    <tr>\n",
       "      <th>2</th>\n",
       "      <td>loan</td>\n",
       "      <td>yes</td>\n",
       "      <td>471</td>\n",
       "      <td>3824</td>\n",
       "      <td>yes</td>\n",
       "      <td>yes</td>\n",
       "      <td>14.901294</td>\n",
       "      <td>10.966240</td>\n",
       "      <td>0.030271</td>\n",
       "      <td>0.000135</td>\n",
       "      <td>0.000163</td>\n",
       "    </tr>\n",
       "    <tr>\n",
       "      <th>0</th>\n",
       "      <td>marital</td>\n",
       "      <td>divorced</td>\n",
       "      <td>304</td>\n",
       "      <td>2845</td>\n",
       "      <td>divorced</td>\n",
       "      <td>divorced</td>\n",
       "      <td>10.925303</td>\n",
       "      <td>9.653858</td>\n",
       "      <td>0.172368</td>\n",
       "      <td>0.003036</td>\n",
       "      <td>0.036297</td>\n",
       "    </tr>\n",
       "    <tr>\n",
       "      <th>1</th>\n",
       "      <td>marital</td>\n",
       "      <td>married</td>\n",
       "      <td>1763</td>\n",
       "      <td>15695</td>\n",
       "      <td>married</td>\n",
       "      <td>married</td>\n",
       "      <td>60.569684</td>\n",
       "      <td>10.098522</td>\n",
       "      <td>0.122402</td>\n",
       "      <td>0.008654</td>\n",
       "      <td>0.036297</td>\n",
       "    </tr>\n",
       "    <tr>\n",
       "      <th>2</th>\n",
       "      <td>marital</td>\n",
       "      <td>single</td>\n",
       "      <td>1172</td>\n",
       "      <td>6993</td>\n",
       "      <td>single</td>\n",
       "      <td>single</td>\n",
       "      <td>28.328071</td>\n",
       "      <td>14.353950</td>\n",
       "      <td>-0.277725</td>\n",
       "      <td>0.024309</td>\n",
       "      <td>0.036297</td>\n",
       "    </tr>\n",
       "    <tr>\n",
       "      <th>3</th>\n",
       "      <td>marital</td>\n",
       "      <td>unknown</td>\n",
       "      <td>8</td>\n",
       "      <td>43</td>\n",
       "      <td>unknown</td>\n",
       "      <td>unknown</td>\n",
       "      <td>0.176942</td>\n",
       "      <td>15.686275</td>\n",
       "      <td>-0.382164</td>\n",
       "      <td>0.000299</td>\n",
       "      <td>0.036297</td>\n",
       "    </tr>\n",
       "    <tr>\n",
       "      <th>0</th>\n",
       "      <td>month</td>\n",
       "      <td>apr</td>\n",
       "      <td>381</td>\n",
       "      <td>1471</td>\n",
       "      <td>apr</td>\n",
       "      <td>apr</td>\n",
       "      <td>6.425424</td>\n",
       "      <td>20.572354</td>\n",
       "      <td>-0.713025</td>\n",
       "      <td>0.042656</td>\n",
       "      <td>0.496198</td>\n",
       "    </tr>\n",
       "    <tr>\n",
       "      <th>1</th>\n",
       "      <td>month</td>\n",
       "      <td>aug</td>\n",
       "      <td>469</td>\n",
       "      <td>3794</td>\n",
       "      <td>aug</td>\n",
       "      <td>aug</td>\n",
       "      <td>14.790272</td>\n",
       "      <td>11.001642</td>\n",
       "      <td>0.026650</td>\n",
       "      <td>0.000104</td>\n",
       "      <td>0.496198</td>\n",
       "    </tr>\n",
       "    <tr>\n",
       "      <th>2</th>\n",
       "      <td>month</td>\n",
       "      <td>dec</td>\n",
       "      <td>60</td>\n",
       "      <td>54</td>\n",
       "      <td>dec</td>\n",
       "      <td>dec</td>\n",
       "      <td>0.395517</td>\n",
       "      <td>52.631579</td>\n",
       "      <td>-2.169283</td>\n",
       "      <td>0.035505</td>\n",
       "      <td>0.496198</td>\n",
       "    </tr>\n",
       "    <tr>\n",
       "      <th>3</th>\n",
       "      <td>month</td>\n",
       "      <td>jul</td>\n",
       "      <td>456</td>\n",
       "      <td>4552</td>\n",
       "      <td>jul</td>\n",
       "      <td>jul</td>\n",
       "      <td>17.375013</td>\n",
       "      <td>9.105431</td>\n",
       "      <td>0.236906</td>\n",
       "      <td>0.008894</td>\n",
       "      <td>0.496198</td>\n",
       "    </tr>\n",
       "    <tr>\n",
       "      <th>4</th>\n",
       "      <td>month</td>\n",
       "      <td>jun</td>\n",
       "      <td>385</td>\n",
       "      <td>3379</td>\n",
       "      <td>jun</td>\n",
       "      <td>jun</td>\n",
       "      <td>13.059015</td>\n",
       "      <td>10.228480</td>\n",
       "      <td>0.108169</td>\n",
       "      <td>0.001465</td>\n",
       "      <td>0.496198</td>\n",
       "    </tr>\n",
       "    <tr>\n",
       "      <th>5</th>\n",
       "      <td>month</td>\n",
       "      <td>mar</td>\n",
       "      <td>195</td>\n",
       "      <td>177</td>\n",
       "      <td>mar</td>\n",
       "      <td>mar</td>\n",
       "      <td>1.290636</td>\n",
       "      <td>52.419355</td>\n",
       "      <td>-2.160773</td>\n",
       "      <td>0.114812</td>\n",
       "      <td>0.496198</td>\n",
       "    </tr>\n",
       "    <tr>\n",
       "      <th>6</th>\n",
       "      <td>month</td>\n",
       "      <td>may</td>\n",
       "      <td>618</td>\n",
       "      <td>9059</td>\n",
       "      <td>may</td>\n",
       "      <td>may</td>\n",
       "      <td>33.573882</td>\n",
       "      <td>6.386277</td>\n",
       "      <td>0.621103</td>\n",
       "      <td>0.101780</td>\n",
       "      <td>0.496198</td>\n",
       "    </tr>\n",
       "    <tr>\n",
       "      <th>7</th>\n",
       "      <td>month</td>\n",
       "      <td>nov</td>\n",
       "      <td>283</td>\n",
       "      <td>2581</td>\n",
       "      <td>nov</td>\n",
       "      <td>nov</td>\n",
       "      <td>9.936509</td>\n",
       "      <td>9.881285</td>\n",
       "      <td>0.146562</td>\n",
       "      <td>0.002016</td>\n",
       "      <td>0.496198</td>\n",
       "    </tr>\n",
       "    <tr>\n",
       "      <th>8</th>\n",
       "      <td>month</td>\n",
       "      <td>oct</td>\n",
       "      <td>207</td>\n",
       "      <td>288</td>\n",
       "      <td>oct</td>\n",
       "      <td>oct</td>\n",
       "      <td>1.717378</td>\n",
       "      <td>41.818182</td>\n",
       "      <td>-1.733681</td>\n",
       "      <td>0.091002</td>\n",
       "      <td>0.496198</td>\n",
       "    </tr>\n",
       "    <tr>\n",
       "      <th>9</th>\n",
       "      <td>month</td>\n",
       "      <td>sep</td>\n",
       "      <td>193</td>\n",
       "      <td>221</td>\n",
       "      <td>sep</td>\n",
       "      <td>sep</td>\n",
       "      <td>1.436353</td>\n",
       "      <td>46.618357</td>\n",
       "      <td>-1.928450</td>\n",
       "      <td>0.097963</td>\n",
       "      <td>0.496198</td>\n",
       "    </tr>\n",
       "    <tr>\n",
       "      <th>0</th>\n",
       "      <td>poutcome</td>\n",
       "      <td>failure</td>\n",
       "      <td>432</td>\n",
       "      <td>2575</td>\n",
       "      <td>failure</td>\n",
       "      <td>failure</td>\n",
       "      <td>10.432641</td>\n",
       "      <td>14.366478</td>\n",
       "      <td>-0.278744</td>\n",
       "      <td>0.009022</td>\n",
       "      <td>0.547600</td>\n",
       "    </tr>\n",
       "    <tr>\n",
       "      <th>1</th>\n",
       "      <td>poutcome</td>\n",
       "      <td>nonexistent</td>\n",
       "      <td>2188</td>\n",
       "      <td>22660</td>\n",
       "      <td>nonexistent</td>\n",
       "      <td>nonexistent</td>\n",
       "      <td>86.208930</td>\n",
       "      <td>8.805538</td>\n",
       "      <td>0.273690</td>\n",
       "      <td>0.058059</td>\n",
       "      <td>0.547600</td>\n",
       "    </tr>\n",
       "    <tr>\n",
       "      <th>2</th>\n",
       "      <td>poutcome</td>\n",
       "      <td>success</td>\n",
       "      <td>627</td>\n",
       "      <td>341</td>\n",
       "      <td>success</td>\n",
       "      <td>success</td>\n",
       "      <td>3.358429</td>\n",
       "      <td>64.772727</td>\n",
       "      <td>-2.672987</td>\n",
       "      <td>0.480519</td>\n",
       "      <td>0.547600</td>\n",
       "    </tr>\n",
       "  </tbody>\n",
       "</table>\n",
       "</div>"
      ],
      "text/plain": [
       "       Variable               decile  subscr  n_subscr                  Min  \\\n",
       "0       contact             cellular    2703     15561             cellular   \n",
       "1       contact            telephone     544     10015            telephone   \n",
       "0   day_of_week                  fri     602      4898                  fri   \n",
       "1   day_of_week                  mon     583      5402                  mon   \n",
       "2   day_of_week                  thu     745      5361                  thu   \n",
       "3   day_of_week                  tue     662      4918                  tue   \n",
       "4   day_of_week                  wed     655      4997                  wed   \n",
       "0       default                   no    2949     19779                   no   \n",
       "1       default              unknown     298      5794              unknown   \n",
       "2       default                  yes       0         3                  yes   \n",
       "0     education             basic.4y     291      2662             basic.4y   \n",
       "1     education             basic.6y     134      1489             basic.6y   \n",
       "2     education             basic.9y     328      3947             basic.9y   \n",
       "3     education          high.school     716      5951          high.school   \n",
       "4     education           illiterate       4         9           illiterate   \n",
       "5     education  professional.course     409      3209  professional.course   \n",
       "6     education    university.degree    1194      7307    university.degree   \n",
       "7     education              unknown     171      1002              unknown   \n",
       "0       housing                   no    1409     11640                   no   \n",
       "1       housing              unknown      80       635              unknown   \n",
       "2       housing                  yes    1758     13301                  yes   \n",
       "0           job               admin.     977      6284               admin.   \n",
       "1           job          blue-collar     446      6121          blue-collar   \n",
       "2           job         entrepreneur      86       915         entrepreneur   \n",
       "3           job            housemaid      80       672            housemaid   \n",
       "4           job           management     228      1813           management   \n",
       "5           job              retired     287       874              retired   \n",
       "6           job        self-employed     107       886        self-employed   \n",
       "7           job             services     218      2548             services   \n",
       "8           job              student     201       423              student   \n",
       "9           job           technician     498      4204           technician   \n",
       "10          job           unemployed      93       616           unemployed   \n",
       "11          job              unknown      26       220              unknown   \n",
       "0          loan                   no    2696     21117                   no   \n",
       "1          loan              unknown      80       635              unknown   \n",
       "2          loan                  yes     471      3824                  yes   \n",
       "0       marital             divorced     304      2845             divorced   \n",
       "1       marital              married    1763     15695              married   \n",
       "2       marital               single    1172      6993               single   \n",
       "3       marital              unknown       8        43              unknown   \n",
       "0         month                  apr     381      1471                  apr   \n",
       "1         month                  aug     469      3794                  aug   \n",
       "2         month                  dec      60        54                  dec   \n",
       "3         month                  jul     456      4552                  jul   \n",
       "4         month                  jun     385      3379                  jun   \n",
       "5         month                  mar     195       177                  mar   \n",
       "6         month                  may     618      9059                  may   \n",
       "7         month                  nov     283      2581                  nov   \n",
       "8         month                  oct     207       288                  oct   \n",
       "9         month                  sep     193       221                  sep   \n",
       "0      poutcome              failure     432      2575              failure   \n",
       "1      poutcome          nonexistent    2188     22660          nonexistent   \n",
       "2      poutcome              success     627       341              success   \n",
       "\n",
       "                    Max   pop_perc  subscr_rate       woe  contribution  \\\n",
       "0              cellular  63.366062    14.799606 -0.313517      0.070240   \n",
       "1             telephone  36.633938     5.152003  0.848967      0.190202   \n",
       "0                   fri  19.081983    10.945455  0.032402      0.000198   \n",
       "1                   mon  20.764667     9.741019  0.162414      0.005143   \n",
       "2                   thu  21.184471    12.201114 -0.090401      0.001793   \n",
       "3                   tue  19.359539    11.863799 -0.058531      0.000678   \n",
       "4                   wed  19.609340    11.588818 -0.031965      0.000203   \n",
       "0                    no  78.853693    12.975185 -0.160768      0.021685   \n",
       "1               unknown  21.135898     4.891661  0.903562      0.121767   \n",
       "2                   yes   0.010408     0.000000       inf           inf   \n",
       "0              basic.4y  10.245290     9.854385  0.149587      0.002163   \n",
       "1              basic.6y   5.630920     8.256315  0.344097      0.005832   \n",
       "2              basic.9y  14.831905     7.672515  0.423775      0.022591   \n",
       "3           high.school  23.130833    10.739463  0.053711      0.000654   \n",
       "4            illiterate   0.045103    30.769231 -1.252993      0.001103   \n",
       "5   professional.course  12.552475    11.304588 -0.003923      0.000002   \n",
       "6     university.degree  29.493807    14.045406 -0.252399      0.020703   \n",
       "7               unknown   4.069667    14.578005 -0.295833      0.003990   \n",
       "0                    no  45.272872    10.797762  0.047644      0.001009   \n",
       "1               unknown   2.480658    11.188811  0.007675      0.000001   \n",
       "2                   yes  52.246470    11.674082 -0.040260      0.000860   \n",
       "0                admin.  25.191687    13.455447 -0.202648      0.011185   \n",
       "1           blue-collar  22.783888     6.791533  0.555239      0.056617   \n",
       "2          entrepreneur   3.472921     8.591409  0.300654      0.002793   \n",
       "3             housemaid   2.609028    10.638298  0.064309      0.000105   \n",
       "4            management   7.081150    11.170995  0.009470      0.000006   \n",
       "5               retired   4.028033    24.720069 -0.950325      0.051523   \n",
       "6         self-employed   3.445165    10.775428  0.049965      0.000084   \n",
       "7              services   9.596503     7.881417  0.394646      0.012820   \n",
       "8               student   2.164938    32.211538 -1.319856      0.059874   \n",
       "9            technician  16.313361    10.591238  0.069269      0.000762   \n",
       "10           unemployed   2.459841    13.117066 -0.173275      0.000790   \n",
       "11              unknown   0.853485    10.569106  0.071608      0.000043   \n",
       "0                    no  82.618048    11.321547 -0.005614      0.000026   \n",
       "1               unknown   2.480658    11.188811  0.007675      0.000001   \n",
       "2                   yes  14.901294    10.966240  0.030271      0.000135   \n",
       "0              divorced  10.925303     9.653858  0.172368      0.003036   \n",
       "1               married  60.569684    10.098522  0.122402      0.008654   \n",
       "2                single  28.328071    14.353950 -0.277725      0.024309   \n",
       "3               unknown   0.176942    15.686275 -0.382164      0.000299   \n",
       "0                   apr   6.425424    20.572354 -0.713025      0.042656   \n",
       "1                   aug  14.790272    11.001642  0.026650      0.000104   \n",
       "2                   dec   0.395517    52.631579 -2.169283      0.035505   \n",
       "3                   jul  17.375013     9.105431  0.236906      0.008894   \n",
       "4                   jun  13.059015    10.228480  0.108169      0.001465   \n",
       "5                   mar   1.290636    52.419355 -2.160773      0.114812   \n",
       "6                   may  33.573882     6.386277  0.621103      0.101780   \n",
       "7                   nov   9.936509     9.881285  0.146562      0.002016   \n",
       "8                   oct   1.717378    41.818182 -1.733681      0.091002   \n",
       "9                   sep   1.436353    46.618357 -1.928450      0.097963   \n",
       "0               failure  10.432641    14.366478 -0.278744      0.009022   \n",
       "1           nonexistent  86.208930     8.805538  0.273690      0.058059   \n",
       "2               success   3.358429    64.772727 -2.672987      0.480519   \n",
       "\n",
       "          IV  \n",
       "0   0.260442  \n",
       "1   0.260442  \n",
       "0   0.008015  \n",
       "1   0.008015  \n",
       "2   0.008015  \n",
       "3   0.008015  \n",
       "4   0.008015  \n",
       "0        inf  \n",
       "1        inf  \n",
       "2        inf  \n",
       "0   0.057037  \n",
       "1   0.057037  \n",
       "2   0.057037  \n",
       "3   0.057037  \n",
       "4   0.057037  \n",
       "5   0.057037  \n",
       "6   0.057037  \n",
       "7   0.057037  \n",
       "0   0.001870  \n",
       "1   0.001870  \n",
       "2   0.001870  \n",
       "0   0.196603  \n",
       "1   0.196603  \n",
       "2   0.196603  \n",
       "3   0.196603  \n",
       "4   0.196603  \n",
       "5   0.196603  \n",
       "6   0.196603  \n",
       "7   0.196603  \n",
       "8   0.196603  \n",
       "9   0.196603  \n",
       "10  0.196603  \n",
       "11  0.196603  \n",
       "0   0.000163  \n",
       "1   0.000163  \n",
       "2   0.000163  \n",
       "0   0.036297  \n",
       "1   0.036297  \n",
       "2   0.036297  \n",
       "3   0.036297  \n",
       "0   0.496198  \n",
       "1   0.496198  \n",
       "2   0.496198  \n",
       "3   0.496198  \n",
       "4   0.496198  \n",
       "5   0.496198  \n",
       "6   0.496198  \n",
       "7   0.496198  \n",
       "8   0.496198  \n",
       "9   0.496198  \n",
       "0   0.547600  \n",
       "1   0.547600  \n",
       "2   0.547600  "
      ]
     },
     "execution_count": 85,
     "metadata": {},
     "output_type": "execute_result"
    }
   ],
   "source": [
    "woe1"
   ]
  },
  {
   "cell_type": "code",
   "execution_count": 87,
   "id": "6a2f4c47",
   "metadata": {},
   "outputs": [],
   "source": [
    "frames = [iv, iv1]\n",
    " \n",
    "iv_all = pd.concat(frames,axis =0)"
   ]
  },
  {
   "cell_type": "code",
   "execution_count": 88,
   "id": "9d8bf4d5",
   "metadata": {},
   "outputs": [
    {
     "data": {
      "text/html": [
       "<div>\n",
       "<style scoped>\n",
       "    .dataframe tbody tr th:only-of-type {\n",
       "        vertical-align: middle;\n",
       "    }\n",
       "\n",
       "    .dataframe tbody tr th {\n",
       "        vertical-align: top;\n",
       "    }\n",
       "\n",
       "    .dataframe thead th {\n",
       "        text-align: right;\n",
       "    }\n",
       "</style>\n",
       "<table border=\"1\" class=\"dataframe\">\n",
       "  <thead>\n",
       "    <tr style=\"text-align: right;\">\n",
       "      <th></th>\n",
       "      <th>Variable</th>\n",
       "      <th>IV</th>\n",
       "    </tr>\n",
       "  </thead>\n",
       "  <tbody>\n",
       "    <tr>\n",
       "      <th>0</th>\n",
       "      <td>age</td>\n",
       "      <td>8.499272</td>\n",
       "    </tr>\n",
       "    <tr>\n",
       "      <th>0</th>\n",
       "      <td>campaign</td>\n",
       "      <td>0.465540</td>\n",
       "    </tr>\n",
       "    <tr>\n",
       "      <th>0</th>\n",
       "      <td>pdays</td>\n",
       "      <td>0.836248</td>\n",
       "    </tr>\n",
       "    <tr>\n",
       "      <th>0</th>\n",
       "      <td>previous</td>\n",
       "      <td>0.666323</td>\n",
       "    </tr>\n",
       "    <tr>\n",
       "      <th>0</th>\n",
       "      <td>emp.var.rate</td>\n",
       "      <td>7.495374</td>\n",
       "    </tr>\n",
       "    <tr>\n",
       "      <th>0</th>\n",
       "      <td>cons.price.idx</td>\n",
       "      <td>10.557510</td>\n",
       "    </tr>\n",
       "    <tr>\n",
       "      <th>0</th>\n",
       "      <td>cons.conf.idx</td>\n",
       "      <td>10.664012</td>\n",
       "    </tr>\n",
       "    <tr>\n",
       "      <th>0</th>\n",
       "      <td>euribor3m</td>\n",
       "      <td>41.886189</td>\n",
       "    </tr>\n",
       "    <tr>\n",
       "      <th>0</th>\n",
       "      <td>nr.employed</td>\n",
       "      <td>8.407455</td>\n",
       "    </tr>\n",
       "    <tr>\n",
       "      <th>0</th>\n",
       "      <td>job</td>\n",
       "      <td>2.359236</td>\n",
       "    </tr>\n",
       "    <tr>\n",
       "      <th>0</th>\n",
       "      <td>marital</td>\n",
       "      <td>0.145189</td>\n",
       "    </tr>\n",
       "    <tr>\n",
       "      <th>0</th>\n",
       "      <td>education</td>\n",
       "      <td>0.456300</td>\n",
       "    </tr>\n",
       "    <tr>\n",
       "      <th>0</th>\n",
       "      <td>default</td>\n",
       "      <td>inf</td>\n",
       "    </tr>\n",
       "    <tr>\n",
       "      <th>0</th>\n",
       "      <td>housing</td>\n",
       "      <td>0.005611</td>\n",
       "    </tr>\n",
       "    <tr>\n",
       "      <th>0</th>\n",
       "      <td>loan</td>\n",
       "      <td>0.000488</td>\n",
       "    </tr>\n",
       "    <tr>\n",
       "      <th>0</th>\n",
       "      <td>contact</td>\n",
       "      <td>0.520883</td>\n",
       "    </tr>\n",
       "    <tr>\n",
       "      <th>0</th>\n",
       "      <td>month</td>\n",
       "      <td>4.961975</td>\n",
       "    </tr>\n",
       "    <tr>\n",
       "      <th>0</th>\n",
       "      <td>day_of_week</td>\n",
       "      <td>0.040073</td>\n",
       "    </tr>\n",
       "    <tr>\n",
       "      <th>0</th>\n",
       "      <td>poutcome</td>\n",
       "      <td>1.642799</td>\n",
       "    </tr>\n",
       "  </tbody>\n",
       "</table>\n",
       "</div>"
      ],
      "text/plain": [
       "         Variable         IV\n",
       "0             age   8.499272\n",
       "0        campaign   0.465540\n",
       "0           pdays   0.836248\n",
       "0        previous   0.666323\n",
       "0    emp.var.rate   7.495374\n",
       "0  cons.price.idx  10.557510\n",
       "0   cons.conf.idx  10.664012\n",
       "0       euribor3m  41.886189\n",
       "0     nr.employed   8.407455\n",
       "0             job   2.359236\n",
       "0         marital   0.145189\n",
       "0       education   0.456300\n",
       "0         default        inf\n",
       "0         housing   0.005611\n",
       "0            loan   0.000488\n",
       "0         contact   0.520883\n",
       "0           month   4.961975\n",
       "0     day_of_week   0.040073\n",
       "0        poutcome   1.642799"
      ]
     },
     "execution_count": 88,
     "metadata": {},
     "output_type": "execute_result"
    }
   ],
   "source": [
    "iv_all"
   ]
  },
  {
   "cell_type": "code",
   "execution_count": 89,
   "id": "a8ec9c8a",
   "metadata": {},
   "outputs": [],
   "source": [
    "iv_all.sort_values(by = 'IV',ascending=False,inplace=True)"
   ]
  },
  {
   "cell_type": "code",
   "execution_count": 90,
   "id": "6c411571",
   "metadata": {},
   "outputs": [
    {
     "data": {
      "text/html": [
       "<div>\n",
       "<style scoped>\n",
       "    .dataframe tbody tr th:only-of-type {\n",
       "        vertical-align: middle;\n",
       "    }\n",
       "\n",
       "    .dataframe tbody tr th {\n",
       "        vertical-align: top;\n",
       "    }\n",
       "\n",
       "    .dataframe thead th {\n",
       "        text-align: right;\n",
       "    }\n",
       "</style>\n",
       "<table border=\"1\" class=\"dataframe\">\n",
       "  <thead>\n",
       "    <tr style=\"text-align: right;\">\n",
       "      <th></th>\n",
       "      <th>Variable</th>\n",
       "      <th>IV</th>\n",
       "    </tr>\n",
       "  </thead>\n",
       "  <tbody>\n",
       "    <tr>\n",
       "      <th>0</th>\n",
       "      <td>default</td>\n",
       "      <td>inf</td>\n",
       "    </tr>\n",
       "    <tr>\n",
       "      <th>0</th>\n",
       "      <td>euribor3m</td>\n",
       "      <td>41.886189</td>\n",
       "    </tr>\n",
       "    <tr>\n",
       "      <th>0</th>\n",
       "      <td>cons.conf.idx</td>\n",
       "      <td>10.664012</td>\n",
       "    </tr>\n",
       "    <tr>\n",
       "      <th>0</th>\n",
       "      <td>cons.price.idx</td>\n",
       "      <td>10.557510</td>\n",
       "    </tr>\n",
       "    <tr>\n",
       "      <th>0</th>\n",
       "      <td>age</td>\n",
       "      <td>8.499272</td>\n",
       "    </tr>\n",
       "    <tr>\n",
       "      <th>0</th>\n",
       "      <td>nr.employed</td>\n",
       "      <td>8.407455</td>\n",
       "    </tr>\n",
       "    <tr>\n",
       "      <th>0</th>\n",
       "      <td>emp.var.rate</td>\n",
       "      <td>7.495374</td>\n",
       "    </tr>\n",
       "    <tr>\n",
       "      <th>0</th>\n",
       "      <td>month</td>\n",
       "      <td>4.961975</td>\n",
       "    </tr>\n",
       "    <tr>\n",
       "      <th>0</th>\n",
       "      <td>job</td>\n",
       "      <td>2.359236</td>\n",
       "    </tr>\n",
       "    <tr>\n",
       "      <th>0</th>\n",
       "      <td>poutcome</td>\n",
       "      <td>1.642799</td>\n",
       "    </tr>\n",
       "    <tr>\n",
       "      <th>0</th>\n",
       "      <td>pdays</td>\n",
       "      <td>0.836248</td>\n",
       "    </tr>\n",
       "    <tr>\n",
       "      <th>0</th>\n",
       "      <td>previous</td>\n",
       "      <td>0.666323</td>\n",
       "    </tr>\n",
       "    <tr>\n",
       "      <th>0</th>\n",
       "      <td>contact</td>\n",
       "      <td>0.520883</td>\n",
       "    </tr>\n",
       "    <tr>\n",
       "      <th>0</th>\n",
       "      <td>campaign</td>\n",
       "      <td>0.465540</td>\n",
       "    </tr>\n",
       "    <tr>\n",
       "      <th>0</th>\n",
       "      <td>education</td>\n",
       "      <td>0.456300</td>\n",
       "    </tr>\n",
       "    <tr>\n",
       "      <th>0</th>\n",
       "      <td>marital</td>\n",
       "      <td>0.145189</td>\n",
       "    </tr>\n",
       "    <tr>\n",
       "      <th>0</th>\n",
       "      <td>day_of_week</td>\n",
       "      <td>0.040073</td>\n",
       "    </tr>\n",
       "    <tr>\n",
       "      <th>0</th>\n",
       "      <td>housing</td>\n",
       "      <td>0.005611</td>\n",
       "    </tr>\n",
       "    <tr>\n",
       "      <th>0</th>\n",
       "      <td>loan</td>\n",
       "      <td>0.000488</td>\n",
       "    </tr>\n",
       "  </tbody>\n",
       "</table>\n",
       "</div>"
      ],
      "text/plain": [
       "         Variable         IV\n",
       "0         default        inf\n",
       "0       euribor3m  41.886189\n",
       "0   cons.conf.idx  10.664012\n",
       "0  cons.price.idx  10.557510\n",
       "0             age   8.499272\n",
       "0     nr.employed   8.407455\n",
       "0    emp.var.rate   7.495374\n",
       "0           month   4.961975\n",
       "0             job   2.359236\n",
       "0        poutcome   1.642799\n",
       "0           pdays   0.836248\n",
       "0        previous   0.666323\n",
       "0         contact   0.520883\n",
       "0        campaign   0.465540\n",
       "0       education   0.456300\n",
       "0         marital   0.145189\n",
       "0     day_of_week   0.040073\n",
       "0         housing   0.005611\n",
       "0            loan   0.000488"
      ]
     },
     "execution_count": 90,
     "metadata": {},
     "output_type": "execute_result"
    }
   ],
   "source": [
    "iv_all"
   ]
  },
  {
   "cell_type": "code",
   "execution_count": 92,
   "id": "d2ad477b",
   "metadata": {},
   "outputs": [],
   "source": [
    "# Dropping correlated features and keeping one with high IV values "
   ]
  },
  {
   "cell_type": "code",
   "execution_count": 93,
   "id": "891bc55a",
   "metadata": {},
   "outputs": [
    {
     "name": "stdout",
     "output_type": "stream",
     "text": [
      "<class 'pandas.core.frame.DataFrame'>\n",
      "Int64Index: 28823 entries, 22708 to 34052\n",
      "Data columns (total 19 columns):\n",
      " #   Column          Non-Null Count  Dtype  \n",
      "---  ------          --------------  -----  \n",
      " 0   age             28823 non-null  int64  \n",
      " 1   job             28823 non-null  object \n",
      " 2   marital         28823 non-null  object \n",
      " 3   education       28823 non-null  object \n",
      " 4   default         28823 non-null  object \n",
      " 5   housing         28823 non-null  object \n",
      " 6   loan            28823 non-null  object \n",
      " 7   contact         28823 non-null  object \n",
      " 8   month           28823 non-null  object \n",
      " 9   day_of_week     28823 non-null  object \n",
      " 10  campaign        28823 non-null  int64  \n",
      " 11  pdays           28823 non-null  int64  \n",
      " 12  previous        28823 non-null  int64  \n",
      " 13  poutcome        28823 non-null  object \n",
      " 14  emp.var.rate    28823 non-null  float64\n",
      " 15  cons.price.idx  28823 non-null  float64\n",
      " 16  cons.conf.idx   28823 non-null  float64\n",
      " 17  euribor3m       28823 non-null  float64\n",
      " 18  nr.employed     28823 non-null  float64\n",
      "dtypes: float64(5), int64(4), object(10)\n",
      "memory usage: 4.4+ MB\n"
     ]
    }
   ],
   "source": [
    "X_train.info()"
   ]
  },
  {
   "cell_type": "code",
   "execution_count": 94,
   "id": "9dff6daa",
   "metadata": {},
   "outputs": [],
   "source": [
    "X_train = X_train.drop(['cons.price.idx','nr.employed','emp.var.rate'],axis =1)"
   ]
  },
  {
   "cell_type": "code",
   "execution_count": 95,
   "id": "4f6ab9ee",
   "metadata": {},
   "outputs": [],
   "source": [
    "# Dropping features with IV <0.02 and default feature as it has less proportion of yes counts "
   ]
  },
  {
   "cell_type": "code",
   "execution_count": 96,
   "id": "a3f44abd",
   "metadata": {},
   "outputs": [],
   "source": [
    "X_train = X_train.drop(['default','housing','loan'],axis =1)"
   ]
  },
  {
   "cell_type": "code",
   "execution_count": 97,
   "id": "9c38ac9b",
   "metadata": {},
   "outputs": [
    {
     "name": "stdout",
     "output_type": "stream",
     "text": [
      "<class 'pandas.core.frame.DataFrame'>\n",
      "Int64Index: 28823 entries, 22708 to 34052\n",
      "Data columns (total 13 columns):\n",
      " #   Column         Non-Null Count  Dtype  \n",
      "---  ------         --------------  -----  \n",
      " 0   age            28823 non-null  int64  \n",
      " 1   job            28823 non-null  object \n",
      " 2   marital        28823 non-null  object \n",
      " 3   education      28823 non-null  object \n",
      " 4   contact        28823 non-null  object \n",
      " 5   month          28823 non-null  object \n",
      " 6   day_of_week    28823 non-null  object \n",
      " 7   campaign       28823 non-null  int64  \n",
      " 8   pdays          28823 non-null  int64  \n",
      " 9   previous       28823 non-null  int64  \n",
      " 10  poutcome       28823 non-null  object \n",
      " 11  cons.conf.idx  28823 non-null  float64\n",
      " 12  euribor3m      28823 non-null  float64\n",
      "dtypes: float64(2), int64(4), object(7)\n",
      "memory usage: 3.1+ MB\n"
     ]
    }
   ],
   "source": [
    "X_train.info()"
   ]
  },
  {
   "cell_type": "code",
   "execution_count": 98,
   "id": "c5622e50",
   "metadata": {},
   "outputs": [],
   "source": [
    "# Dropping the features in test as well "
   ]
  },
  {
   "cell_type": "code",
   "execution_count": 99,
   "id": "11b9e90d",
   "metadata": {},
   "outputs": [],
   "source": [
    "X_test = X_test.drop(['cons.price.idx','nr.employed','emp.var.rate'],axis =1)"
   ]
  },
  {
   "cell_type": "code",
   "execution_count": 100,
   "id": "4a39987f",
   "metadata": {},
   "outputs": [],
   "source": [
    "X_test = X_test.drop(['default','housing','loan'],axis =1)"
   ]
  },
  {
   "cell_type": "code",
   "execution_count": 101,
   "id": "65cbb15b",
   "metadata": {},
   "outputs": [
    {
     "name": "stdout",
     "output_type": "stream",
     "text": [
      "<class 'pandas.core.frame.DataFrame'>\n",
      "Int64Index: 12353 entries, 22377 to 30680\n",
      "Data columns (total 13 columns):\n",
      " #   Column         Non-Null Count  Dtype  \n",
      "---  ------         --------------  -----  \n",
      " 0   age            12353 non-null  int64  \n",
      " 1   job            12353 non-null  object \n",
      " 2   marital        12353 non-null  object \n",
      " 3   education      12353 non-null  object \n",
      " 4   contact        12353 non-null  object \n",
      " 5   month          12353 non-null  object \n",
      " 6   day_of_week    12353 non-null  object \n",
      " 7   campaign       12353 non-null  int64  \n",
      " 8   pdays          12353 non-null  int64  \n",
      " 9   previous       12353 non-null  int64  \n",
      " 10  poutcome       12353 non-null  object \n",
      " 11  cons.conf.idx  12353 non-null  float64\n",
      " 12  euribor3m      12353 non-null  float64\n",
      "dtypes: float64(2), int64(4), object(7)\n",
      "memory usage: 1.3+ MB\n"
     ]
    }
   ],
   "source": [
    "X_test.info()"
   ]
  },
  {
   "cell_type": "code",
   "execution_count": 102,
   "id": "a3798cd4",
   "metadata": {},
   "outputs": [],
   "source": [
    "# Standardizing the data "
   ]
  },
  {
   "cell_type": "code",
   "execution_count": 103,
   "id": "9c582f7c",
   "metadata": {},
   "outputs": [],
   "source": [
    "scaler = StandardScaler()\n",
    "X_train[X_train.columns[X_train.columns.isin(num_cols)]] = scaler.fit_transform(X_train[X_train.columns[X_train.columns.isin(num_cols)]])\n",
    "X_test[X_test.columns[X_test.columns.isin(num_cols)]] = scaler.fit_transform(X_test[X_test.columns[X_test.columns.isin(num_cols)]])\n"
   ]
  },
  {
   "cell_type": "code",
   "execution_count": 104,
   "id": "7d0f5a8b",
   "metadata": {},
   "outputs": [
    {
     "data": {
      "text/html": [
       "<div>\n",
       "<style scoped>\n",
       "    .dataframe tbody tr th:only-of-type {\n",
       "        vertical-align: middle;\n",
       "    }\n",
       "\n",
       "    .dataframe tbody tr th {\n",
       "        vertical-align: top;\n",
       "    }\n",
       "\n",
       "    .dataframe thead th {\n",
       "        text-align: right;\n",
       "    }\n",
       "</style>\n",
       "<table border=\"1\" class=\"dataframe\">\n",
       "  <thead>\n",
       "    <tr style=\"text-align: right;\">\n",
       "      <th></th>\n",
       "      <th>age</th>\n",
       "      <th>job</th>\n",
       "      <th>marital</th>\n",
       "      <th>education</th>\n",
       "      <th>contact</th>\n",
       "      <th>month</th>\n",
       "      <th>day_of_week</th>\n",
       "      <th>campaign</th>\n",
       "      <th>pdays</th>\n",
       "      <th>previous</th>\n",
       "      <th>poutcome</th>\n",
       "      <th>cons.conf.idx</th>\n",
       "      <th>euribor3m</th>\n",
       "    </tr>\n",
       "  </thead>\n",
       "  <tbody>\n",
       "    <tr>\n",
       "      <th>22708</th>\n",
       "      <td>-0.095828</td>\n",
       "      <td>admin.</td>\n",
       "      <td>married</td>\n",
       "      <td>professional.course</td>\n",
       "      <td>cellular</td>\n",
       "      <td>aug</td>\n",
       "      <td>fri</td>\n",
       "      <td>0.155268</td>\n",
       "      <td>0.196256</td>\n",
       "      <td>-0.351218</td>\n",
       "      <td>nonexistent</td>\n",
       "      <td>0.957390</td>\n",
       "      <td>0.775514</td>\n",
       "    </tr>\n",
       "    <tr>\n",
       "      <th>28573</th>\n",
       "      <td>-1.835341</td>\n",
       "      <td>admin.</td>\n",
       "      <td>single</td>\n",
       "      <td>high.school</td>\n",
       "      <td>cellular</td>\n",
       "      <td>apr</td>\n",
       "      <td>wed</td>\n",
       "      <td>-0.564349</td>\n",
       "      <td>0.196256</td>\n",
       "      <td>-0.351218</td>\n",
       "      <td>nonexistent</td>\n",
       "      <td>-1.424419</td>\n",
       "      <td>-1.270289</td>\n",
       "    </tr>\n",
       "    <tr>\n",
       "      <th>9537</th>\n",
       "      <td>0.290730</td>\n",
       "      <td>technician</td>\n",
       "      <td>divorced</td>\n",
       "      <td>professional.course</td>\n",
       "      <td>telephone</td>\n",
       "      <td>jun</td>\n",
       "      <td>mon</td>\n",
       "      <td>0.155268</td>\n",
       "      <td>0.196256</td>\n",
       "      <td>-0.351218</td>\n",
       "      <td>nonexistent</td>\n",
       "      <td>-0.276820</td>\n",
       "      <td>0.773784</td>\n",
       "    </tr>\n",
       "    <tr>\n",
       "      <th>8441</th>\n",
       "      <td>-0.965584</td>\n",
       "      <td>admin.</td>\n",
       "      <td>single</td>\n",
       "      <td>high.school</td>\n",
       "      <td>telephone</td>\n",
       "      <td>jun</td>\n",
       "      <td>tue</td>\n",
       "      <td>-0.204540</td>\n",
       "      <td>0.196256</td>\n",
       "      <td>-0.351218</td>\n",
       "      <td>nonexistent</td>\n",
       "      <td>-0.276820</td>\n",
       "      <td>0.717869</td>\n",
       "    </tr>\n",
       "    <tr>\n",
       "      <th>1358</th>\n",
       "      <td>0.097451</td>\n",
       "      <td>admin.</td>\n",
       "      <td>married</td>\n",
       "      <td>basic.9y</td>\n",
       "      <td>telephone</td>\n",
       "      <td>may</td>\n",
       "      <td>thu</td>\n",
       "      <td>-0.564349</td>\n",
       "      <td>0.196256</td>\n",
       "      <td>-0.351218</td>\n",
       "      <td>nonexistent</td>\n",
       "      <td>0.892432</td>\n",
       "      <td>0.712681</td>\n",
       "    </tr>\n",
       "    <tr>\n",
       "      <th>...</th>\n",
       "      <td>...</td>\n",
       "      <td>...</td>\n",
       "      <td>...</td>\n",
       "      <td>...</td>\n",
       "      <td>...</td>\n",
       "      <td>...</td>\n",
       "      <td>...</td>\n",
       "      <td>...</td>\n",
       "      <td>...</td>\n",
       "      <td>...</td>\n",
       "      <td>...</td>\n",
       "      <td>...</td>\n",
       "      <td>...</td>\n",
       "    </tr>\n",
       "    <tr>\n",
       "      <th>15812</th>\n",
       "      <td>1.547045</td>\n",
       "      <td>housemaid</td>\n",
       "      <td>divorced</td>\n",
       "      <td>basic.4y</td>\n",
       "      <td>cellular</td>\n",
       "      <td>jul</td>\n",
       "      <td>mon</td>\n",
       "      <td>-0.204540</td>\n",
       "      <td>0.196256</td>\n",
       "      <td>-0.351218</td>\n",
       "      <td>nonexistent</td>\n",
       "      <td>-0.471695</td>\n",
       "      <td>0.773208</td>\n",
       "    </tr>\n",
       "    <tr>\n",
       "      <th>34049</th>\n",
       "      <td>-0.579026</td>\n",
       "      <td>admin.</td>\n",
       "      <td>single</td>\n",
       "      <td>high.school</td>\n",
       "      <td>cellular</td>\n",
       "      <td>may</td>\n",
       "      <td>wed</td>\n",
       "      <td>-0.204540</td>\n",
       "      <td>0.196256</td>\n",
       "      <td>1.665748</td>\n",
       "      <td>failure</td>\n",
       "      <td>-1.229544</td>\n",
       "      <td>-1.347533</td>\n",
       "    </tr>\n",
       "    <tr>\n",
       "      <th>3097</th>\n",
       "      <td>1.933603</td>\n",
       "      <td>unknown</td>\n",
       "      <td>married</td>\n",
       "      <td>university.degree</td>\n",
       "      <td>telephone</td>\n",
       "      <td>may</td>\n",
       "      <td>thu</td>\n",
       "      <td>-0.564349</td>\n",
       "      <td>0.196256</td>\n",
       "      <td>-0.351218</td>\n",
       "      <td>nonexistent</td>\n",
       "      <td>0.892432</td>\n",
       "      <td>0.715563</td>\n",
       "    </tr>\n",
       "    <tr>\n",
       "      <th>26234</th>\n",
       "      <td>0.000811</td>\n",
       "      <td>services</td>\n",
       "      <td>single</td>\n",
       "      <td>basic.6y</td>\n",
       "      <td>cellular</td>\n",
       "      <td>nov</td>\n",
       "      <td>thu</td>\n",
       "      <td>-0.564349</td>\n",
       "      <td>0.196256</td>\n",
       "      <td>-0.351218</td>\n",
       "      <td>nonexistent</td>\n",
       "      <td>-0.320126</td>\n",
       "      <td>0.263630</td>\n",
       "    </tr>\n",
       "    <tr>\n",
       "      <th>34052</th>\n",
       "      <td>0.387370</td>\n",
       "      <td>blue-collar</td>\n",
       "      <td>divorced</td>\n",
       "      <td>basic.4y</td>\n",
       "      <td>cellular</td>\n",
       "      <td>may</td>\n",
       "      <td>wed</td>\n",
       "      <td>-0.204540</td>\n",
       "      <td>0.196256</td>\n",
       "      <td>-0.351218</td>\n",
       "      <td>nonexistent</td>\n",
       "      <td>-1.229544</td>\n",
       "      <td>-1.347533</td>\n",
       "    </tr>\n",
       "  </tbody>\n",
       "</table>\n",
       "<p>28823 rows × 13 columns</p>\n",
       "</div>"
      ],
      "text/plain": [
       "            age          job   marital            education    contact month  \\\n",
       "22708 -0.095828       admin.   married  professional.course   cellular   aug   \n",
       "28573 -1.835341       admin.    single          high.school   cellular   apr   \n",
       "9537   0.290730   technician  divorced  professional.course  telephone   jun   \n",
       "8441  -0.965584       admin.    single          high.school  telephone   jun   \n",
       "1358   0.097451       admin.   married             basic.9y  telephone   may   \n",
       "...         ...          ...       ...                  ...        ...   ...   \n",
       "15812  1.547045    housemaid  divorced             basic.4y   cellular   jul   \n",
       "34049 -0.579026       admin.    single          high.school   cellular   may   \n",
       "3097   1.933603      unknown   married    university.degree  telephone   may   \n",
       "26234  0.000811     services    single             basic.6y   cellular   nov   \n",
       "34052  0.387370  blue-collar  divorced             basic.4y   cellular   may   \n",
       "\n",
       "      day_of_week  campaign     pdays  previous     poutcome  cons.conf.idx  \\\n",
       "22708         fri  0.155268  0.196256 -0.351218  nonexistent       0.957390   \n",
       "28573         wed -0.564349  0.196256 -0.351218  nonexistent      -1.424419   \n",
       "9537          mon  0.155268  0.196256 -0.351218  nonexistent      -0.276820   \n",
       "8441          tue -0.204540  0.196256 -0.351218  nonexistent      -0.276820   \n",
       "1358          thu -0.564349  0.196256 -0.351218  nonexistent       0.892432   \n",
       "...           ...       ...       ...       ...          ...            ...   \n",
       "15812         mon -0.204540  0.196256 -0.351218  nonexistent      -0.471695   \n",
       "34049         wed -0.204540  0.196256  1.665748      failure      -1.229544   \n",
       "3097          thu -0.564349  0.196256 -0.351218  nonexistent       0.892432   \n",
       "26234         thu -0.564349  0.196256 -0.351218  nonexistent      -0.320126   \n",
       "34052         wed -0.204540  0.196256 -0.351218  nonexistent      -1.229544   \n",
       "\n",
       "       euribor3m  \n",
       "22708   0.775514  \n",
       "28573  -1.270289  \n",
       "9537    0.773784  \n",
       "8441    0.717869  \n",
       "1358    0.712681  \n",
       "...          ...  \n",
       "15812   0.773208  \n",
       "34049  -1.347533  \n",
       "3097    0.715563  \n",
       "26234   0.263630  \n",
       "34052  -1.347533  \n",
       "\n",
       "[28823 rows x 13 columns]"
      ]
     },
     "execution_count": 104,
     "metadata": {},
     "output_type": "execute_result"
    }
   ],
   "source": [
    "X_train"
   ]
  },
  {
   "cell_type": "code",
   "execution_count": 105,
   "id": "2ba5d716",
   "metadata": {},
   "outputs": [
    {
     "data": {
      "text/html": [
       "<div>\n",
       "<style scoped>\n",
       "    .dataframe tbody tr th:only-of-type {\n",
       "        vertical-align: middle;\n",
       "    }\n",
       "\n",
       "    .dataframe tbody tr th {\n",
       "        vertical-align: top;\n",
       "    }\n",
       "\n",
       "    .dataframe thead th {\n",
       "        text-align: right;\n",
       "    }\n",
       "</style>\n",
       "<table border=\"1\" class=\"dataframe\">\n",
       "  <thead>\n",
       "    <tr style=\"text-align: right;\">\n",
       "      <th></th>\n",
       "      <th>age</th>\n",
       "      <th>job</th>\n",
       "      <th>marital</th>\n",
       "      <th>education</th>\n",
       "      <th>contact</th>\n",
       "      <th>month</th>\n",
       "      <th>day_of_week</th>\n",
       "      <th>campaign</th>\n",
       "      <th>pdays</th>\n",
       "      <th>previous</th>\n",
       "      <th>poutcome</th>\n",
       "      <th>cons.conf.idx</th>\n",
       "      <th>euribor3m</th>\n",
       "    </tr>\n",
       "  </thead>\n",
       "  <tbody>\n",
       "    <tr>\n",
       "      <th>22377</th>\n",
       "      <td>1.690671</td>\n",
       "      <td>retired</td>\n",
       "      <td>married</td>\n",
       "      <td>basic.4y</td>\n",
       "      <td>cellular</td>\n",
       "      <td>aug</td>\n",
       "      <td>fri</td>\n",
       "      <td>-0.569796</td>\n",
       "      <td>0.193537</td>\n",
       "      <td>-0.345652</td>\n",
       "      <td>nonexistent</td>\n",
       "      <td>0.937570</td>\n",
       "      <td>0.770990</td>\n",
       "    </tr>\n",
       "    <tr>\n",
       "      <th>22736</th>\n",
       "      <td>-0.481569</td>\n",
       "      <td>management</td>\n",
       "      <td>divorced</td>\n",
       "      <td>university.degree</td>\n",
       "      <td>cellular</td>\n",
       "      <td>aug</td>\n",
       "      <td>mon</td>\n",
       "      <td>1.612629</td>\n",
       "      <td>0.193537</td>\n",
       "      <td>-0.345652</td>\n",
       "      <td>nonexistent</td>\n",
       "      <td>0.937570</td>\n",
       "      <td>0.771566</td>\n",
       "    </tr>\n",
       "    <tr>\n",
       "      <th>33023</th>\n",
       "      <td>0.368438</td>\n",
       "      <td>technician</td>\n",
       "      <td>married</td>\n",
       "      <td>professional.course</td>\n",
       "      <td>cellular</td>\n",
       "      <td>may</td>\n",
       "      <td>mon</td>\n",
       "      <td>-0.206058</td>\n",
       "      <td>0.193537</td>\n",
       "      <td>-0.345652</td>\n",
       "      <td>nonexistent</td>\n",
       "      <td>-1.234695</td>\n",
       "      <td>-1.343143</td>\n",
       "    </tr>\n",
       "    <tr>\n",
       "      <th>20815</th>\n",
       "      <td>1.785116</td>\n",
       "      <td>retired</td>\n",
       "      <td>married</td>\n",
       "      <td>university.degree</td>\n",
       "      <td>cellular</td>\n",
       "      <td>aug</td>\n",
       "      <td>wed</td>\n",
       "      <td>0.157679</td>\n",
       "      <td>0.193537</td>\n",
       "      <td>-0.345652</td>\n",
       "      <td>nonexistent</td>\n",
       "      <td>0.937570</td>\n",
       "      <td>0.771566</td>\n",
       "    </tr>\n",
       "    <tr>\n",
       "      <th>25924</th>\n",
       "      <td>0.085102</td>\n",
       "      <td>admin.</td>\n",
       "      <td>married</td>\n",
       "      <td>university.degree</td>\n",
       "      <td>telephone</td>\n",
       "      <td>nov</td>\n",
       "      <td>wed</td>\n",
       "      <td>-0.569796</td>\n",
       "      <td>0.193537</td>\n",
       "      <td>-0.345652</td>\n",
       "      <td>nonexistent</td>\n",
       "      <td>-0.331377</td>\n",
       "      <td>0.284133</td>\n",
       "    </tr>\n",
       "    <tr>\n",
       "      <th>...</th>\n",
       "      <td>...</td>\n",
       "      <td>...</td>\n",
       "      <td>...</td>\n",
       "      <td>...</td>\n",
       "      <td>...</td>\n",
       "      <td>...</td>\n",
       "      <td>...</td>\n",
       "      <td>...</td>\n",
       "      <td>...</td>\n",
       "      <td>...</td>\n",
       "      <td>...</td>\n",
       "      <td>...</td>\n",
       "      <td>...</td>\n",
       "    </tr>\n",
       "    <tr>\n",
       "      <th>36143</th>\n",
       "      <td>2.635123</td>\n",
       "      <td>retired</td>\n",
       "      <td>married</td>\n",
       "      <td>university.degree</td>\n",
       "      <td>cellular</td>\n",
       "      <td>may</td>\n",
       "      <td>wed</td>\n",
       "      <td>-0.206058</td>\n",
       "      <td>0.193537</td>\n",
       "      <td>-0.345652</td>\n",
       "      <td>nonexistent</td>\n",
       "      <td>-1.234695</td>\n",
       "      <td>-1.359872</td>\n",
       "    </tr>\n",
       "    <tr>\n",
       "      <th>29846</th>\n",
       "      <td>-0.481569</td>\n",
       "      <td>admin.</td>\n",
       "      <td>single</td>\n",
       "      <td>basic.9y</td>\n",
       "      <td>cellular</td>\n",
       "      <td>apr</td>\n",
       "      <td>mon</td>\n",
       "      <td>-0.206058</td>\n",
       "      <td>0.193537</td>\n",
       "      <td>-0.345652</td>\n",
       "      <td>nonexistent</td>\n",
       "      <td>-1.428263</td>\n",
       "      <td>-1.281998</td>\n",
       "    </tr>\n",
       "    <tr>\n",
       "      <th>25917</th>\n",
       "      <td>0.651774</td>\n",
       "      <td>admin.</td>\n",
       "      <td>married</td>\n",
       "      <td>university.degree</td>\n",
       "      <td>cellular</td>\n",
       "      <td>nov</td>\n",
       "      <td>wed</td>\n",
       "      <td>-0.569796</td>\n",
       "      <td>0.193537</td>\n",
       "      <td>1.682774</td>\n",
       "      <td>failure</td>\n",
       "      <td>-0.331377</td>\n",
       "      <td>0.284133</td>\n",
       "    </tr>\n",
       "    <tr>\n",
       "      <th>11741</th>\n",
       "      <td>0.179548</td>\n",
       "      <td>housemaid</td>\n",
       "      <td>married</td>\n",
       "      <td>basic.4y</td>\n",
       "      <td>telephone</td>\n",
       "      <td>jun</td>\n",
       "      <td>fri</td>\n",
       "      <td>1.976367</td>\n",
       "      <td>0.193537</td>\n",
       "      <td>-0.345652</td>\n",
       "      <td>nonexistent</td>\n",
       "      <td>-0.288361</td>\n",
       "      <td>0.768105</td>\n",
       "    </tr>\n",
       "    <tr>\n",
       "      <th>30680</th>\n",
       "      <td>-0.198233</td>\n",
       "      <td>admin.</td>\n",
       "      <td>divorced</td>\n",
       "      <td>high.school</td>\n",
       "      <td>cellular</td>\n",
       "      <td>may</td>\n",
       "      <td>tue</td>\n",
       "      <td>-0.569796</td>\n",
       "      <td>0.193537</td>\n",
       "      <td>-0.345652</td>\n",
       "      <td>nonexistent</td>\n",
       "      <td>-1.234695</td>\n",
       "      <td>-1.317185</td>\n",
       "    </tr>\n",
       "  </tbody>\n",
       "</table>\n",
       "<p>12353 rows × 13 columns</p>\n",
       "</div>"
      ],
      "text/plain": [
       "            age         job   marital            education    contact month  \\\n",
       "22377  1.690671     retired   married             basic.4y   cellular   aug   \n",
       "22736 -0.481569  management  divorced    university.degree   cellular   aug   \n",
       "33023  0.368438  technician   married  professional.course   cellular   may   \n",
       "20815  1.785116     retired   married    university.degree   cellular   aug   \n",
       "25924  0.085102      admin.   married    university.degree  telephone   nov   \n",
       "...         ...         ...       ...                  ...        ...   ...   \n",
       "36143  2.635123     retired   married    university.degree   cellular   may   \n",
       "29846 -0.481569      admin.    single             basic.9y   cellular   apr   \n",
       "25917  0.651774      admin.   married    university.degree   cellular   nov   \n",
       "11741  0.179548   housemaid   married             basic.4y  telephone   jun   \n",
       "30680 -0.198233      admin.  divorced          high.school   cellular   may   \n",
       "\n",
       "      day_of_week  campaign     pdays  previous     poutcome  cons.conf.idx  \\\n",
       "22377         fri -0.569796  0.193537 -0.345652  nonexistent       0.937570   \n",
       "22736         mon  1.612629  0.193537 -0.345652  nonexistent       0.937570   \n",
       "33023         mon -0.206058  0.193537 -0.345652  nonexistent      -1.234695   \n",
       "20815         wed  0.157679  0.193537 -0.345652  nonexistent       0.937570   \n",
       "25924         wed -0.569796  0.193537 -0.345652  nonexistent      -0.331377   \n",
       "...           ...       ...       ...       ...          ...            ...   \n",
       "36143         wed -0.206058  0.193537 -0.345652  nonexistent      -1.234695   \n",
       "29846         mon -0.206058  0.193537 -0.345652  nonexistent      -1.428263   \n",
       "25917         wed -0.569796  0.193537  1.682774      failure      -0.331377   \n",
       "11741         fri  1.976367  0.193537 -0.345652  nonexistent      -0.288361   \n",
       "30680         tue -0.569796  0.193537 -0.345652  nonexistent      -1.234695   \n",
       "\n",
       "       euribor3m  \n",
       "22377   0.770990  \n",
       "22736   0.771566  \n",
       "33023  -1.343143  \n",
       "20815   0.771566  \n",
       "25924   0.284133  \n",
       "...          ...  \n",
       "36143  -1.359872  \n",
       "29846  -1.281998  \n",
       "25917   0.284133  \n",
       "11741   0.768105  \n",
       "30680  -1.317185  \n",
       "\n",
       "[12353 rows x 13 columns]"
      ]
     },
     "execution_count": 105,
     "metadata": {},
     "output_type": "execute_result"
    }
   ],
   "source": [
    "X_test"
   ]
  },
  {
   "cell_type": "code",
   "execution_count": 106,
   "id": "8bc9ed23",
   "metadata": {},
   "outputs": [
    {
     "data": {
      "text/plain": [
       "['job',\n",
       " 'marital',\n",
       " 'education',\n",
       " 'default',\n",
       " 'housing',\n",
       " 'loan',\n",
       " 'contact',\n",
       " 'month',\n",
       " 'day_of_week',\n",
       " 'poutcome']"
      ]
     },
     "execution_count": 106,
     "metadata": {},
     "output_type": "execute_result"
    }
   ],
   "source": [
    "cat_cols"
   ]
  },
  {
   "cell_type": "code",
   "execution_count": 107,
   "id": "b5fb7e96",
   "metadata": {},
   "outputs": [],
   "source": [
    "cat_cols.remove(\"default\")\n",
    "cat_cols.remove(\"housing\")\n",
    "cat_cols.remove(\"loan\")"
   ]
  },
  {
   "cell_type": "code",
   "execution_count": 108,
   "id": "3787ebd4",
   "metadata": {},
   "outputs": [
    {
     "data": {
      "text/plain": [
       "['job', 'marital', 'education', 'contact', 'month', 'day_of_week', 'poutcome']"
      ]
     },
     "execution_count": 108,
     "metadata": {},
     "output_type": "execute_result"
    }
   ],
   "source": [
    "cat_cols"
   ]
  },
  {
   "cell_type": "code",
   "execution_count": 109,
   "id": "677aa651",
   "metadata": {},
   "outputs": [],
   "source": [
    "X_train = pd.get_dummies(X_train,columns= cat_cols)\n",
    "X_test =  pd.get_dummies(X_test,columns= cat_cols)"
   ]
  },
  {
   "cell_type": "code",
   "execution_count": 110,
   "id": "87268dd4",
   "metadata": {},
   "outputs": [
    {
     "data": {
      "text/html": [
       "<div>\n",
       "<style scoped>\n",
       "    .dataframe tbody tr th:only-of-type {\n",
       "        vertical-align: middle;\n",
       "    }\n",
       "\n",
       "    .dataframe tbody tr th {\n",
       "        vertical-align: top;\n",
       "    }\n",
       "\n",
       "    .dataframe thead th {\n",
       "        text-align: right;\n",
       "    }\n",
       "</style>\n",
       "<table border=\"1\" class=\"dataframe\">\n",
       "  <thead>\n",
       "    <tr style=\"text-align: right;\">\n",
       "      <th></th>\n",
       "      <th>age</th>\n",
       "      <th>campaign</th>\n",
       "      <th>pdays</th>\n",
       "      <th>previous</th>\n",
       "      <th>cons.conf.idx</th>\n",
       "      <th>euribor3m</th>\n",
       "      <th>job_admin.</th>\n",
       "      <th>job_blue-collar</th>\n",
       "      <th>job_entrepreneur</th>\n",
       "      <th>job_housemaid</th>\n",
       "      <th>...</th>\n",
       "      <th>month_oct</th>\n",
       "      <th>month_sep</th>\n",
       "      <th>day_of_week_fri</th>\n",
       "      <th>day_of_week_mon</th>\n",
       "      <th>day_of_week_thu</th>\n",
       "      <th>day_of_week_tue</th>\n",
       "      <th>day_of_week_wed</th>\n",
       "      <th>poutcome_failure</th>\n",
       "      <th>poutcome_nonexistent</th>\n",
       "      <th>poutcome_success</th>\n",
       "    </tr>\n",
       "  </thead>\n",
       "  <tbody>\n",
       "    <tr>\n",
       "      <th>22708</th>\n",
       "      <td>-0.095828</td>\n",
       "      <td>0.155268</td>\n",
       "      <td>0.196256</td>\n",
       "      <td>-0.351218</td>\n",
       "      <td>0.957390</td>\n",
       "      <td>0.775514</td>\n",
       "      <td>1</td>\n",
       "      <td>0</td>\n",
       "      <td>0</td>\n",
       "      <td>0</td>\n",
       "      <td>...</td>\n",
       "      <td>0</td>\n",
       "      <td>0</td>\n",
       "      <td>1</td>\n",
       "      <td>0</td>\n",
       "      <td>0</td>\n",
       "      <td>0</td>\n",
       "      <td>0</td>\n",
       "      <td>0</td>\n",
       "      <td>1</td>\n",
       "      <td>0</td>\n",
       "    </tr>\n",
       "    <tr>\n",
       "      <th>28573</th>\n",
       "      <td>-1.835341</td>\n",
       "      <td>-0.564349</td>\n",
       "      <td>0.196256</td>\n",
       "      <td>-0.351218</td>\n",
       "      <td>-1.424419</td>\n",
       "      <td>-1.270289</td>\n",
       "      <td>1</td>\n",
       "      <td>0</td>\n",
       "      <td>0</td>\n",
       "      <td>0</td>\n",
       "      <td>...</td>\n",
       "      <td>0</td>\n",
       "      <td>0</td>\n",
       "      <td>0</td>\n",
       "      <td>0</td>\n",
       "      <td>0</td>\n",
       "      <td>0</td>\n",
       "      <td>1</td>\n",
       "      <td>0</td>\n",
       "      <td>1</td>\n",
       "      <td>0</td>\n",
       "    </tr>\n",
       "    <tr>\n",
       "      <th>9537</th>\n",
       "      <td>0.290730</td>\n",
       "      <td>0.155268</td>\n",
       "      <td>0.196256</td>\n",
       "      <td>-0.351218</td>\n",
       "      <td>-0.276820</td>\n",
       "      <td>0.773784</td>\n",
       "      <td>0</td>\n",
       "      <td>0</td>\n",
       "      <td>0</td>\n",
       "      <td>0</td>\n",
       "      <td>...</td>\n",
       "      <td>0</td>\n",
       "      <td>0</td>\n",
       "      <td>0</td>\n",
       "      <td>1</td>\n",
       "      <td>0</td>\n",
       "      <td>0</td>\n",
       "      <td>0</td>\n",
       "      <td>0</td>\n",
       "      <td>1</td>\n",
       "      <td>0</td>\n",
       "    </tr>\n",
       "    <tr>\n",
       "      <th>8441</th>\n",
       "      <td>-0.965584</td>\n",
       "      <td>-0.204540</td>\n",
       "      <td>0.196256</td>\n",
       "      <td>-0.351218</td>\n",
       "      <td>-0.276820</td>\n",
       "      <td>0.717869</td>\n",
       "      <td>1</td>\n",
       "      <td>0</td>\n",
       "      <td>0</td>\n",
       "      <td>0</td>\n",
       "      <td>...</td>\n",
       "      <td>0</td>\n",
       "      <td>0</td>\n",
       "      <td>0</td>\n",
       "      <td>0</td>\n",
       "      <td>0</td>\n",
       "      <td>1</td>\n",
       "      <td>0</td>\n",
       "      <td>0</td>\n",
       "      <td>1</td>\n",
       "      <td>0</td>\n",
       "    </tr>\n",
       "    <tr>\n",
       "      <th>1358</th>\n",
       "      <td>0.097451</td>\n",
       "      <td>-0.564349</td>\n",
       "      <td>0.196256</td>\n",
       "      <td>-0.351218</td>\n",
       "      <td>0.892432</td>\n",
       "      <td>0.712681</td>\n",
       "      <td>1</td>\n",
       "      <td>0</td>\n",
       "      <td>0</td>\n",
       "      <td>0</td>\n",
       "      <td>...</td>\n",
       "      <td>0</td>\n",
       "      <td>0</td>\n",
       "      <td>0</td>\n",
       "      <td>0</td>\n",
       "      <td>1</td>\n",
       "      <td>0</td>\n",
       "      <td>0</td>\n",
       "      <td>0</td>\n",
       "      <td>1</td>\n",
       "      <td>0</td>\n",
       "    </tr>\n",
       "    <tr>\n",
       "      <th>...</th>\n",
       "      <td>...</td>\n",
       "      <td>...</td>\n",
       "      <td>...</td>\n",
       "      <td>...</td>\n",
       "      <td>...</td>\n",
       "      <td>...</td>\n",
       "      <td>...</td>\n",
       "      <td>...</td>\n",
       "      <td>...</td>\n",
       "      <td>...</td>\n",
       "      <td>...</td>\n",
       "      <td>...</td>\n",
       "      <td>...</td>\n",
       "      <td>...</td>\n",
       "      <td>...</td>\n",
       "      <td>...</td>\n",
       "      <td>...</td>\n",
       "      <td>...</td>\n",
       "      <td>...</td>\n",
       "      <td>...</td>\n",
       "      <td>...</td>\n",
       "    </tr>\n",
       "    <tr>\n",
       "      <th>15812</th>\n",
       "      <td>1.547045</td>\n",
       "      <td>-0.204540</td>\n",
       "      <td>0.196256</td>\n",
       "      <td>-0.351218</td>\n",
       "      <td>-0.471695</td>\n",
       "      <td>0.773208</td>\n",
       "      <td>0</td>\n",
       "      <td>0</td>\n",
       "      <td>0</td>\n",
       "      <td>1</td>\n",
       "      <td>...</td>\n",
       "      <td>0</td>\n",
       "      <td>0</td>\n",
       "      <td>0</td>\n",
       "      <td>1</td>\n",
       "      <td>0</td>\n",
       "      <td>0</td>\n",
       "      <td>0</td>\n",
       "      <td>0</td>\n",
       "      <td>1</td>\n",
       "      <td>0</td>\n",
       "    </tr>\n",
       "    <tr>\n",
       "      <th>34049</th>\n",
       "      <td>-0.579026</td>\n",
       "      <td>-0.204540</td>\n",
       "      <td>0.196256</td>\n",
       "      <td>1.665748</td>\n",
       "      <td>-1.229544</td>\n",
       "      <td>-1.347533</td>\n",
       "      <td>1</td>\n",
       "      <td>0</td>\n",
       "      <td>0</td>\n",
       "      <td>0</td>\n",
       "      <td>...</td>\n",
       "      <td>0</td>\n",
       "      <td>0</td>\n",
       "      <td>0</td>\n",
       "      <td>0</td>\n",
       "      <td>0</td>\n",
       "      <td>0</td>\n",
       "      <td>1</td>\n",
       "      <td>1</td>\n",
       "      <td>0</td>\n",
       "      <td>0</td>\n",
       "    </tr>\n",
       "    <tr>\n",
       "      <th>3097</th>\n",
       "      <td>1.933603</td>\n",
       "      <td>-0.564349</td>\n",
       "      <td>0.196256</td>\n",
       "      <td>-0.351218</td>\n",
       "      <td>0.892432</td>\n",
       "      <td>0.715563</td>\n",
       "      <td>0</td>\n",
       "      <td>0</td>\n",
       "      <td>0</td>\n",
       "      <td>0</td>\n",
       "      <td>...</td>\n",
       "      <td>0</td>\n",
       "      <td>0</td>\n",
       "      <td>0</td>\n",
       "      <td>0</td>\n",
       "      <td>1</td>\n",
       "      <td>0</td>\n",
       "      <td>0</td>\n",
       "      <td>0</td>\n",
       "      <td>1</td>\n",
       "      <td>0</td>\n",
       "    </tr>\n",
       "    <tr>\n",
       "      <th>26234</th>\n",
       "      <td>0.000811</td>\n",
       "      <td>-0.564349</td>\n",
       "      <td>0.196256</td>\n",
       "      <td>-0.351218</td>\n",
       "      <td>-0.320126</td>\n",
       "      <td>0.263630</td>\n",
       "      <td>0</td>\n",
       "      <td>0</td>\n",
       "      <td>0</td>\n",
       "      <td>0</td>\n",
       "      <td>...</td>\n",
       "      <td>0</td>\n",
       "      <td>0</td>\n",
       "      <td>0</td>\n",
       "      <td>0</td>\n",
       "      <td>1</td>\n",
       "      <td>0</td>\n",
       "      <td>0</td>\n",
       "      <td>0</td>\n",
       "      <td>1</td>\n",
       "      <td>0</td>\n",
       "    </tr>\n",
       "    <tr>\n",
       "      <th>34052</th>\n",
       "      <td>0.387370</td>\n",
       "      <td>-0.204540</td>\n",
       "      <td>0.196256</td>\n",
       "      <td>-0.351218</td>\n",
       "      <td>-1.229544</td>\n",
       "      <td>-1.347533</td>\n",
       "      <td>0</td>\n",
       "      <td>1</td>\n",
       "      <td>0</td>\n",
       "      <td>0</td>\n",
       "      <td>...</td>\n",
       "      <td>0</td>\n",
       "      <td>0</td>\n",
       "      <td>0</td>\n",
       "      <td>0</td>\n",
       "      <td>0</td>\n",
       "      <td>0</td>\n",
       "      <td>1</td>\n",
       "      <td>0</td>\n",
       "      <td>1</td>\n",
       "      <td>0</td>\n",
       "    </tr>\n",
       "  </tbody>\n",
       "</table>\n",
       "<p>28823 rows × 50 columns</p>\n",
       "</div>"
      ],
      "text/plain": [
       "            age  campaign     pdays  previous  cons.conf.idx  euribor3m  \\\n",
       "22708 -0.095828  0.155268  0.196256 -0.351218       0.957390   0.775514   \n",
       "28573 -1.835341 -0.564349  0.196256 -0.351218      -1.424419  -1.270289   \n",
       "9537   0.290730  0.155268  0.196256 -0.351218      -0.276820   0.773784   \n",
       "8441  -0.965584 -0.204540  0.196256 -0.351218      -0.276820   0.717869   \n",
       "1358   0.097451 -0.564349  0.196256 -0.351218       0.892432   0.712681   \n",
       "...         ...       ...       ...       ...            ...        ...   \n",
       "15812  1.547045 -0.204540  0.196256 -0.351218      -0.471695   0.773208   \n",
       "34049 -0.579026 -0.204540  0.196256  1.665748      -1.229544  -1.347533   \n",
       "3097   1.933603 -0.564349  0.196256 -0.351218       0.892432   0.715563   \n",
       "26234  0.000811 -0.564349  0.196256 -0.351218      -0.320126   0.263630   \n",
       "34052  0.387370 -0.204540  0.196256 -0.351218      -1.229544  -1.347533   \n",
       "\n",
       "       job_admin.  job_blue-collar  job_entrepreneur  job_housemaid  ...  \\\n",
       "22708           1                0                 0              0  ...   \n",
       "28573           1                0                 0              0  ...   \n",
       "9537            0                0                 0              0  ...   \n",
       "8441            1                0                 0              0  ...   \n",
       "1358            1                0                 0              0  ...   \n",
       "...           ...              ...               ...            ...  ...   \n",
       "15812           0                0                 0              1  ...   \n",
       "34049           1                0                 0              0  ...   \n",
       "3097            0                0                 0              0  ...   \n",
       "26234           0                0                 0              0  ...   \n",
       "34052           0                1                 0              0  ...   \n",
       "\n",
       "       month_oct  month_sep  day_of_week_fri  day_of_week_mon  \\\n",
       "22708          0          0                1                0   \n",
       "28573          0          0                0                0   \n",
       "9537           0          0                0                1   \n",
       "8441           0          0                0                0   \n",
       "1358           0          0                0                0   \n",
       "...          ...        ...              ...              ...   \n",
       "15812          0          0                0                1   \n",
       "34049          0          0                0                0   \n",
       "3097           0          0                0                0   \n",
       "26234          0          0                0                0   \n",
       "34052          0          0                0                0   \n",
       "\n",
       "       day_of_week_thu  day_of_week_tue  day_of_week_wed  poutcome_failure  \\\n",
       "22708                0                0                0                 0   \n",
       "28573                0                0                1                 0   \n",
       "9537                 0                0                0                 0   \n",
       "8441                 0                1                0                 0   \n",
       "1358                 1                0                0                 0   \n",
       "...                ...              ...              ...               ...   \n",
       "15812                0                0                0                 0   \n",
       "34049                0                0                1                 1   \n",
       "3097                 1                0                0                 0   \n",
       "26234                1                0                0                 0   \n",
       "34052                0                0                1                 0   \n",
       "\n",
       "       poutcome_nonexistent  poutcome_success  \n",
       "22708                     1                 0  \n",
       "28573                     1                 0  \n",
       "9537                      1                 0  \n",
       "8441                      1                 0  \n",
       "1358                      1                 0  \n",
       "...                     ...               ...  \n",
       "15812                     1                 0  \n",
       "34049                     0                 0  \n",
       "3097                      1                 0  \n",
       "26234                     1                 0  \n",
       "34052                     1                 0  \n",
       "\n",
       "[28823 rows x 50 columns]"
      ]
     },
     "execution_count": 110,
     "metadata": {},
     "output_type": "execute_result"
    }
   ],
   "source": [
    "X_train"
   ]
  },
  {
   "cell_type": "code",
   "execution_count": 111,
   "id": "f3ac2eac",
   "metadata": {},
   "outputs": [
    {
     "data": {
      "text/html": [
       "<div>\n",
       "<style scoped>\n",
       "    .dataframe tbody tr th:only-of-type {\n",
       "        vertical-align: middle;\n",
       "    }\n",
       "\n",
       "    .dataframe tbody tr th {\n",
       "        vertical-align: top;\n",
       "    }\n",
       "\n",
       "    .dataframe thead th {\n",
       "        text-align: right;\n",
       "    }\n",
       "</style>\n",
       "<table border=\"1\" class=\"dataframe\">\n",
       "  <thead>\n",
       "    <tr style=\"text-align: right;\">\n",
       "      <th></th>\n",
       "      <th>age</th>\n",
       "      <th>campaign</th>\n",
       "      <th>pdays</th>\n",
       "      <th>previous</th>\n",
       "      <th>cons.conf.idx</th>\n",
       "      <th>euribor3m</th>\n",
       "      <th>job_admin.</th>\n",
       "      <th>job_blue-collar</th>\n",
       "      <th>job_entrepreneur</th>\n",
       "      <th>job_housemaid</th>\n",
       "      <th>...</th>\n",
       "      <th>month_oct</th>\n",
       "      <th>month_sep</th>\n",
       "      <th>day_of_week_fri</th>\n",
       "      <th>day_of_week_mon</th>\n",
       "      <th>day_of_week_thu</th>\n",
       "      <th>day_of_week_tue</th>\n",
       "      <th>day_of_week_wed</th>\n",
       "      <th>poutcome_failure</th>\n",
       "      <th>poutcome_nonexistent</th>\n",
       "      <th>poutcome_success</th>\n",
       "    </tr>\n",
       "  </thead>\n",
       "  <tbody>\n",
       "    <tr>\n",
       "      <th>22377</th>\n",
       "      <td>1.690671</td>\n",
       "      <td>-0.569796</td>\n",
       "      <td>0.193537</td>\n",
       "      <td>-0.345652</td>\n",
       "      <td>0.937570</td>\n",
       "      <td>0.770990</td>\n",
       "      <td>0</td>\n",
       "      <td>0</td>\n",
       "      <td>0</td>\n",
       "      <td>0</td>\n",
       "      <td>...</td>\n",
       "      <td>0</td>\n",
       "      <td>0</td>\n",
       "      <td>1</td>\n",
       "      <td>0</td>\n",
       "      <td>0</td>\n",
       "      <td>0</td>\n",
       "      <td>0</td>\n",
       "      <td>0</td>\n",
       "      <td>1</td>\n",
       "      <td>0</td>\n",
       "    </tr>\n",
       "    <tr>\n",
       "      <th>22736</th>\n",
       "      <td>-0.481569</td>\n",
       "      <td>1.612629</td>\n",
       "      <td>0.193537</td>\n",
       "      <td>-0.345652</td>\n",
       "      <td>0.937570</td>\n",
       "      <td>0.771566</td>\n",
       "      <td>0</td>\n",
       "      <td>0</td>\n",
       "      <td>0</td>\n",
       "      <td>0</td>\n",
       "      <td>...</td>\n",
       "      <td>0</td>\n",
       "      <td>0</td>\n",
       "      <td>0</td>\n",
       "      <td>1</td>\n",
       "      <td>0</td>\n",
       "      <td>0</td>\n",
       "      <td>0</td>\n",
       "      <td>0</td>\n",
       "      <td>1</td>\n",
       "      <td>0</td>\n",
       "    </tr>\n",
       "    <tr>\n",
       "      <th>33023</th>\n",
       "      <td>0.368438</td>\n",
       "      <td>-0.206058</td>\n",
       "      <td>0.193537</td>\n",
       "      <td>-0.345652</td>\n",
       "      <td>-1.234695</td>\n",
       "      <td>-1.343143</td>\n",
       "      <td>0</td>\n",
       "      <td>0</td>\n",
       "      <td>0</td>\n",
       "      <td>0</td>\n",
       "      <td>...</td>\n",
       "      <td>0</td>\n",
       "      <td>0</td>\n",
       "      <td>0</td>\n",
       "      <td>1</td>\n",
       "      <td>0</td>\n",
       "      <td>0</td>\n",
       "      <td>0</td>\n",
       "      <td>0</td>\n",
       "      <td>1</td>\n",
       "      <td>0</td>\n",
       "    </tr>\n",
       "    <tr>\n",
       "      <th>20815</th>\n",
       "      <td>1.785116</td>\n",
       "      <td>0.157679</td>\n",
       "      <td>0.193537</td>\n",
       "      <td>-0.345652</td>\n",
       "      <td>0.937570</td>\n",
       "      <td>0.771566</td>\n",
       "      <td>0</td>\n",
       "      <td>0</td>\n",
       "      <td>0</td>\n",
       "      <td>0</td>\n",
       "      <td>...</td>\n",
       "      <td>0</td>\n",
       "      <td>0</td>\n",
       "      <td>0</td>\n",
       "      <td>0</td>\n",
       "      <td>0</td>\n",
       "      <td>0</td>\n",
       "      <td>1</td>\n",
       "      <td>0</td>\n",
       "      <td>1</td>\n",
       "      <td>0</td>\n",
       "    </tr>\n",
       "    <tr>\n",
       "      <th>25924</th>\n",
       "      <td>0.085102</td>\n",
       "      <td>-0.569796</td>\n",
       "      <td>0.193537</td>\n",
       "      <td>-0.345652</td>\n",
       "      <td>-0.331377</td>\n",
       "      <td>0.284133</td>\n",
       "      <td>1</td>\n",
       "      <td>0</td>\n",
       "      <td>0</td>\n",
       "      <td>0</td>\n",
       "      <td>...</td>\n",
       "      <td>0</td>\n",
       "      <td>0</td>\n",
       "      <td>0</td>\n",
       "      <td>0</td>\n",
       "      <td>0</td>\n",
       "      <td>0</td>\n",
       "      <td>1</td>\n",
       "      <td>0</td>\n",
       "      <td>1</td>\n",
       "      <td>0</td>\n",
       "    </tr>\n",
       "    <tr>\n",
       "      <th>...</th>\n",
       "      <td>...</td>\n",
       "      <td>...</td>\n",
       "      <td>...</td>\n",
       "      <td>...</td>\n",
       "      <td>...</td>\n",
       "      <td>...</td>\n",
       "      <td>...</td>\n",
       "      <td>...</td>\n",
       "      <td>...</td>\n",
       "      <td>...</td>\n",
       "      <td>...</td>\n",
       "      <td>...</td>\n",
       "      <td>...</td>\n",
       "      <td>...</td>\n",
       "      <td>...</td>\n",
       "      <td>...</td>\n",
       "      <td>...</td>\n",
       "      <td>...</td>\n",
       "      <td>...</td>\n",
       "      <td>...</td>\n",
       "      <td>...</td>\n",
       "    </tr>\n",
       "    <tr>\n",
       "      <th>36143</th>\n",
       "      <td>2.635123</td>\n",
       "      <td>-0.206058</td>\n",
       "      <td>0.193537</td>\n",
       "      <td>-0.345652</td>\n",
       "      <td>-1.234695</td>\n",
       "      <td>-1.359872</td>\n",
       "      <td>0</td>\n",
       "      <td>0</td>\n",
       "      <td>0</td>\n",
       "      <td>0</td>\n",
       "      <td>...</td>\n",
       "      <td>0</td>\n",
       "      <td>0</td>\n",
       "      <td>0</td>\n",
       "      <td>0</td>\n",
       "      <td>0</td>\n",
       "      <td>0</td>\n",
       "      <td>1</td>\n",
       "      <td>0</td>\n",
       "      <td>1</td>\n",
       "      <td>0</td>\n",
       "    </tr>\n",
       "    <tr>\n",
       "      <th>29846</th>\n",
       "      <td>-0.481569</td>\n",
       "      <td>-0.206058</td>\n",
       "      <td>0.193537</td>\n",
       "      <td>-0.345652</td>\n",
       "      <td>-1.428263</td>\n",
       "      <td>-1.281998</td>\n",
       "      <td>1</td>\n",
       "      <td>0</td>\n",
       "      <td>0</td>\n",
       "      <td>0</td>\n",
       "      <td>...</td>\n",
       "      <td>0</td>\n",
       "      <td>0</td>\n",
       "      <td>0</td>\n",
       "      <td>1</td>\n",
       "      <td>0</td>\n",
       "      <td>0</td>\n",
       "      <td>0</td>\n",
       "      <td>0</td>\n",
       "      <td>1</td>\n",
       "      <td>0</td>\n",
       "    </tr>\n",
       "    <tr>\n",
       "      <th>25917</th>\n",
       "      <td>0.651774</td>\n",
       "      <td>-0.569796</td>\n",
       "      <td>0.193537</td>\n",
       "      <td>1.682774</td>\n",
       "      <td>-0.331377</td>\n",
       "      <td>0.284133</td>\n",
       "      <td>1</td>\n",
       "      <td>0</td>\n",
       "      <td>0</td>\n",
       "      <td>0</td>\n",
       "      <td>...</td>\n",
       "      <td>0</td>\n",
       "      <td>0</td>\n",
       "      <td>0</td>\n",
       "      <td>0</td>\n",
       "      <td>0</td>\n",
       "      <td>0</td>\n",
       "      <td>1</td>\n",
       "      <td>1</td>\n",
       "      <td>0</td>\n",
       "      <td>0</td>\n",
       "    </tr>\n",
       "    <tr>\n",
       "      <th>11741</th>\n",
       "      <td>0.179548</td>\n",
       "      <td>1.976367</td>\n",
       "      <td>0.193537</td>\n",
       "      <td>-0.345652</td>\n",
       "      <td>-0.288361</td>\n",
       "      <td>0.768105</td>\n",
       "      <td>0</td>\n",
       "      <td>0</td>\n",
       "      <td>0</td>\n",
       "      <td>1</td>\n",
       "      <td>...</td>\n",
       "      <td>0</td>\n",
       "      <td>0</td>\n",
       "      <td>1</td>\n",
       "      <td>0</td>\n",
       "      <td>0</td>\n",
       "      <td>0</td>\n",
       "      <td>0</td>\n",
       "      <td>0</td>\n",
       "      <td>1</td>\n",
       "      <td>0</td>\n",
       "    </tr>\n",
       "    <tr>\n",
       "      <th>30680</th>\n",
       "      <td>-0.198233</td>\n",
       "      <td>-0.569796</td>\n",
       "      <td>0.193537</td>\n",
       "      <td>-0.345652</td>\n",
       "      <td>-1.234695</td>\n",
       "      <td>-1.317185</td>\n",
       "      <td>1</td>\n",
       "      <td>0</td>\n",
       "      <td>0</td>\n",
       "      <td>0</td>\n",
       "      <td>...</td>\n",
       "      <td>0</td>\n",
       "      <td>0</td>\n",
       "      <td>0</td>\n",
       "      <td>0</td>\n",
       "      <td>0</td>\n",
       "      <td>1</td>\n",
       "      <td>0</td>\n",
       "      <td>0</td>\n",
       "      <td>1</td>\n",
       "      <td>0</td>\n",
       "    </tr>\n",
       "  </tbody>\n",
       "</table>\n",
       "<p>12353 rows × 50 columns</p>\n",
       "</div>"
      ],
      "text/plain": [
       "            age  campaign     pdays  previous  cons.conf.idx  euribor3m  \\\n",
       "22377  1.690671 -0.569796  0.193537 -0.345652       0.937570   0.770990   \n",
       "22736 -0.481569  1.612629  0.193537 -0.345652       0.937570   0.771566   \n",
       "33023  0.368438 -0.206058  0.193537 -0.345652      -1.234695  -1.343143   \n",
       "20815  1.785116  0.157679  0.193537 -0.345652       0.937570   0.771566   \n",
       "25924  0.085102 -0.569796  0.193537 -0.345652      -0.331377   0.284133   \n",
       "...         ...       ...       ...       ...            ...        ...   \n",
       "36143  2.635123 -0.206058  0.193537 -0.345652      -1.234695  -1.359872   \n",
       "29846 -0.481569 -0.206058  0.193537 -0.345652      -1.428263  -1.281998   \n",
       "25917  0.651774 -0.569796  0.193537  1.682774      -0.331377   0.284133   \n",
       "11741  0.179548  1.976367  0.193537 -0.345652      -0.288361   0.768105   \n",
       "30680 -0.198233 -0.569796  0.193537 -0.345652      -1.234695  -1.317185   \n",
       "\n",
       "       job_admin.  job_blue-collar  job_entrepreneur  job_housemaid  ...  \\\n",
       "22377           0                0                 0              0  ...   \n",
       "22736           0                0                 0              0  ...   \n",
       "33023           0                0                 0              0  ...   \n",
       "20815           0                0                 0              0  ...   \n",
       "25924           1                0                 0              0  ...   \n",
       "...           ...              ...               ...            ...  ...   \n",
       "36143           0                0                 0              0  ...   \n",
       "29846           1                0                 0              0  ...   \n",
       "25917           1                0                 0              0  ...   \n",
       "11741           0                0                 0              1  ...   \n",
       "30680           1                0                 0              0  ...   \n",
       "\n",
       "       month_oct  month_sep  day_of_week_fri  day_of_week_mon  \\\n",
       "22377          0          0                1                0   \n",
       "22736          0          0                0                1   \n",
       "33023          0          0                0                1   \n",
       "20815          0          0                0                0   \n",
       "25924          0          0                0                0   \n",
       "...          ...        ...              ...              ...   \n",
       "36143          0          0                0                0   \n",
       "29846          0          0                0                1   \n",
       "25917          0          0                0                0   \n",
       "11741          0          0                1                0   \n",
       "30680          0          0                0                0   \n",
       "\n",
       "       day_of_week_thu  day_of_week_tue  day_of_week_wed  poutcome_failure  \\\n",
       "22377                0                0                0                 0   \n",
       "22736                0                0                0                 0   \n",
       "33023                0                0                0                 0   \n",
       "20815                0                0                1                 0   \n",
       "25924                0                0                1                 0   \n",
       "...                ...              ...              ...               ...   \n",
       "36143                0                0                1                 0   \n",
       "29846                0                0                0                 0   \n",
       "25917                0                0                1                 1   \n",
       "11741                0                0                0                 0   \n",
       "30680                0                1                0                 0   \n",
       "\n",
       "       poutcome_nonexistent  poutcome_success  \n",
       "22377                     1                 0  \n",
       "22736                     1                 0  \n",
       "33023                     1                 0  \n",
       "20815                     1                 0  \n",
       "25924                     1                 0  \n",
       "...                     ...               ...  \n",
       "36143                     1                 0  \n",
       "29846                     1                 0  \n",
       "25917                     0                 0  \n",
       "11741                     1                 0  \n",
       "30680                     1                 0  \n",
       "\n",
       "[12353 rows x 50 columns]"
      ]
     },
     "execution_count": 111,
     "metadata": {},
     "output_type": "execute_result"
    }
   ],
   "source": [
    "X_test"
   ]
  },
  {
   "cell_type": "code",
   "execution_count": 112,
   "id": "d8eec984",
   "metadata": {},
   "outputs": [
    {
     "data": {
      "text/plain": [
       "Index(['age', 'campaign', 'pdays', 'previous', 'cons.conf.idx', 'euribor3m',\n",
       "       'job_admin.', 'job_blue-collar', 'job_entrepreneur', 'job_housemaid',\n",
       "       'job_management', 'job_retired', 'job_self-employed', 'job_services',\n",
       "       'job_student', 'job_technician', 'job_unemployed', 'job_unknown',\n",
       "       'marital_divorced', 'marital_married', 'marital_single',\n",
       "       'marital_unknown', 'education_basic.4y', 'education_basic.6y',\n",
       "       'education_basic.9y', 'education_high.school', 'education_illiterate',\n",
       "       'education_professional.course', 'education_university.degree',\n",
       "       'education_unknown', 'contact_cellular', 'contact_telephone',\n",
       "       'month_apr', 'month_aug', 'month_dec', 'month_jul', 'month_jun',\n",
       "       'month_mar', 'month_may', 'month_nov', 'month_oct', 'month_sep',\n",
       "       'day_of_week_fri', 'day_of_week_mon', 'day_of_week_thu',\n",
       "       'day_of_week_tue', 'day_of_week_wed', 'poutcome_failure',\n",
       "       'poutcome_nonexistent', 'poutcome_success'],\n",
       "      dtype='object')"
      ]
     },
     "execution_count": 112,
     "metadata": {},
     "output_type": "execute_result"
    }
   ],
   "source": [
    "X_train.columns"
   ]
  },
  {
   "cell_type": "code",
   "execution_count": 113,
   "id": "9e8f3cbc",
   "metadata": {},
   "outputs": [
    {
     "name": "stdout",
     "output_type": "stream",
     "text": [
      "<class 'pandas.core.frame.DataFrame'>\n",
      "Int64Index: 28823 entries, 22708 to 34052\n",
      "Data columns (total 50 columns):\n",
      " #   Column                         Non-Null Count  Dtype  \n",
      "---  ------                         --------------  -----  \n",
      " 0   age                            28823 non-null  float64\n",
      " 1   campaign                       28823 non-null  float64\n",
      " 2   pdays                          28823 non-null  float64\n",
      " 3   previous                       28823 non-null  float64\n",
      " 4   cons.conf.idx                  28823 non-null  float64\n",
      " 5   euribor3m                      28823 non-null  float64\n",
      " 6   job_admin.                     28823 non-null  uint8  \n",
      " 7   job_blue-collar                28823 non-null  uint8  \n",
      " 8   job_entrepreneur               28823 non-null  uint8  \n",
      " 9   job_housemaid                  28823 non-null  uint8  \n",
      " 10  job_management                 28823 non-null  uint8  \n",
      " 11  job_retired                    28823 non-null  uint8  \n",
      " 12  job_self-employed              28823 non-null  uint8  \n",
      " 13  job_services                   28823 non-null  uint8  \n",
      " 14  job_student                    28823 non-null  uint8  \n",
      " 15  job_technician                 28823 non-null  uint8  \n",
      " 16  job_unemployed                 28823 non-null  uint8  \n",
      " 17  job_unknown                    28823 non-null  uint8  \n",
      " 18  marital_divorced               28823 non-null  uint8  \n",
      " 19  marital_married                28823 non-null  uint8  \n",
      " 20  marital_single                 28823 non-null  uint8  \n",
      " 21  marital_unknown                28823 non-null  uint8  \n",
      " 22  education_basic.4y             28823 non-null  uint8  \n",
      " 23  education_basic.6y             28823 non-null  uint8  \n",
      " 24  education_basic.9y             28823 non-null  uint8  \n",
      " 25  education_high.school          28823 non-null  uint8  \n",
      " 26  education_illiterate           28823 non-null  uint8  \n",
      " 27  education_professional.course  28823 non-null  uint8  \n",
      " 28  education_university.degree    28823 non-null  uint8  \n",
      " 29  education_unknown              28823 non-null  uint8  \n",
      " 30  contact_cellular               28823 non-null  uint8  \n",
      " 31  contact_telephone              28823 non-null  uint8  \n",
      " 32  month_apr                      28823 non-null  uint8  \n",
      " 33  month_aug                      28823 non-null  uint8  \n",
      " 34  month_dec                      28823 non-null  uint8  \n",
      " 35  month_jul                      28823 non-null  uint8  \n",
      " 36  month_jun                      28823 non-null  uint8  \n",
      " 37  month_mar                      28823 non-null  uint8  \n",
      " 38  month_may                      28823 non-null  uint8  \n",
      " 39  month_nov                      28823 non-null  uint8  \n",
      " 40  month_oct                      28823 non-null  uint8  \n",
      " 41  month_sep                      28823 non-null  uint8  \n",
      " 42  day_of_week_fri                28823 non-null  uint8  \n",
      " 43  day_of_week_mon                28823 non-null  uint8  \n",
      " 44  day_of_week_thu                28823 non-null  uint8  \n",
      " 45  day_of_week_tue                28823 non-null  uint8  \n",
      " 46  day_of_week_wed                28823 non-null  uint8  \n",
      " 47  poutcome_failure               28823 non-null  uint8  \n",
      " 48  poutcome_nonexistent           28823 non-null  uint8  \n",
      " 49  poutcome_success               28823 non-null  uint8  \n",
      "dtypes: float64(6), uint8(44)\n",
      "memory usage: 2.7 MB\n"
     ]
    }
   ],
   "source": [
    "X_train.info()"
   ]
  },
  {
   "cell_type": "code",
   "execution_count": 114,
   "id": "8ddabdd4",
   "metadata": {},
   "outputs": [
    {
     "name": "stdout",
     "output_type": "stream",
     "text": [
      "<class 'pandas.core.frame.DataFrame'>\n",
      "Int64Index: 12353 entries, 22377 to 30680\n",
      "Data columns (total 50 columns):\n",
      " #   Column                         Non-Null Count  Dtype  \n",
      "---  ------                         --------------  -----  \n",
      " 0   age                            12353 non-null  float64\n",
      " 1   campaign                       12353 non-null  float64\n",
      " 2   pdays                          12353 non-null  float64\n",
      " 3   previous                       12353 non-null  float64\n",
      " 4   cons.conf.idx                  12353 non-null  float64\n",
      " 5   euribor3m                      12353 non-null  float64\n",
      " 6   job_admin.                     12353 non-null  uint8  \n",
      " 7   job_blue-collar                12353 non-null  uint8  \n",
      " 8   job_entrepreneur               12353 non-null  uint8  \n",
      " 9   job_housemaid                  12353 non-null  uint8  \n",
      " 10  job_management                 12353 non-null  uint8  \n",
      " 11  job_retired                    12353 non-null  uint8  \n",
      " 12  job_self-employed              12353 non-null  uint8  \n",
      " 13  job_services                   12353 non-null  uint8  \n",
      " 14  job_student                    12353 non-null  uint8  \n",
      " 15  job_technician                 12353 non-null  uint8  \n",
      " 16  job_unemployed                 12353 non-null  uint8  \n",
      " 17  job_unknown                    12353 non-null  uint8  \n",
      " 18  marital_divorced               12353 non-null  uint8  \n",
      " 19  marital_married                12353 non-null  uint8  \n",
      " 20  marital_single                 12353 non-null  uint8  \n",
      " 21  marital_unknown                12353 non-null  uint8  \n",
      " 22  education_basic.4y             12353 non-null  uint8  \n",
      " 23  education_basic.6y             12353 non-null  uint8  \n",
      " 24  education_basic.9y             12353 non-null  uint8  \n",
      " 25  education_high.school          12353 non-null  uint8  \n",
      " 26  education_illiterate           12353 non-null  uint8  \n",
      " 27  education_professional.course  12353 non-null  uint8  \n",
      " 28  education_university.degree    12353 non-null  uint8  \n",
      " 29  education_unknown              12353 non-null  uint8  \n",
      " 30  contact_cellular               12353 non-null  uint8  \n",
      " 31  contact_telephone              12353 non-null  uint8  \n",
      " 32  month_apr                      12353 non-null  uint8  \n",
      " 33  month_aug                      12353 non-null  uint8  \n",
      " 34  month_dec                      12353 non-null  uint8  \n",
      " 35  month_jul                      12353 non-null  uint8  \n",
      " 36  month_jun                      12353 non-null  uint8  \n",
      " 37  month_mar                      12353 non-null  uint8  \n",
      " 38  month_may                      12353 non-null  uint8  \n",
      " 39  month_nov                      12353 non-null  uint8  \n",
      " 40  month_oct                      12353 non-null  uint8  \n",
      " 41  month_sep                      12353 non-null  uint8  \n",
      " 42  day_of_week_fri                12353 non-null  uint8  \n",
      " 43  day_of_week_mon                12353 non-null  uint8  \n",
      " 44  day_of_week_thu                12353 non-null  uint8  \n",
      " 45  day_of_week_tue                12353 non-null  uint8  \n",
      " 46  day_of_week_wed                12353 non-null  uint8  \n",
      " 47  poutcome_failure               12353 non-null  uint8  \n",
      " 48  poutcome_nonexistent           12353 non-null  uint8  \n",
      " 49  poutcome_success               12353 non-null  uint8  \n",
      "dtypes: float64(6), uint8(44)\n",
      "memory usage: 1.2 MB\n"
     ]
    }
   ],
   "source": [
    "X_test.info()"
   ]
  },
  {
   "cell_type": "code",
   "execution_count": 116,
   "id": "e3399e96",
   "metadata": {},
   "outputs": [],
   "source": [
    "# Function to evaluate model performance on test data "
   ]
  },
  {
   "cell_type": "code",
   "execution_count": 115,
   "id": "4d564ea1",
   "metadata": {},
   "outputs": [],
   "source": [
    "def evaluate_model(model,x_test,y_test) :\n",
    "    from sklearn import metrics\n",
    "    \n",
    "    # Predict test data \n",
    "    y_pred = model.predict(x_test)\n",
    "    \n",
    "    # Calculate accuracy ,precision , recall ,f1 score \n",
    "    \n",
    "    acc = metrics.accuracy_score(y_test,y_pred)\n",
    "    prec = metrics.precision_score(y_test,y_pred)\n",
    "    rec = metrics.recall_score(y_test,y_pred)\n",
    "    f1 = metrics.f1_score(y_test,y_pred)\n",
    "    \n",
    "    # calculate area under the curve (AUC)\n",
    "    \n",
    "    y_pred_proba = model.predict_proba(x_test)[::,1]\n",
    "    fpr,tpr,_ = metrics.roc_curve(y_test,y_pred_proba)\n",
    "    auc = metrics.roc_auc_score(y_test,y_pred_proba)\n",
    "    \n",
    "    # Display confusion matrix\n",
    "    cm = metrics.confusion_matrix(y_test,y_pred)\n",
    "    \n",
    "    # Visualization of confusion matrix\n",
    "    sns.heatmap(cm/np.sum(cm),annot = True, fmt ='.2%',cmap ='Blues')\n",
    "    \n",
    "    return {'acc':acc,'prec':prec,'rec':rec,'f1':f1,\n",
    "           'fpr':fpr,'tpr':tpr,'auc':auc,'cm':cm}"
   ]
  },
  {
   "cell_type": "markdown",
   "id": "c30507c8",
   "metadata": {},
   "source": [
    "# Modelling using Random Forest"
   ]
  },
  {
   "cell_type": "code",
   "execution_count": 118,
   "id": "5f2eb2e5",
   "metadata": {},
   "outputs": [],
   "source": [
    "# Random Forest "
   ]
  },
  {
   "cell_type": "code",
   "execution_count": 117,
   "id": "6b9a4adf",
   "metadata": {},
   "outputs": [],
   "source": [
    "# Randomized Search CV for Hyperparameter Tuning and get optimal parameters for model building "
   ]
  },
  {
   "cell_type": "code",
   "execution_count": 119,
   "id": "8cac1d4e",
   "metadata": {},
   "outputs": [],
   "source": [
    "# Number of trees in random forest\n",
    "n_estimators = [50,100]\n",
    "\n",
    "# Number of features to consider at every split\n",
    "max_features = [\"sqrt\"]\n",
    "\n",
    "# Maximum number of levels in tree\n",
    "max_depth = [4,6,8]\n",
    "\n",
    "# Minimum number of samples required to split a node\n",
    "min_samples_split = [100,250,500]\n",
    "\n",
    "# Minimum number of samples required at each leaf node\n",
    "min_samples_leaf = [100, 280]"
   ]
  },
  {
   "cell_type": "code",
   "execution_count": 120,
   "id": "b463a7b1",
   "metadata": {},
   "outputs": [
    {
     "name": "stdout",
     "output_type": "stream",
     "text": [
      "{'n_estimators': [50, 100], 'max_features': ['sqrt'], 'max_depth': [4, 6, 8], 'min_samples_split': [100, 250, 500], 'min_samples_leaf': [100, 280]}\n"
     ]
    }
   ],
   "source": [
    "param_grid = {'n_estimators': n_estimators,\n",
    "               'max_features': max_features,\n",
    "               'max_depth': max_depth,\n",
    "              'min_samples_split':min_samples_split,\n",
    "              'min_samples_leaf':min_samples_leaf\n",
    "             }\n",
    "print(param_grid)"
   ]
  },
  {
   "cell_type": "code",
   "execution_count": 121,
   "id": "c379d066",
   "metadata": {},
   "outputs": [],
   "source": [
    "from sklearn.ensemble import RandomForestClassifier"
   ]
  },
  {
   "cell_type": "code",
   "execution_count": 122,
   "id": "b2762810",
   "metadata": {},
   "outputs": [],
   "source": [
    "rf = RandomForestClassifier()"
   ]
  },
  {
   "cell_type": "code",
   "execution_count": 123,
   "id": "1c1a0c93",
   "metadata": {},
   "outputs": [],
   "source": [
    "from sklearn.model_selection import RandomizedSearchCV\n",
    "\n",
    "rf_grid = RandomizedSearchCV(estimator = rf, \n",
    "                       param_distributions = param_grid, \n",
    "                       cv = 5, \n",
    "                       verbose=2, \n",
    "                       n_jobs = -1)"
   ]
  },
  {
   "cell_type": "code",
   "execution_count": 124,
   "id": "e35aa468",
   "metadata": {},
   "outputs": [
    {
     "name": "stdout",
     "output_type": "stream",
     "text": [
      "Fitting 5 folds for each of 10 candidates, totalling 50 fits\n"
     ]
    },
    {
     "name": "stderr",
     "output_type": "stream",
     "text": [
      "C:\\Users\\ydhav\\anaconda3\\lib\\site-packages\\sklearn\\model_selection\\_search.py:909: DataConversionWarning: A column-vector y was passed when a 1d array was expected. Please change the shape of y to (n_samples,), for example using ravel().\n",
      "  self.best_estimator_.fit(X, y, **fit_params)\n"
     ]
    },
    {
     "data": {
      "text/html": [
       "<style>#sk-container-id-1 {color: black;background-color: white;}#sk-container-id-1 pre{padding: 0;}#sk-container-id-1 div.sk-toggleable {background-color: white;}#sk-container-id-1 label.sk-toggleable__label {cursor: pointer;display: block;width: 100%;margin-bottom: 0;padding: 0.3em;box-sizing: border-box;text-align: center;}#sk-container-id-1 label.sk-toggleable__label-arrow:before {content: \"▸\";float: left;margin-right: 0.25em;color: #696969;}#sk-container-id-1 label.sk-toggleable__label-arrow:hover:before {color: black;}#sk-container-id-1 div.sk-estimator:hover label.sk-toggleable__label-arrow:before {color: black;}#sk-container-id-1 div.sk-toggleable__content {max-height: 0;max-width: 0;overflow: hidden;text-align: left;background-color: #f0f8ff;}#sk-container-id-1 div.sk-toggleable__content pre {margin: 0.2em;color: black;border-radius: 0.25em;background-color: #f0f8ff;}#sk-container-id-1 input.sk-toggleable__control:checked~div.sk-toggleable__content {max-height: 200px;max-width: 100%;overflow: auto;}#sk-container-id-1 input.sk-toggleable__control:checked~label.sk-toggleable__label-arrow:before {content: \"▾\";}#sk-container-id-1 div.sk-estimator input.sk-toggleable__control:checked~label.sk-toggleable__label {background-color: #d4ebff;}#sk-container-id-1 div.sk-label input.sk-toggleable__control:checked~label.sk-toggleable__label {background-color: #d4ebff;}#sk-container-id-1 input.sk-hidden--visually {border: 0;clip: rect(1px 1px 1px 1px);clip: rect(1px, 1px, 1px, 1px);height: 1px;margin: -1px;overflow: hidden;padding: 0;position: absolute;width: 1px;}#sk-container-id-1 div.sk-estimator {font-family: monospace;background-color: #f0f8ff;border: 1px dotted black;border-radius: 0.25em;box-sizing: border-box;margin-bottom: 0.5em;}#sk-container-id-1 div.sk-estimator:hover {background-color: #d4ebff;}#sk-container-id-1 div.sk-parallel-item::after {content: \"\";width: 100%;border-bottom: 1px solid gray;flex-grow: 1;}#sk-container-id-1 div.sk-label:hover label.sk-toggleable__label {background-color: #d4ebff;}#sk-container-id-1 div.sk-serial::before {content: \"\";position: absolute;border-left: 1px solid gray;box-sizing: border-box;top: 0;bottom: 0;left: 50%;z-index: 0;}#sk-container-id-1 div.sk-serial {display: flex;flex-direction: column;align-items: center;background-color: white;padding-right: 0.2em;padding-left: 0.2em;position: relative;}#sk-container-id-1 div.sk-item {position: relative;z-index: 1;}#sk-container-id-1 div.sk-parallel {display: flex;align-items: stretch;justify-content: center;background-color: white;position: relative;}#sk-container-id-1 div.sk-item::before, #sk-container-id-1 div.sk-parallel-item::before {content: \"\";position: absolute;border-left: 1px solid gray;box-sizing: border-box;top: 0;bottom: 0;left: 50%;z-index: -1;}#sk-container-id-1 div.sk-parallel-item {display: flex;flex-direction: column;z-index: 1;position: relative;background-color: white;}#sk-container-id-1 div.sk-parallel-item:first-child::after {align-self: flex-end;width: 50%;}#sk-container-id-1 div.sk-parallel-item:last-child::after {align-self: flex-start;width: 50%;}#sk-container-id-1 div.sk-parallel-item:only-child::after {width: 0;}#sk-container-id-1 div.sk-dashed-wrapped {border: 1px dashed gray;margin: 0 0.4em 0.5em 0.4em;box-sizing: border-box;padding-bottom: 0.4em;background-color: white;}#sk-container-id-1 div.sk-label label {font-family: monospace;font-weight: bold;display: inline-block;line-height: 1.2em;}#sk-container-id-1 div.sk-label-container {text-align: center;}#sk-container-id-1 div.sk-container {/* jupyter's `normalize.less` sets `[hidden] { display: none; }` but bootstrap.min.css set `[hidden] { display: none !important; }` so we also need the `!important` here to be able to override the default hidden behavior on the sphinx rendered scikit-learn.org. See: https://github.com/scikit-learn/scikit-learn/issues/21755 */display: inline-block !important;position: relative;}#sk-container-id-1 div.sk-text-repr-fallback {display: none;}</style><div id=\"sk-container-id-1\" class=\"sk-top-container\"><div class=\"sk-text-repr-fallback\"><pre>RandomizedSearchCV(cv=5, estimator=RandomForestClassifier(), n_jobs=-1,\n",
       "                   param_distributions={&#x27;max_depth&#x27;: [4, 6, 8],\n",
       "                                        &#x27;max_features&#x27;: [&#x27;sqrt&#x27;],\n",
       "                                        &#x27;min_samples_leaf&#x27;: [100, 280],\n",
       "                                        &#x27;min_samples_split&#x27;: [100, 250, 500],\n",
       "                                        &#x27;n_estimators&#x27;: [50, 100]},\n",
       "                   verbose=2)</pre><b>In a Jupyter environment, please rerun this cell to show the HTML representation or trust the notebook. <br />On GitHub, the HTML representation is unable to render, please try loading this page with nbviewer.org.</b></div><div class=\"sk-container\" hidden><div class=\"sk-item sk-dashed-wrapped\"><div class=\"sk-label-container\"><div class=\"sk-label sk-toggleable\"><input class=\"sk-toggleable__control sk-hidden--visually\" id=\"sk-estimator-id-1\" type=\"checkbox\" ><label for=\"sk-estimator-id-1\" class=\"sk-toggleable__label sk-toggleable__label-arrow\">RandomizedSearchCV</label><div class=\"sk-toggleable__content\"><pre>RandomizedSearchCV(cv=5, estimator=RandomForestClassifier(), n_jobs=-1,\n",
       "                   param_distributions={&#x27;max_depth&#x27;: [4, 6, 8],\n",
       "                                        &#x27;max_features&#x27;: [&#x27;sqrt&#x27;],\n",
       "                                        &#x27;min_samples_leaf&#x27;: [100, 280],\n",
       "                                        &#x27;min_samples_split&#x27;: [100, 250, 500],\n",
       "                                        &#x27;n_estimators&#x27;: [50, 100]},\n",
       "                   verbose=2)</pre></div></div></div><div class=\"sk-parallel\"><div class=\"sk-parallel-item\"><div class=\"sk-item\"><div class=\"sk-label-container\"><div class=\"sk-label sk-toggleable\"><input class=\"sk-toggleable__control sk-hidden--visually\" id=\"sk-estimator-id-2\" type=\"checkbox\" ><label for=\"sk-estimator-id-2\" class=\"sk-toggleable__label sk-toggleable__label-arrow\">estimator: RandomForestClassifier</label><div class=\"sk-toggleable__content\"><pre>RandomForestClassifier()</pre></div></div></div><div class=\"sk-serial\"><div class=\"sk-item\"><div class=\"sk-estimator sk-toggleable\"><input class=\"sk-toggleable__control sk-hidden--visually\" id=\"sk-estimator-id-3\" type=\"checkbox\" ><label for=\"sk-estimator-id-3\" class=\"sk-toggleable__label sk-toggleable__label-arrow\">RandomForestClassifier</label><div class=\"sk-toggleable__content\"><pre>RandomForestClassifier()</pre></div></div></div></div></div></div></div></div></div></div>"
      ],
      "text/plain": [
       "RandomizedSearchCV(cv=5, estimator=RandomForestClassifier(), n_jobs=-1,\n",
       "                   param_distributions={'max_depth': [4, 6, 8],\n",
       "                                        'max_features': ['sqrt'],\n",
       "                                        'min_samples_leaf': [100, 280],\n",
       "                                        'min_samples_split': [100, 250, 500],\n",
       "                                        'n_estimators': [50, 100]},\n",
       "                   verbose=2)"
      ]
     },
     "execution_count": 124,
     "metadata": {},
     "output_type": "execute_result"
    }
   ],
   "source": [
    "rf_grid.fit(X_train,y_train)"
   ]
  },
  {
   "cell_type": "code",
   "execution_count": 125,
   "id": "6477381f",
   "metadata": {},
   "outputs": [],
   "source": [
    "# Getting best parameters for Random Forest Model "
   ]
  },
  {
   "cell_type": "code",
   "execution_count": 126,
   "id": "4176ba75",
   "metadata": {},
   "outputs": [
    {
     "data": {
      "text/plain": [
       "{'n_estimators': 50,\n",
       " 'min_samples_split': 500,\n",
       " 'min_samples_leaf': 100,\n",
       " 'max_features': 'sqrt',\n",
       " 'max_depth': 6}"
      ]
     },
     "execution_count": 126,
     "metadata": {},
     "output_type": "execute_result"
    }
   ],
   "source": [
    "rf_grid.best_params_"
   ]
  },
  {
   "cell_type": "code",
   "execution_count": 127,
   "id": "2d719adc",
   "metadata": {},
   "outputs": [],
   "source": [
    "# Best Score "
   ]
  },
  {
   "cell_type": "code",
   "execution_count": 128,
   "id": "e2925be8",
   "metadata": {},
   "outputs": [
    {
     "data": {
      "text/plain": [
       "0.8989348608132663"
      ]
     },
     "execution_count": 128,
     "metadata": {},
     "output_type": "execute_result"
    }
   ],
   "source": [
    "rf_grid.best_score_"
   ]
  },
  {
   "cell_type": "code",
   "execution_count": 129,
   "id": "a0412dd3",
   "metadata": {},
   "outputs": [
    {
     "name": "stderr",
     "output_type": "stream",
     "text": [
      "C:\\Users\\ydhav\\AppData\\Local\\Temp\\ipykernel_27316\\3666442476.py:2: DataConversionWarning: A column-vector y was passed when a 1d array was expected. Please change the shape of y to (n_samples,), for example using ravel().\n",
      "  rf.fit(X_train,y_train)\n"
     ]
    },
    {
     "data": {
      "text/html": [
       "<style>#sk-container-id-2 {color: black;background-color: white;}#sk-container-id-2 pre{padding: 0;}#sk-container-id-2 div.sk-toggleable {background-color: white;}#sk-container-id-2 label.sk-toggleable__label {cursor: pointer;display: block;width: 100%;margin-bottom: 0;padding: 0.3em;box-sizing: border-box;text-align: center;}#sk-container-id-2 label.sk-toggleable__label-arrow:before {content: \"▸\";float: left;margin-right: 0.25em;color: #696969;}#sk-container-id-2 label.sk-toggleable__label-arrow:hover:before {color: black;}#sk-container-id-2 div.sk-estimator:hover label.sk-toggleable__label-arrow:before {color: black;}#sk-container-id-2 div.sk-toggleable__content {max-height: 0;max-width: 0;overflow: hidden;text-align: left;background-color: #f0f8ff;}#sk-container-id-2 div.sk-toggleable__content pre {margin: 0.2em;color: black;border-radius: 0.25em;background-color: #f0f8ff;}#sk-container-id-2 input.sk-toggleable__control:checked~div.sk-toggleable__content {max-height: 200px;max-width: 100%;overflow: auto;}#sk-container-id-2 input.sk-toggleable__control:checked~label.sk-toggleable__label-arrow:before {content: \"▾\";}#sk-container-id-2 div.sk-estimator input.sk-toggleable__control:checked~label.sk-toggleable__label {background-color: #d4ebff;}#sk-container-id-2 div.sk-label input.sk-toggleable__control:checked~label.sk-toggleable__label {background-color: #d4ebff;}#sk-container-id-2 input.sk-hidden--visually {border: 0;clip: rect(1px 1px 1px 1px);clip: rect(1px, 1px, 1px, 1px);height: 1px;margin: -1px;overflow: hidden;padding: 0;position: absolute;width: 1px;}#sk-container-id-2 div.sk-estimator {font-family: monospace;background-color: #f0f8ff;border: 1px dotted black;border-radius: 0.25em;box-sizing: border-box;margin-bottom: 0.5em;}#sk-container-id-2 div.sk-estimator:hover {background-color: #d4ebff;}#sk-container-id-2 div.sk-parallel-item::after {content: \"\";width: 100%;border-bottom: 1px solid gray;flex-grow: 1;}#sk-container-id-2 div.sk-label:hover label.sk-toggleable__label {background-color: #d4ebff;}#sk-container-id-2 div.sk-serial::before {content: \"\";position: absolute;border-left: 1px solid gray;box-sizing: border-box;top: 0;bottom: 0;left: 50%;z-index: 0;}#sk-container-id-2 div.sk-serial {display: flex;flex-direction: column;align-items: center;background-color: white;padding-right: 0.2em;padding-left: 0.2em;position: relative;}#sk-container-id-2 div.sk-item {position: relative;z-index: 1;}#sk-container-id-2 div.sk-parallel {display: flex;align-items: stretch;justify-content: center;background-color: white;position: relative;}#sk-container-id-2 div.sk-item::before, #sk-container-id-2 div.sk-parallel-item::before {content: \"\";position: absolute;border-left: 1px solid gray;box-sizing: border-box;top: 0;bottom: 0;left: 50%;z-index: -1;}#sk-container-id-2 div.sk-parallel-item {display: flex;flex-direction: column;z-index: 1;position: relative;background-color: white;}#sk-container-id-2 div.sk-parallel-item:first-child::after {align-self: flex-end;width: 50%;}#sk-container-id-2 div.sk-parallel-item:last-child::after {align-self: flex-start;width: 50%;}#sk-container-id-2 div.sk-parallel-item:only-child::after {width: 0;}#sk-container-id-2 div.sk-dashed-wrapped {border: 1px dashed gray;margin: 0 0.4em 0.5em 0.4em;box-sizing: border-box;padding-bottom: 0.4em;background-color: white;}#sk-container-id-2 div.sk-label label {font-family: monospace;font-weight: bold;display: inline-block;line-height: 1.2em;}#sk-container-id-2 div.sk-label-container {text-align: center;}#sk-container-id-2 div.sk-container {/* jupyter's `normalize.less` sets `[hidden] { display: none; }` but bootstrap.min.css set `[hidden] { display: none !important; }` so we also need the `!important` here to be able to override the default hidden behavior on the sphinx rendered scikit-learn.org. See: https://github.com/scikit-learn/scikit-learn/issues/21755 */display: inline-block !important;position: relative;}#sk-container-id-2 div.sk-text-repr-fallback {display: none;}</style><div id=\"sk-container-id-2\" class=\"sk-top-container\"><div class=\"sk-text-repr-fallback\"><pre>RandomForestClassifier(max_depth=6, min_samples_leaf=100, min_samples_split=100,\n",
       "                       n_estimators=50)</pre><b>In a Jupyter environment, please rerun this cell to show the HTML representation or trust the notebook. <br />On GitHub, the HTML representation is unable to render, please try loading this page with nbviewer.org.</b></div><div class=\"sk-container\" hidden><div class=\"sk-item\"><div class=\"sk-estimator sk-toggleable\"><input class=\"sk-toggleable__control sk-hidden--visually\" id=\"sk-estimator-id-4\" type=\"checkbox\" checked><label for=\"sk-estimator-id-4\" class=\"sk-toggleable__label sk-toggleable__label-arrow\">RandomForestClassifier</label><div class=\"sk-toggleable__content\"><pre>RandomForestClassifier(max_depth=6, min_samples_leaf=100, min_samples_split=100,\n",
       "                       n_estimators=50)</pre></div></div></div></div></div>"
      ],
      "text/plain": [
       "RandomForestClassifier(max_depth=6, min_samples_leaf=100, min_samples_split=100,\n",
       "                       n_estimators=50)"
      ]
     },
     "execution_count": 129,
     "metadata": {},
     "output_type": "execute_result"
    }
   ],
   "source": [
    "rf = RandomForestClassifier(n_estimators =50,min_samples_split=100,min_samples_leaf=100,max_features ='sqrt',max_depth =6)\n",
    "rf.fit(X_train,y_train)"
   ]
  },
  {
   "cell_type": "code",
   "execution_count": 130,
   "id": "a43f59ae",
   "metadata": {},
   "outputs": [
    {
     "name": "stdout",
     "output_type": "stream",
     "text": [
      "Accuracy 0.89978142961224\n",
      "Precision 0.7347560975609756\n",
      "Recall 0.17313218390804597\n",
      "F1 0.28023255813953485\n",
      "AUC 0.7848280594102183\n",
      "Confusion Matrix [[10874    87]\n",
      " [ 1151   241]]\n"
     ]
    },
    {
     "data": {
      "image/png": "[encoded data removed]",
      "text/plain": [
       "<Figure size 640x480 with 2 Axes>"
      ]
     },
     "metadata": {},
     "output_type": "display_data"
    }
   ],
   "source": [
    "\n",
    "rf_eval = evaluate_model(rf,X_test,y_test)\n",
    "\n",
    "print(\"Accuracy\",rf_eval['acc'])\n",
    "print(\"Precision\",rf_eval['prec'])\n",
    "print(\"Recall\",rf_eval['rec'])\n",
    "print(\"F1\",rf_eval['f1'])\n",
    "print(\"AUC\",rf_eval['auc'])\n",
    "print(\"Confusion Matrix\",rf_eval['cm'])"
   ]
  },
  {
   "cell_type": "code",
   "execution_count": 131,
   "id": "f2b12c6a",
   "metadata": {},
   "outputs": [
    {
     "name": "stdout",
     "output_type": "stream",
     "text": [
      "Accuracy 0.8991083509697116\n",
      "Precision 0.7159235668789808\n",
      "Recall 0.1730828457037265\n",
      "F1 0.2787698412698413\n",
      "AUC 0.799109496564717\n",
      "Confusion Matrix [[25353   223]\n",
      " [ 2685   562]]\n"
     ]
    },
    {
     "data": {
      "image/png": "[encoded data removed]",
      "text/plain": [
       "<Figure size 640x480 with 2 Axes>"
      ]
     },
     "metadata": {},
     "output_type": "display_data"
    }
   ],
   "source": [
    "rf_eval_train = evaluate_model(rf,X_train,y_train)\n",
    "\n",
    "print(\"Accuracy\",rf_eval_train['acc'])\n",
    "print(\"Precision\",rf_eval_train['prec'])\n",
    "print(\"Recall\",rf_eval_train['rec'])\n",
    "print(\"F1\",rf_eval_train['f1'])\n",
    "print(\"AUC\",rf_eval_train['auc'])\n",
    "print(\"Confusion Matrix\",rf_eval_train['cm'])"
   ]
  },
  {
   "cell_type": "code",
   "execution_count": 133,
   "id": "d7b6d852",
   "metadata": {},
   "outputs": [
    {
     "data": {
      "text/plain": [
       "Text(0.5, 1.0, 'Global Feature Importance - Built-in Method')"
      ]
     },
     "execution_count": 133,
     "metadata": {},
     "output_type": "execute_result"
    },
    {
     "data": {
      "image/png": "[encoded data removed]",
      "text/plain": [
       "<Figure size 640x480 with 1 Axes>"
      ]
     },
     "metadata": {},
     "output_type": "display_data"
    }
   ],
   "source": [
    "global_importances = pd.Series(rf.feature_importances_, index=X_train.columns)\n",
    "global_importances.sort_values(ascending=True, inplace=True)\n",
    "global_importances.plot.barh(color='green')\n",
    "plt.xlabel(\"Importance\")\n",
    "plt.ylabel(\"Feature\")\n",
    "plt.title(\"Global Feature Importance - Built-in Method\")"
   ]
  },
  {
   "cell_type": "code",
   "execution_count": 134,
   "id": "63134acf",
   "metadata": {},
   "outputs": [
    {
     "data": {
      "text/plain": [
       "marital_unknown                  0.000000e+00\n",
       "job_unknown                      0.000000e+00\n",
       "month_dec                        0.000000e+00\n",
       "education_unknown                0.000000e+00\n",
       "education_illiterate             0.000000e+00\n",
       "job_management                   8.366252e-08\n",
       "job_technician                   7.487135e-06\n",
       "job_housemaid                    1.646600e-05\n",
       "job_entrepreneur                 1.825569e-05\n",
       "education_basic.6y               1.830906e-05\n",
       "job_self-employed                2.609758e-05\n",
       "job_unemployed                   7.538756e-05\n",
       "education_professional.course    1.363270e-04\n",
       "marital_divorced                 1.408670e-04\n",
       "day_of_week_tue                  1.591675e-04\n",
       "day_of_week_wed                  1.828575e-04\n",
       "education_high.school            2.618442e-04\n",
       "day_of_week_fri                  4.241838e-04\n",
       "job_admin.                       4.804959e-04\n",
       "job_services                     4.855111e-04\n",
       "education_basic.4y               5.727908e-04\n",
       "month_jul                        6.103112e-04\n",
       "education_basic.9y               8.080144e-04\n",
       "month_nov                        9.190470e-04\n",
       "month_aug                        9.350903e-04\n",
       "day_of_week_thu                  9.981281e-04\n",
       "marital_single                   1.021081e-03\n",
       "marital_married                  1.099372e-03\n",
       "job_blue-collar                  1.668802e-03\n",
       "day_of_week_mon                  1.756132e-03\n",
       "campaign                         2.083535e-03\n",
       "education_university.degree      2.125446e-03\n",
       "job_retired                      5.233353e-03\n",
       "month_may                        5.834316e-03\n",
       "job_student                      7.701991e-03\n",
       "month_apr                        9.362481e-03\n",
       "month_jun                        1.183118e-02\n",
       "month_sep                        1.257810e-02\n",
       "month_oct                        1.335256e-02\n",
       "poutcome_failure                 1.621840e-02\n",
       "contact_cellular                 1.921918e-02\n",
       "previous                         2.101900e-02\n",
       "contact_telephone                2.131326e-02\n",
       "poutcome_nonexistent             2.302877e-02\n",
       "age                              2.842187e-02\n",
       "month_mar                        3.725461e-02\n",
       "poutcome_success                 1.303863e-01\n",
       "cons.conf.idx                    1.346987e-01\n",
       "pdays                            1.876173e-01\n",
       "euribor3m                        2.978975e-01\n",
       "dtype: float64"
      ]
     },
     "execution_count": 134,
     "metadata": {},
     "output_type": "execute_result"
    }
   ],
   "source": [
    "global_importances"
   ]
  },
  {
   "cell_type": "code",
   "execution_count": null,
   "id": "1b792652",
   "metadata": {},
   "outputs": [],
   "source": [
    "# Dropping features with less than 1% signifinace "
   ]
  },
  {
   "cell_type": "code",
   "execution_count": 135,
   "id": "6ccd23b2",
   "metadata": {},
   "outputs": [],
   "source": [
    "X_train_drop = X_train.drop(['month_dec','job_unknown','education_illiterate',\n",
    "                        'marital_unknown','job_housemaid','job_technician',\n",
    "                        'job_unemployed','education_basic.6y','job_management',\n",
    "                        'job_entrepreneur','job_self-employed','education_unknown',\n",
    "                         'marital_divorced','job_services','education_professional.course',\n",
    "                         'month_jul','day_of_week_wed','day_of_week_tue',\n",
    "                         'education_high.school','education_basic.4y','education_basic.9y',\n",
    "                         'day_of_week_thu','day_of_week_fri','month_nov',\n",
    "                         'marital_married','job_admin.','campaign',\n",
    "                         'education_university.degree','day_of_week_mon','marital_single',\n",
    "                         'month_aug','job_retired','job_student'],axis =1)"
   ]
  },
  {
   "cell_type": "code",
   "execution_count": 136,
   "id": "27d22b87",
   "metadata": {},
   "outputs": [],
   "source": [
    "X_test_drop = X_test.drop(['month_dec','job_unknown','education_illiterate',\n",
    "                        'marital_unknown','job_housemaid','job_technician',\n",
    "                        'job_unemployed','education_basic.6y','job_management',\n",
    "                        'job_entrepreneur','job_self-employed','education_unknown',\n",
    "                         'marital_divorced','job_services','education_professional.course',\n",
    "                         'month_jul','day_of_week_wed','day_of_week_tue',\n",
    "                         'education_high.school','education_basic.4y','education_basic.9y',\n",
    "                         'day_of_week_thu','day_of_week_fri','month_nov',\n",
    "                         'marital_married','job_admin.','campaign',\n",
    "                         'education_university.degree','day_of_week_mon','marital_single',\n",
    "                         'month_aug','job_retired','job_student'],axis =1)"
   ]
  },
  {
   "cell_type": "code",
   "execution_count": 137,
   "id": "04ec037e",
   "metadata": {},
   "outputs": [
    {
     "name": "stderr",
     "output_type": "stream",
     "text": [
      "C:\\Users\\ydhav\\AppData\\Local\\Temp\\ipykernel_27316\\1032961465.py:2: DataConversionWarning: A column-vector y was passed when a 1d array was expected. Please change the shape of y to (n_samples,), for example using ravel().\n",
      "  rf.fit(X_train_drop,y_train)\n"
     ]
    },
    {
     "data": {
      "text/html": [
       "<style>#sk-container-id-3 {color: black;background-color: white;}#sk-container-id-3 pre{padding: 0;}#sk-container-id-3 div.sk-toggleable {background-color: white;}#sk-container-id-3 label.sk-toggleable__label {cursor: pointer;display: block;width: 100%;margin-bottom: 0;padding: 0.3em;box-sizing: border-box;text-align: center;}#sk-container-id-3 label.sk-toggleable__label-arrow:before {content: \"▸\";float: left;margin-right: 0.25em;color: #696969;}#sk-container-id-3 label.sk-toggleable__label-arrow:hover:before {color: black;}#sk-container-id-3 div.sk-estimator:hover label.sk-toggleable__label-arrow:before {color: black;}#sk-container-id-3 div.sk-toggleable__content {max-height: 0;max-width: 0;overflow: hidden;text-align: left;background-color: #f0f8ff;}#sk-container-id-3 div.sk-toggleable__content pre {margin: 0.2em;color: black;border-radius: 0.25em;background-color: #f0f8ff;}#sk-container-id-3 input.sk-toggleable__control:checked~div.sk-toggleable__content {max-height: 200px;max-width: 100%;overflow: auto;}#sk-container-id-3 input.sk-toggleable__control:checked~label.sk-toggleable__label-arrow:before {content: \"▾\";}#sk-container-id-3 div.sk-estimator input.sk-toggleable__control:checked~label.sk-toggleable__label {background-color: #d4ebff;}#sk-container-id-3 div.sk-label input.sk-toggleable__control:checked~label.sk-toggleable__label {background-color: #d4ebff;}#sk-container-id-3 input.sk-hidden--visually {border: 0;clip: rect(1px 1px 1px 1px);clip: rect(1px, 1px, 1px, 1px);height: 1px;margin: -1px;overflow: hidden;padding: 0;position: absolute;width: 1px;}#sk-container-id-3 div.sk-estimator {font-family: monospace;background-color: #f0f8ff;border: 1px dotted black;border-radius: 0.25em;box-sizing: border-box;margin-bottom: 0.5em;}#sk-container-id-3 div.sk-estimator:hover {background-color: #d4ebff;}#sk-container-id-3 div.sk-parallel-item::after {content: \"\";width: 100%;border-bottom: 1px solid gray;flex-grow: 1;}#sk-container-id-3 div.sk-label:hover label.sk-toggleable__label {background-color: #d4ebff;}#sk-container-id-3 div.sk-serial::before {content: \"\";position: absolute;border-left: 1px solid gray;box-sizing: border-box;top: 0;bottom: 0;left: 50%;z-index: 0;}#sk-container-id-3 div.sk-serial {display: flex;flex-direction: column;align-items: center;background-color: white;padding-right: 0.2em;padding-left: 0.2em;position: relative;}#sk-container-id-3 div.sk-item {position: relative;z-index: 1;}#sk-container-id-3 div.sk-parallel {display: flex;align-items: stretch;justify-content: center;background-color: white;position: relative;}#sk-container-id-3 div.sk-item::before, #sk-container-id-3 div.sk-parallel-item::before {content: \"\";position: absolute;border-left: 1px solid gray;box-sizing: border-box;top: 0;bottom: 0;left: 50%;z-index: -1;}#sk-container-id-3 div.sk-parallel-item {display: flex;flex-direction: column;z-index: 1;position: relative;background-color: white;}#sk-container-id-3 div.sk-parallel-item:first-child::after {align-self: flex-end;width: 50%;}#sk-container-id-3 div.sk-parallel-item:last-child::after {align-self: flex-start;width: 50%;}#sk-container-id-3 div.sk-parallel-item:only-child::after {width: 0;}#sk-container-id-3 div.sk-dashed-wrapped {border: 1px dashed gray;margin: 0 0.4em 0.5em 0.4em;box-sizing: border-box;padding-bottom: 0.4em;background-color: white;}#sk-container-id-3 div.sk-label label {font-family: monospace;font-weight: bold;display: inline-block;line-height: 1.2em;}#sk-container-id-3 div.sk-label-container {text-align: center;}#sk-container-id-3 div.sk-container {/* jupyter's `normalize.less` sets `[hidden] { display: none; }` but bootstrap.min.css set `[hidden] { display: none !important; }` so we also need the `!important` here to be able to override the default hidden behavior on the sphinx rendered scikit-learn.org. See: https://github.com/scikit-learn/scikit-learn/issues/21755 */display: inline-block !important;position: relative;}#sk-container-id-3 div.sk-text-repr-fallback {display: none;}</style><div id=\"sk-container-id-3\" class=\"sk-top-container\"><div class=\"sk-text-repr-fallback\"><pre>RandomForestClassifier(max_depth=6, min_samples_leaf=100, min_samples_split=100,\n",
       "                       n_estimators=50)</pre><b>In a Jupyter environment, please rerun this cell to show the HTML representation or trust the notebook. <br />On GitHub, the HTML representation is unable to render, please try loading this page with nbviewer.org.</b></div><div class=\"sk-container\" hidden><div class=\"sk-item\"><div class=\"sk-estimator sk-toggleable\"><input class=\"sk-toggleable__control sk-hidden--visually\" id=\"sk-estimator-id-5\" type=\"checkbox\" checked><label for=\"sk-estimator-id-5\" class=\"sk-toggleable__label sk-toggleable__label-arrow\">RandomForestClassifier</label><div class=\"sk-toggleable__content\"><pre>RandomForestClassifier(max_depth=6, min_samples_leaf=100, min_samples_split=100,\n",
       "                       n_estimators=50)</pre></div></div></div></div></div>"
      ],
      "text/plain": [
       "RandomForestClassifier(max_depth=6, min_samples_leaf=100, min_samples_split=100,\n",
       "                       n_estimators=50)"
      ]
     },
     "execution_count": 137,
     "metadata": {},
     "output_type": "execute_result"
    }
   ],
   "source": [
    "rf = RandomForestClassifier(n_estimators =50,min_samples_split=100,min_samples_leaf=100,max_features ='sqrt',max_depth =6)\n",
    "rf.fit(X_train_drop,y_train)"
   ]
  },
  {
   "cell_type": "code",
   "execution_count": 151,
   "id": "7cf4156c",
   "metadata": {},
   "outputs": [
    {
     "name": "stdout",
     "output_type": "stream",
     "text": [
      "Accuracy 0.89978142961224\n",
      "Precision 0.7238372093023255\n",
      "Recall 0.1788793103448276\n",
      "F1 0.28686635944700456\n",
      "AUC 0.7846301922594947\n",
      "GINI 0.5692603845189894\n",
      "Confusion Matrix [[10866    95]\n",
      " [ 1143   249]]\n"
     ]
    },
    {
     "data": {
      "image/png": "[encoded data removed]",
      "text/plain": [
       "<Figure size 640x480 with 2 Axes>"
      ]
     },
     "metadata": {},
     "output_type": "display_data"
    }
   ],
   "source": [
    "rf_eval = evaluate_model(rf,X_test_drop,y_test)\n",
    "\n",
    "print(\"Accuracy\",rf_eval['acc'])\n",
    "print(\"Precision\",rf_eval['prec'])\n",
    "print(\"Recall\",rf_eval['rec'])\n",
    "print(\"F1\",rf_eval['f1'])\n",
    "print(\"AUC\",rf_eval['auc'])\n",
    "print(\"GINI\",2*rf_eval['auc'] -1 )\n",
    "print(\"Confusion Matrix\",rf_eval['cm'])"
   ]
  },
  {
   "cell_type": "code",
   "execution_count": 152,
   "id": "f1ee4791",
   "metadata": {},
   "outputs": [
    {
     "name": "stdout",
     "output_type": "stream",
     "text": [
      "Accuracy 0.8994206016028866\n",
      "Precision 0.7121951219512195\n",
      "Recall 0.17985833076686172\n",
      "F1 0.2871895746250307\n",
      "AUC 0.8004625055596182\n",
      "GINI 0.6009250111192364\n",
      "Confusion Matrix [[25340   236]\n",
      " [ 2663   584]]\n"
     ]
    },
    {
     "data": {
      "image/png": "[encoded data removed]",
      "text/plain": [
       "<Figure size 640x480 with 2 Axes>"
      ]
     },
     "metadata": {},
     "output_type": "display_data"
    }
   ],
   "source": [
    "rf_eval_train = evaluate_model(rf,X_train_drop,y_train)\n",
    "\n",
    "print(\"Accuracy\",rf_eval_train['acc'])\n",
    "print(\"Precision\",rf_eval_train['prec'])\n",
    "print(\"Recall\",rf_eval_train['rec'])\n",
    "print(\"F1\",rf_eval_train['f1'])\n",
    "print(\"AUC\",rf_eval_train['auc'])\n",
    "print(\"GINI\",2*rf_eval_train['auc'] -1 )\n",
    "print(\"Confusion Matrix\",rf_eval_train['cm'])"
   ]
  },
  {
   "cell_type": "code",
   "execution_count": 140,
   "id": "49d8341d",
   "metadata": {},
   "outputs": [
    {
     "data": {
      "text/plain": [
       "Text(0.5, 1.0, 'Global Feature Importance - Built-in Method')"
      ]
     },
     "execution_count": 140,
     "metadata": {},
     "output_type": "execute_result"
    },
    {
     "data": {
      "image/png": "[encoded data removed]",
      "text/plain": [
       "<Figure size 640x480 with 1 Axes>"
      ]
     },
     "metadata": {},
     "output_type": "display_data"
    }
   ],
   "source": [
    "global_importances = pd.Series(rf.feature_importances_, index=X_train_drop.columns)\n",
    "global_importances.sort_values(ascending=True, inplace=True)\n",
    "global_importances.plot.barh(color='green')\n",
    "plt.xlabel(\"Importance\")\n",
    "plt.ylabel(\"Feature\")\n",
    "plt.title(\"Global Feature Importance - Built-in Method\")"
   ]
  },
  {
   "cell_type": "code",
   "execution_count": 141,
   "id": "04bd8ef0",
   "metadata": {},
   "outputs": [
    {
     "data": {
      "text/plain": [
       "job_blue-collar         0.001515\n",
       "month_sep               0.005429\n",
       "month_oct               0.006620\n",
       "month_may               0.011918\n",
       "contact_telephone       0.012380\n",
       "month_apr               0.013977\n",
       "month_jun               0.015626\n",
       "contact_cellular        0.016638\n",
       "poutcome_failure        0.022660\n",
       "age                     0.024271\n",
       "previous                0.025730\n",
       "month_mar               0.028510\n",
       "poutcome_nonexistent    0.038581\n",
       "cons.conf.idx           0.099713\n",
       "poutcome_success        0.134399\n",
       "pdays                   0.165050\n",
       "euribor3m               0.376984\n",
       "dtype: float64"
      ]
     },
     "execution_count": 141,
     "metadata": {},
     "output_type": "execute_result"
    }
   ],
   "source": [
    "global_importances"
   ]
  },
  {
   "cell_type": "code",
   "execution_count": 143,
   "id": "a8905974",
   "metadata": {},
   "outputs": [],
   "source": [
    "global_importances.to_excel(\"RF_varimp.xlsx\",sheet_name='IV_sheet')"
   ]
  },
  {
   "cell_type": "code",
   "execution_count": 144,
   "id": "73225c10",
   "metadata": {},
   "outputs": [
    {
     "name": "stdout",
     "output_type": "stream",
     "text": [
      "<class 'pandas.core.frame.DataFrame'>\n",
      "Int64Index: 28823 entries, 22708 to 34052\n",
      "Data columns (total 17 columns):\n",
      " #   Column                Non-Null Count  Dtype  \n",
      "---  ------                --------------  -----  \n",
      " 0   age                   28823 non-null  float64\n",
      " 1   pdays                 28823 non-null  float64\n",
      " 2   previous              28823 non-null  float64\n",
      " 3   cons.conf.idx         28823 non-null  float64\n",
      " 4   euribor3m             28823 non-null  float64\n",
      " 5   job_blue-collar       28823 non-null  uint8  \n",
      " 6   contact_cellular      28823 non-null  uint8  \n",
      " 7   contact_telephone     28823 non-null  uint8  \n",
      " 8   month_apr             28823 non-null  uint8  \n",
      " 9   month_jun             28823 non-null  uint8  \n",
      " 10  month_mar             28823 non-null  uint8  \n",
      " 11  month_may             28823 non-null  uint8  \n",
      " 12  month_oct             28823 non-null  uint8  \n",
      " 13  month_sep             28823 non-null  uint8  \n",
      " 14  poutcome_failure      28823 non-null  uint8  \n",
      " 15  poutcome_nonexistent  28823 non-null  uint8  \n",
      " 16  poutcome_success      28823 non-null  uint8  \n",
      "dtypes: float64(5), uint8(12)\n",
      "memory usage: 1.6 MB\n"
     ]
    }
   ],
   "source": [
    "X_train_drop.info()"
   ]
  },
  {
   "cell_type": "code",
   "execution_count": 145,
   "id": "f34be8b0",
   "metadata": {},
   "outputs": [
    {
     "data": {
      "text/plain": [
       "['age',\n",
       " 'campaign',\n",
       " 'pdays',\n",
       " 'previous',\n",
       " 'emp.var.rate',\n",
       " 'cons.price.idx',\n",
       " 'cons.conf.idx',\n",
       " 'euribor3m',\n",
       " 'nr.employed']"
      ]
     },
     "execution_count": 145,
     "metadata": {},
     "output_type": "execute_result"
    }
   ],
   "source": [
    "num_cols"
   ]
  },
  {
   "cell_type": "code",
   "execution_count": 146,
   "id": "fd949fda",
   "metadata": {},
   "outputs": [
    {
     "data": {
      "text/plain": [
       "['job', 'marital', 'education', 'contact', 'month', 'day_of_week', 'poutcome']"
      ]
     },
     "execution_count": 146,
     "metadata": {},
     "output_type": "execute_result"
    }
   ],
   "source": [
    "cat_cols"
   ]
  },
  {
   "cell_type": "code",
   "execution_count": 147,
   "id": "7b00c928",
   "metadata": {},
   "outputs": [
    {
     "name": "stdout",
     "output_type": "stream",
     "text": [
      "<class 'pandas.core.frame.DataFrame'>\n",
      "Int64Index: 28823 entries, 22708 to 34052\n",
      "Data columns (total 20 columns):\n",
      " #   Column          Non-Null Count  Dtype  \n",
      "---  ------          --------------  -----  \n",
      " 0   age             28823 non-null  int64  \n",
      " 1   job             28823 non-null  object \n",
      " 2   marital         28823 non-null  object \n",
      " 3   education       28823 non-null  object \n",
      " 4   default         28823 non-null  object \n",
      " 5   housing         28823 non-null  object \n",
      " 6   loan            28823 non-null  object \n",
      " 7   contact         28823 non-null  object \n",
      " 8   month           28823 non-null  object \n",
      " 9   day_of_week     28823 non-null  object \n",
      " 10  campaign        28823 non-null  int64  \n",
      " 11  pdays           28823 non-null  int64  \n",
      " 12  previous        28823 non-null  int64  \n",
      " 13  poutcome        28823 non-null  object \n",
      " 14  emp.var.rate    28823 non-null  float64\n",
      " 15  cons.price.idx  28823 non-null  float64\n",
      " 16  cons.conf.idx   28823 non-null  float64\n",
      " 17  euribor3m       28823 non-null  float64\n",
      " 18  nr.employed     28823 non-null  float64\n",
      " 19  y               28823 non-null  int64  \n",
      "dtypes: float64(5), int64(5), object(10)\n",
      "memory usage: 4.6+ MB\n"
     ]
    }
   ],
   "source": [
    "train.info()"
   ]
  },
  {
   "cell_type": "code",
   "execution_count": 148,
   "id": "e86a6e91",
   "metadata": {},
   "outputs": [],
   "source": [
    "var_imp_train = train[['euribor3m','pdays','poutcome','cons.conf.idx','month','previous','age','contact','job','y']]"
   ]
  },
  {
   "cell_type": "code",
   "execution_count": 149,
   "id": "2cd380ae",
   "metadata": {},
   "outputs": [
    {
     "data": {
      "text/html": [
       "<div>\n",
       "<style scoped>\n",
       "    .dataframe tbody tr th:only-of-type {\n",
       "        vertical-align: middle;\n",
       "    }\n",
       "\n",
       "    .dataframe tbody tr th {\n",
       "        vertical-align: top;\n",
       "    }\n",
       "\n",
       "    .dataframe thead th {\n",
       "        text-align: right;\n",
       "    }\n",
       "</style>\n",
       "<table border=\"1\" class=\"dataframe\">\n",
       "  <thead>\n",
       "    <tr style=\"text-align: right;\">\n",
       "      <th></th>\n",
       "      <th>euribor3m</th>\n",
       "      <th>pdays</th>\n",
       "      <th>poutcome</th>\n",
       "      <th>cons.conf.idx</th>\n",
       "      <th>month</th>\n",
       "      <th>previous</th>\n",
       "      <th>age</th>\n",
       "      <th>contact</th>\n",
       "      <th>job</th>\n",
       "      <th>y</th>\n",
       "    </tr>\n",
       "  </thead>\n",
       "  <tbody>\n",
       "    <tr>\n",
       "      <th>22708</th>\n",
       "      <td>4.964</td>\n",
       "      <td>999</td>\n",
       "      <td>nonexistent</td>\n",
       "      <td>-36.1</td>\n",
       "      <td>aug</td>\n",
       "      <td>0</td>\n",
       "      <td>39</td>\n",
       "      <td>cellular</td>\n",
       "      <td>admin.</td>\n",
       "      <td>0</td>\n",
       "    </tr>\n",
       "    <tr>\n",
       "      <th>28573</th>\n",
       "      <td>1.415</td>\n",
       "      <td>999</td>\n",
       "      <td>nonexistent</td>\n",
       "      <td>-47.1</td>\n",
       "      <td>apr</td>\n",
       "      <td>0</td>\n",
       "      <td>21</td>\n",
       "      <td>cellular</td>\n",
       "      <td>admin.</td>\n",
       "      <td>0</td>\n",
       "    </tr>\n",
       "    <tr>\n",
       "      <th>9537</th>\n",
       "      <td>4.961</td>\n",
       "      <td>999</td>\n",
       "      <td>nonexistent</td>\n",
       "      <td>-41.8</td>\n",
       "      <td>jun</td>\n",
       "      <td>0</td>\n",
       "      <td>43</td>\n",
       "      <td>telephone</td>\n",
       "      <td>technician</td>\n",
       "      <td>0</td>\n",
       "    </tr>\n",
       "    <tr>\n",
       "      <th>8441</th>\n",
       "      <td>4.864</td>\n",
       "      <td>999</td>\n",
       "      <td>nonexistent</td>\n",
       "      <td>-41.8</td>\n",
       "      <td>jun</td>\n",
       "      <td>0</td>\n",
       "      <td>30</td>\n",
       "      <td>telephone</td>\n",
       "      <td>admin.</td>\n",
       "      <td>0</td>\n",
       "    </tr>\n",
       "    <tr>\n",
       "      <th>1358</th>\n",
       "      <td>4.855</td>\n",
       "      <td>999</td>\n",
       "      <td>nonexistent</td>\n",
       "      <td>-36.4</td>\n",
       "      <td>may</td>\n",
       "      <td>0</td>\n",
       "      <td>41</td>\n",
       "      <td>telephone</td>\n",
       "      <td>admin.</td>\n",
       "      <td>0</td>\n",
       "    </tr>\n",
       "    <tr>\n",
       "      <th>...</th>\n",
       "      <td>...</td>\n",
       "      <td>...</td>\n",
       "      <td>...</td>\n",
       "      <td>...</td>\n",
       "      <td>...</td>\n",
       "      <td>...</td>\n",
       "      <td>...</td>\n",
       "      <td>...</td>\n",
       "      <td>...</td>\n",
       "      <td>...</td>\n",
       "    </tr>\n",
       "    <tr>\n",
       "      <th>15812</th>\n",
       "      <td>4.960</td>\n",
       "      <td>999</td>\n",
       "      <td>nonexistent</td>\n",
       "      <td>-42.7</td>\n",
       "      <td>jul</td>\n",
       "      <td>0</td>\n",
       "      <td>56</td>\n",
       "      <td>cellular</td>\n",
       "      <td>housemaid</td>\n",
       "      <td>0</td>\n",
       "    </tr>\n",
       "    <tr>\n",
       "      <th>34049</th>\n",
       "      <td>1.281</td>\n",
       "      <td>999</td>\n",
       "      <td>failure</td>\n",
       "      <td>-46.2</td>\n",
       "      <td>may</td>\n",
       "      <td>1</td>\n",
       "      <td>34</td>\n",
       "      <td>cellular</td>\n",
       "      <td>admin.</td>\n",
       "      <td>0</td>\n",
       "    </tr>\n",
       "    <tr>\n",
       "      <th>3097</th>\n",
       "      <td>4.860</td>\n",
       "      <td>999</td>\n",
       "      <td>nonexistent</td>\n",
       "      <td>-36.4</td>\n",
       "      <td>may</td>\n",
       "      <td>0</td>\n",
       "      <td>60</td>\n",
       "      <td>telephone</td>\n",
       "      <td>unknown</td>\n",
       "      <td>0</td>\n",
       "    </tr>\n",
       "    <tr>\n",
       "      <th>26234</th>\n",
       "      <td>4.076</td>\n",
       "      <td>999</td>\n",
       "      <td>nonexistent</td>\n",
       "      <td>-42.0</td>\n",
       "      <td>nov</td>\n",
       "      <td>0</td>\n",
       "      <td>40</td>\n",
       "      <td>cellular</td>\n",
       "      <td>services</td>\n",
       "      <td>0</td>\n",
       "    </tr>\n",
       "    <tr>\n",
       "      <th>34052</th>\n",
       "      <td>1.281</td>\n",
       "      <td>999</td>\n",
       "      <td>nonexistent</td>\n",
       "      <td>-46.2</td>\n",
       "      <td>may</td>\n",
       "      <td>0</td>\n",
       "      <td>44</td>\n",
       "      <td>cellular</td>\n",
       "      <td>blue-collar</td>\n",
       "      <td>0</td>\n",
       "    </tr>\n",
       "  </tbody>\n",
       "</table>\n",
       "<p>28823 rows × 10 columns</p>\n",
       "</div>"
      ],
      "text/plain": [
       "       euribor3m  pdays     poutcome  cons.conf.idx month  previous  age  \\\n",
       "22708      4.964    999  nonexistent          -36.1   aug         0   39   \n",
       "28573      1.415    999  nonexistent          -47.1   apr         0   21   \n",
       "9537       4.961    999  nonexistent          -41.8   jun         0   43   \n",
       "8441       4.864    999  nonexistent          -41.8   jun         0   30   \n",
       "1358       4.855    999  nonexistent          -36.4   may         0   41   \n",
       "...          ...    ...          ...            ...   ...       ...  ...   \n",
       "15812      4.960    999  nonexistent          -42.7   jul         0   56   \n",
       "34049      1.281    999      failure          -46.2   may         1   34   \n",
       "3097       4.860    999  nonexistent          -36.4   may         0   60   \n",
       "26234      4.076    999  nonexistent          -42.0   nov         0   40   \n",
       "34052      1.281    999  nonexistent          -46.2   may         0   44   \n",
       "\n",
       "         contact          job  y  \n",
       "22708   cellular       admin.  0  \n",
       "28573   cellular       admin.  0  \n",
       "9537   telephone   technician  0  \n",
       "8441   telephone       admin.  0  \n",
       "1358   telephone       admin.  0  \n",
       "...          ...          ... ..  \n",
       "15812   cellular    housemaid  0  \n",
       "34049   cellular       admin.  0  \n",
       "3097   telephone      unknown  0  \n",
       "26234   cellular     services  0  \n",
       "34052   cellular  blue-collar  0  \n",
       "\n",
       "[28823 rows x 10 columns]"
      ]
     },
     "execution_count": 149,
     "metadata": {},
     "output_type": "execute_result"
    }
   ],
   "source": [
    "var_imp_train"
   ]
  },
  {
   "cell_type": "code",
   "execution_count": 150,
   "id": "74a8cd33",
   "metadata": {},
   "outputs": [
    {
     "name": "stdout",
     "output_type": "stream",
     "text": [
      "<class 'pandas.core.frame.DataFrame'>\n",
      "Int64Index: 28823 entries, 22708 to 34052\n",
      "Data columns (total 10 columns):\n",
      " #   Column         Non-Null Count  Dtype  \n",
      "---  ------         --------------  -----  \n",
      " 0   euribor3m      28823 non-null  float64\n",
      " 1   pdays          28823 non-null  int64  \n",
      " 2   poutcome       28823 non-null  object \n",
      " 3   cons.conf.idx  28823 non-null  float64\n",
      " 4   month          28823 non-null  object \n",
      " 5   previous       28823 non-null  int64  \n",
      " 6   age            28823 non-null  int64  \n",
      " 7   contact        28823 non-null  object \n",
      " 8   job            28823 non-null  object \n",
      " 9   y              28823 non-null  int64  \n",
      "dtypes: float64(2), int64(4), object(4)\n",
      "memory usage: 2.4+ MB\n"
     ]
    }
   ],
   "source": [
    "var_imp_train.info()"
   ]
  }
 ],
 "metadata": {
  "kernelspec": {
   "display_name": "Python 3 (ipykernel)",
   "language": "python",
   "name": "python3"
  },
  "language_info": {
   "codemirror_mode": {
    "name": "ipython",
    "version": 3
   },
   "file_extension": ".py",
   "mimetype": "text/x-python",
   "name": "python",
   "nbconvert_exporter": "python",
   "pygments_lexer": "ipython3",
   "version": "3.10.9"
  }
 },
 "nbformat": 4,
 "nbformat_minor": 5
}
