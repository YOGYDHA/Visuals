{
 "cells": [
  {
   "cell_type": "markdown",
   "id": "5f8ab41e",
   "metadata": {},
   "source": [
    "Question 1: \n",
    "Create a function to accept 2 inputs – radius of the circle and point (x,y). Based on the inputs the \n",
    "function should return if the point is inside the circle or not. Assume the center of the circle at (0,0) \n",
    " Example 1 – if the radius is 1 and the point is (0.2,0.2) it should return inside \n",
    " Example 2 – if the radius is 2 and the point is (-4,-4) it should return outside \n",
    " If the radius is 0 / negative it should return an error message - radius has to be a positive number"
   ]
  },
  {
   "cell_type": "code",
   "execution_count": null,
   "id": "a8394713",
   "metadata": {},
   "outputs": [],
   "source": [
    "# Based on the question we can calculate euclidean distance from the center of the circle to the point \n",
    "# If the distance is less than or equal to radius of the circle then point is inside else it is outside "
   ]
  },
  {
   "cell_type": "code",
   "execution_count": 2,
   "id": "92b27e07",
   "metadata": {},
   "outputs": [],
   "source": [
    "def isInside(circle_x, circle_y, rad, x, y):\n",
    "     \n",
    "    # Compare radius of circle\n",
    "    # with distance of its center\n",
    "    # from given point\n",
    "    # circle_x and circle_y is the centre of the circle \n",
    "    \n",
    "    if rad <0 or rad ==0 : \n",
    "        msg = \"Radius has to be a positive number\"\n",
    "        return msg;\n",
    "    elif ((x - circle_x) * (x - circle_x) +\n",
    "        (y - circle_y) * (y - circle_y) <= rad * rad):\n",
    "        return True;\n",
    "    else:\n",
    "        return False;"
   ]
  },
  {
   "cell_type": "code",
   "execution_count": 3,
   "id": "300a6662",
   "metadata": {},
   "outputs": [
    {
     "data": {
      "text/plain": [
       "True"
      ]
     },
     "execution_count": 3,
     "metadata": {},
     "output_type": "execute_result"
    }
   ],
   "source": [
    "isInside(0, 0, 1, 0.2, 0.2)"
   ]
  },
  {
   "cell_type": "code",
   "execution_count": 4,
   "id": "9ab94137",
   "metadata": {},
   "outputs": [
    {
     "data": {
      "text/plain": [
       "False"
      ]
     },
     "execution_count": 4,
     "metadata": {},
     "output_type": "execute_result"
    }
   ],
   "source": [
    "isInside(0, 0, 2, -4, -4)\n"
   ]
  },
  {
   "cell_type": "code",
   "execution_count": 5,
   "id": "b2ae55b4",
   "metadata": {},
   "outputs": [
    {
     "data": {
      "text/plain": [
       "'Radius has to be a positive number'"
      ]
     },
     "execution_count": 5,
     "metadata": {},
     "output_type": "execute_result"
    }
   ],
   "source": [
    "isInside(0, 0, -4, -4, -4)"
   ]
  },
  {
   "cell_type": "code",
   "execution_count": 6,
   "id": "67ab1c9a",
   "metadata": {},
   "outputs": [
    {
     "data": {
      "text/plain": [
       "'Radius has to be a positive number'"
      ]
     },
     "execution_count": 6,
     "metadata": {},
     "output_type": "execute_result"
    }
   ],
   "source": [
    "isInside(0, 0, 0, -4, -4)"
   ]
  },
  {
   "cell_type": "markdown",
   "id": "660de4c6",
   "metadata": {},
   "source": [
    "Question 2: \n",
    "Create a function to return the maximum number of combinations for a given number of dices. The \n",
    "function accepts 2 inputs – number of dice(s) and number of faces of each dice. Assume that all \n",
    "dice(s) have same number of faces\n",
    " Example 1 – if the number of dice is 2 and the number of faces is 6 it should return 36\n",
    " Example 2 – if the number of dice is 3 and the number of sides is 3 it should return 27\n",
    " If the number of dice is 0 / negative or number of sides is less than 2 it should return an error \n",
    "message "
   ]
  },
  {
   "cell_type": "code",
   "execution_count": 12,
   "id": "b3564195",
   "metadata": {},
   "outputs": [],
   "source": [
    "def maxcombinations(n_dices, n_faces):\n",
    "    \n",
    "    if n_dices <0 or n_dices == 0 or n_faces <2 : \n",
    "        msg = \"Error.Please enter correct input\"\n",
    "        return msg;\n",
    "    else:\n",
    "        return n_faces**n_dices;"
   ]
  },
  {
   "cell_type": "code",
   "execution_count": 13,
   "id": "b7b4c000",
   "metadata": {},
   "outputs": [
    {
     "data": {
      "text/plain": [
       "36"
      ]
     },
     "execution_count": 13,
     "metadata": {},
     "output_type": "execute_result"
    }
   ],
   "source": [
    "maxcombinations(2,6)"
   ]
  },
  {
   "cell_type": "code",
   "execution_count": 14,
   "id": "11f7bef6",
   "metadata": {},
   "outputs": [
    {
     "data": {
      "text/plain": [
       "27"
      ]
     },
     "execution_count": 14,
     "metadata": {},
     "output_type": "execute_result"
    }
   ],
   "source": [
    "maxcombinations(3,3)"
   ]
  },
  {
   "cell_type": "code",
   "execution_count": 15,
   "id": "27e6ee83",
   "metadata": {},
   "outputs": [
    {
     "data": {
      "text/plain": [
       "'Error.Please enter correct input'"
      ]
     },
     "execution_count": 15,
     "metadata": {},
     "output_type": "execute_result"
    }
   ],
   "source": [
    "maxcombinations(0,6)"
   ]
  },
  {
   "cell_type": "code",
   "execution_count": 16,
   "id": "f3c26683",
   "metadata": {},
   "outputs": [
    {
     "data": {
      "text/plain": [
       "'Error.Please enter correct input'"
      ]
     },
     "execution_count": 16,
     "metadata": {},
     "output_type": "execute_result"
    }
   ],
   "source": [
    "maxcombinations(2,1)"
   ]
  },
  {
   "cell_type": "markdown",
   "id": "95ae5a06",
   "metadata": {},
   "source": [
    "Question 3: \n",
    "Create a function that accepts a list of random numbers (1000 points) and number of bins as inputs. \n",
    "The output of this function is a histogram along with KDE plot. Please make the plot visually appealing \n",
    "(put in some colors). "
   ]
  },
  {
   "cell_type": "code",
   "execution_count": 17,
   "id": "5d8cca10",
   "metadata": {},
   "outputs": [],
   "source": [
    "## Importing libraries"
   ]
  },
  {
   "cell_type": "code",
   "execution_count": 29,
   "id": "64b1953e",
   "metadata": {},
   "outputs": [],
   "source": [
    "import matplotlib.pyplot as plt\n",
    "import pandas as pd\n",
    "import seaborn as sns\n",
    "import numpy as np"
   ]
  },
  {
   "cell_type": "code",
   "execution_count": 30,
   "id": "eafadb39",
   "metadata": {},
   "outputs": [],
   "source": [
    "def hist_kde(list_len , n_bins):\n",
    "    N = list_len\n",
    "    nums = [np.random.randint(-10, 10) for i in range(N)]\n",
    "    df = pd.DataFrame(nums, columns=[\"value\"])\n",
    "    sns.histplot(data=df,bins =n_bins,color= 'navy',kde=True)\n",
    "    "
   ]
  },
  {
   "cell_type": "code",
   "execution_count": 43,
   "id": "212ba2d6",
   "metadata": {},
   "outputs": [
    {
     "data": {
      "image/png": "[encoded data removed]",
      "text/plain": [
       "<Figure size 640x480 with 1 Axes>"
      ]
     },
     "metadata": {},
     "output_type": "display_data"
    }
   ],
   "source": [
    "hist_kde(1000,15)"
   ]
  },
  {
   "cell_type": "code",
   "execution_count": null,
   "id": "17ca902b",
   "metadata": {},
   "outputs": [],
   "source": []
  }
 ],
 "metadata": {
  "kernelspec": {
   "display_name": "Python 3 (ipykernel)",
   "language": "python",
   "name": "python3"
  },
  "language_info": {
   "codemirror_mode": {
    "name": "ipython",
    "version": 3
   },
   "file_extension": ".py",
   "mimetype": "text/x-python",
   "name": "python",
   "nbconvert_exporter": "python",
   "pygments_lexer": "ipython3",
   "version": "3.9.13"
  }
 },
 "nbformat": 4,
 "nbformat_minor": 5
}
